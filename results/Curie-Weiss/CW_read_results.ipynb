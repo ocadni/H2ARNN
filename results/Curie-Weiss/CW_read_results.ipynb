{
 "cells": [
  {
   "cell_type": "code",
   "execution_count": null,
   "metadata": {},
   "outputs": [
    {
     "ename": "",
     "evalue": "",
     "output_type": "error",
     "traceback": [
      "\u001b[1;31mNon è stato possibile avviare il kernel. \n",
      "\u001b[1;31mspawn /conda ENOENT. \n",
      "\u001b[1;31mPer ulteriori dettagli, visualizzare Jupyter <a href='command:jupyter.viewOutput'>log</a>."
     ]
    }
   ],
   "source": [
    "import networkx as nx\n",
    "import numpy as np\n",
    "import torch\n",
    "import importlib\n",
    "import pandas as pd\n"
   ]
  },
  {
   "cell_type": "code",
   "execution_count": 2,
   "metadata": {},
   "outputs": [],
   "source": [
    "%matplotlib inline"
   ]
  },
  {
   "cell_type": "markdown",
   "metadata": {},
   "source": [
    "# Curie Weiss"
   ]
  },
  {
   "cell_type": "code",
   "execution_count": 6,
   "metadata": {},
   "outputs": [
    {
     "data": {
      "image/png": "[encoded data removed]",
      "text/plain": [
       "<Figure size 640x480 with 1 Axes>"
      ]
     },
     "metadata": {},
     "output_type": "display_data"
    }
   ],
   "source": [
    "import importlib\n",
    "import matplotlib.pyplot as plt\n",
    "\n",
    "N = 1000\n",
    "fig, ax0 = plt.subplots(1,1)\n",
    "J_interaction = torch.ones(N,N) - torch.eye(N, N)\n",
    "\n",
    "inter_H = 0\n",
    "H = inter_H * (torch.ones(N))\n",
    "\n",
    "if N < 200:\n",
    "    graph_gen.plot_matrix_graph(J_interaction, ax0)\n",
    "JJ=1\n",
    "J_val = JJ/(2*N)\n",
    "J = J_val * J_interaction\n",
    "\n",
    "#N_rand, J_interaction_rand = graph_gen.tree_interaction(Degree, Height, rand=True)"
   ]
  },
  {
   "cell_type": "markdown",
   "metadata": {},
   "source": [
    "# Exact solutions\n",
    "enumerating all configurations.\n",
    "Th. results"
   ]
  },
  {
   "cell_type": "code",
   "execution_count": 7,
   "metadata": {},
   "outputs": [],
   "source": [
    "from python_lib.models import spins_model\n",
    "import python_lib.models\n",
    "importlib.reload(spins_model)\n",
    "from python_lib.models import spins_model\n",
    "\n",
    "device=\"cpu\"\n",
    "#device=\"mps\"\n",
    "CW_model = spins_model.model(N, H, J, J_interaction, device=device)\n",
    "beta_fin=2.0\n",
    "\n",
    "beta_init = 0.1\n",
    "step = 0.05\n",
    "betas = np.arange(beta_init, beta_fin+step, step)"
   ]
  },
  {
   "cell_type": "code",
   "execution_count": 8,
   "metadata": {},
   "outputs": [],
   "source": [
    "from python_lib.models import spins_model\n",
    "importlib.reload(spins_model)\n",
    "\n",
    "CW_model_exact = spins_model.KW_exact_fast(N, H, J, J_interaction, device=\"cpu\")\n",
    "f_exact = []\n",
    "f_exact_infN = []\n",
    "for beta_ in betas:\n",
    "    f_exact.append(CW_model_exact.exact(beta_))\n",
    "    f_exact_infN.append(CW_model_exact.exact_infN(beta_))"
   ]
  },
  {
   "cell_type": "code",
   "execution_count": 9,
   "metadata": {},
   "outputs": [
    {
     "data": {
      "text/plain": [
       "{'beta': 0.1,\n",
       " 'free_energy': -6.9310218272248285,\n",
       " 'free_energy_std': 0,\n",
       " 'mag_mean': 0.00999966715492648}"
      ]
     },
     "execution_count": 9,
     "metadata": {},
     "output_type": "execute_result"
    }
   ],
   "source": [
    "f_exact_infN[0]"
   ]
  },
  {
   "cell_type": "code",
   "execution_count": 196,
   "metadata": {},
   "outputs": [
    {
     "data": {
      "text/plain": [
       "0.0"
      ]
     },
     "execution_count": 196,
     "metadata": {},
     "output_type": "execute_result"
    }
   ],
   "source": [
    "CW_model_exact.H[0].item()"
   ]
  },
  {
   "cell_type": "code",
   "execution_count": 197,
   "metadata": {},
   "outputs": [],
   "source": [
    "data_exact = pd.DataFrame(f_exact)\n",
    "f_exact_infN_pd = pd.DataFrame(f_exact_infN)\n",
    "f_exact_infN_pd = f_exact_infN_pd.add_suffix(\"_inf\")\n"
   ]
  },
  {
   "cell_type": "code",
   "execution_count": 198,
   "metadata": {},
   "outputs": [],
   "source": [
    "data = data_exact\n",
    "data = pd.concat([data, f_exact_infN_pd], axis = 1)\n"
   ]
  },
  {
   "cell_type": "code",
   "execution_count": 199,
   "metadata": {},
   "outputs": [
    {
     "data": {
      "text/html": [
       "<div>\n",
       "<style scoped>\n",
       "    .dataframe tbody tr th:only-of-type {\n",
       "        vertical-align: middle;\n",
       "    }\n",
       "\n",
       "    .dataframe tbody tr th {\n",
       "        vertical-align: top;\n",
       "    }\n",
       "\n",
       "    .dataframe thead th {\n",
       "        text-align: right;\n",
       "    }\n",
       "</style>\n",
       "<table border=\"1\" class=\"dataframe\">\n",
       "  <thead>\n",
       "    <tr style=\"text-align: right;\">\n",
       "      <th></th>\n",
       "      <th>beta</th>\n",
       "      <th>free_energy</th>\n",
       "      <th>free_energy_std</th>\n",
       "      <th>mag_mean</th>\n",
       "      <th>beta_inf</th>\n",
       "      <th>free_energy_inf</th>\n",
       "      <th>free_energy_std_inf</th>\n",
       "      <th>mag_mean_inf</th>\n",
       "    </tr>\n",
       "  </thead>\n",
       "  <tbody>\n",
       "    <tr>\n",
       "      <th>0</th>\n",
       "      <td>0.10</td>\n",
       "      <td>-inf</td>\n",
       "      <td>0</td>\n",
       "      <td>NaN</td>\n",
       "      <td>0.10</td>\n",
       "      <td>-6.931022</td>\n",
       "      <td>0</td>\n",
       "      <td>0.010000</td>\n",
       "    </tr>\n",
       "    <tr>\n",
       "      <th>1</th>\n",
       "      <td>0.15</td>\n",
       "      <td>-inf</td>\n",
       "      <td>0</td>\n",
       "      <td>NaN</td>\n",
       "      <td>0.15</td>\n",
       "      <td>-4.620344</td>\n",
       "      <td>0</td>\n",
       "      <td>0.014999</td>\n",
       "    </tr>\n",
       "    <tr>\n",
       "      <th>2</th>\n",
       "      <td>0.20</td>\n",
       "      <td>-inf</td>\n",
       "      <td>0</td>\n",
       "      <td>NaN</td>\n",
       "      <td>0.20</td>\n",
       "      <td>-3.464936</td>\n",
       "      <td>0</td>\n",
       "      <td>0.019997</td>\n",
       "    </tr>\n",
       "    <tr>\n",
       "      <th>3</th>\n",
       "      <td>0.25</td>\n",
       "      <td>-inf</td>\n",
       "      <td>0</td>\n",
       "      <td>NaN</td>\n",
       "      <td>0.25</td>\n",
       "      <td>-2.771651</td>\n",
       "      <td>0</td>\n",
       "      <td>0.024995</td>\n",
       "    </tr>\n",
       "    <tr>\n",
       "      <th>4</th>\n",
       "      <td>0.30</td>\n",
       "      <td>-inf</td>\n",
       "      <td>0</td>\n",
       "      <td>NaN</td>\n",
       "      <td>0.30</td>\n",
       "      <td>-2.309441</td>\n",
       "      <td>0</td>\n",
       "      <td>0.029991</td>\n",
       "    </tr>\n",
       "    <tr>\n",
       "      <th>5</th>\n",
       "      <td>0.35</td>\n",
       "      <td>-inf</td>\n",
       "      <td>0</td>\n",
       "      <td>NaN</td>\n",
       "      <td>0.35</td>\n",
       "      <td>-1.979284</td>\n",
       "      <td>0</td>\n",
       "      <td>0.034986</td>\n",
       "    </tr>\n",
       "    <tr>\n",
       "      <th>6</th>\n",
       "      <td>0.40</td>\n",
       "      <td>-inf</td>\n",
       "      <td>0</td>\n",
       "      <td>NaN</td>\n",
       "      <td>0.40</td>\n",
       "      <td>-1.731669</td>\n",
       "      <td>0</td>\n",
       "      <td>0.039979</td>\n",
       "    </tr>\n",
       "    <tr>\n",
       "      <th>7</th>\n",
       "      <td>0.45</td>\n",
       "      <td>-inf</td>\n",
       "      <td>0</td>\n",
       "      <td>NaN</td>\n",
       "      <td>0.45</td>\n",
       "      <td>-1.539090</td>\n",
       "      <td>0</td>\n",
       "      <td>0.044970</td>\n",
       "    </tr>\n",
       "    <tr>\n",
       "      <th>8</th>\n",
       "      <td>0.50</td>\n",
       "      <td>-inf</td>\n",
       "      <td>0</td>\n",
       "      <td>NaN</td>\n",
       "      <td>0.50</td>\n",
       "      <td>-1.385045</td>\n",
       "      <td>0</td>\n",
       "      <td>0.049958</td>\n",
       "    </tr>\n",
       "    <tr>\n",
       "      <th>9</th>\n",
       "      <td>0.55</td>\n",
       "      <td>-inf</td>\n",
       "      <td>0</td>\n",
       "      <td>NaN</td>\n",
       "      <td>0.55</td>\n",
       "      <td>-1.259031</td>\n",
       "      <td>0</td>\n",
       "      <td>0.054945</td>\n",
       "    </tr>\n",
       "    <tr>\n",
       "      <th>10</th>\n",
       "      <td>0.60</td>\n",
       "      <td>-inf</td>\n",
       "      <td>0</td>\n",
       "      <td>NaN</td>\n",
       "      <td>0.60</td>\n",
       "      <td>-1.154046</td>\n",
       "      <td>0</td>\n",
       "      <td>0.059928</td>\n",
       "    </tr>\n",
       "    <tr>\n",
       "      <th>11</th>\n",
       "      <td>0.65</td>\n",
       "      <td>-inf</td>\n",
       "      <td>0</td>\n",
       "      <td>NaN</td>\n",
       "      <td>0.65</td>\n",
       "      <td>-1.065244</td>\n",
       "      <td>0</td>\n",
       "      <td>0.064909</td>\n",
       "    </tr>\n",
       "    <tr>\n",
       "      <th>12</th>\n",
       "      <td>0.70</td>\n",
       "      <td>-inf</td>\n",
       "      <td>0</td>\n",
       "      <td>NaN</td>\n",
       "      <td>0.70</td>\n",
       "      <td>-0.989161</td>\n",
       "      <td>0</td>\n",
       "      <td>0.069886</td>\n",
       "    </tr>\n",
       "    <tr>\n",
       "      <th>13</th>\n",
       "      <td>0.75</td>\n",
       "      <td>-inf</td>\n",
       "      <td>0</td>\n",
       "      <td>NaN</td>\n",
       "      <td>0.75</td>\n",
       "      <td>-0.923259</td>\n",
       "      <td>0</td>\n",
       "      <td>0.074860</td>\n",
       "    </tr>\n",
       "    <tr>\n",
       "      <th>14</th>\n",
       "      <td>0.80</td>\n",
       "      <td>-inf</td>\n",
       "      <td>0</td>\n",
       "      <td>NaN</td>\n",
       "      <td>0.80</td>\n",
       "      <td>-0.865633</td>\n",
       "      <td>0</td>\n",
       "      <td>0.079830</td>\n",
       "    </tr>\n",
       "    <tr>\n",
       "      <th>15</th>\n",
       "      <td>0.85</td>\n",
       "      <td>-inf</td>\n",
       "      <td>0</td>\n",
       "      <td>NaN</td>\n",
       "      <td>0.85</td>\n",
       "      <td>-0.814828</td>\n",
       "      <td>0</td>\n",
       "      <td>0.084796</td>\n",
       "    </tr>\n",
       "    <tr>\n",
       "      <th>16</th>\n",
       "      <td>0.90</td>\n",
       "      <td>-inf</td>\n",
       "      <td>0</td>\n",
       "      <td>NaN</td>\n",
       "      <td>0.90</td>\n",
       "      <td>-0.769710</td>\n",
       "      <td>0</td>\n",
       "      <td>0.089758</td>\n",
       "    </tr>\n",
       "    <tr>\n",
       "      <th>17</th>\n",
       "      <td>0.95</td>\n",
       "      <td>-inf</td>\n",
       "      <td>0</td>\n",
       "      <td>NaN</td>\n",
       "      <td>0.95</td>\n",
       "      <td>-0.729385</td>\n",
       "      <td>0</td>\n",
       "      <td>0.094715</td>\n",
       "    </tr>\n",
       "    <tr>\n",
       "      <th>18</th>\n",
       "      <td>1.00</td>\n",
       "      <td>-inf</td>\n",
       "      <td>0</td>\n",
       "      <td>NaN</td>\n",
       "      <td>1.00</td>\n",
       "      <td>-0.693139</td>\n",
       "      <td>0</td>\n",
       "      <td>0.099668</td>\n",
       "    </tr>\n",
       "    <tr>\n",
       "      <th>19</th>\n",
       "      <td>1.05</td>\n",
       "      <td>-inf</td>\n",
       "      <td>0</td>\n",
       "      <td>NaN</td>\n",
       "      <td>1.05</td>\n",
       "      <td>-0.661824</td>\n",
       "      <td>0</td>\n",
       "      <td>0.370697</td>\n",
       "    </tr>\n",
       "    <tr>\n",
       "      <th>20</th>\n",
       "      <td>1.10</td>\n",
       "      <td>-inf</td>\n",
       "      <td>0</td>\n",
       "      <td>NaN</td>\n",
       "      <td>1.10</td>\n",
       "      <td>-0.636215</td>\n",
       "      <td>0</td>\n",
       "      <td>0.502937</td>\n",
       "    </tr>\n",
       "    <tr>\n",
       "      <th>21</th>\n",
       "      <td>1.15</td>\n",
       "      <td>-inf</td>\n",
       "      <td>0</td>\n",
       "      <td>NaN</td>\n",
       "      <td>1.15</td>\n",
       "      <td>-0.615143</td>\n",
       "      <td>0</td>\n",
       "      <td>0.592153</td>\n",
       "    </tr>\n",
       "    <tr>\n",
       "      <th>22</th>\n",
       "      <td>1.20</td>\n",
       "      <td>-inf</td>\n",
       "      <td>0</td>\n",
       "      <td>NaN</td>\n",
       "      <td>1.20</td>\n",
       "      <td>-0.597706</td>\n",
       "      <td>0</td>\n",
       "      <td>0.658568</td>\n",
       "    </tr>\n",
       "    <tr>\n",
       "      <th>23</th>\n",
       "      <td>1.25</td>\n",
       "      <td>-inf</td>\n",
       "      <td>0</td>\n",
       "      <td>NaN</td>\n",
       "      <td>1.25</td>\n",
       "      <td>-0.583200</td>\n",
       "      <td>0</td>\n",
       "      <td>0.710411</td>\n",
       "    </tr>\n",
       "    <tr>\n",
       "      <th>24</th>\n",
       "      <td>1.30</td>\n",
       "      <td>-inf</td>\n",
       "      <td>0</td>\n",
       "      <td>NaN</td>\n",
       "      <td>1.30</td>\n",
       "      <td>-0.571075</td>\n",
       "      <td>0</td>\n",
       "      <td>0.752057</td>\n",
       "    </tr>\n",
       "    <tr>\n",
       "      <th>25</th>\n",
       "      <td>1.35</td>\n",
       "      <td>-inf</td>\n",
       "      <td>0</td>\n",
       "      <td>NaN</td>\n",
       "      <td>1.35</td>\n",
       "      <td>-0.560896</td>\n",
       "      <td>0</td>\n",
       "      <td>0.786174</td>\n",
       "    </tr>\n",
       "    <tr>\n",
       "      <th>26</th>\n",
       "      <td>1.40</td>\n",
       "      <td>-inf</td>\n",
       "      <td>0</td>\n",
       "      <td>NaN</td>\n",
       "      <td>1.40</td>\n",
       "      <td>-0.552316</td>\n",
       "      <td>0</td>\n",
       "      <td>0.814528</td>\n",
       "    </tr>\n",
       "    <tr>\n",
       "      <th>27</th>\n",
       "      <td>1.45</td>\n",
       "      <td>-inf</td>\n",
       "      <td>0</td>\n",
       "      <td>NaN</td>\n",
       "      <td>1.45</td>\n",
       "      <td>-0.545057</td>\n",
       "      <td>0</td>\n",
       "      <td>0.838356</td>\n",
       "    </tr>\n",
       "    <tr>\n",
       "      <th>28</th>\n",
       "      <td>1.50</td>\n",
       "      <td>-inf</td>\n",
       "      <td>0</td>\n",
       "      <td>NaN</td>\n",
       "      <td>1.50</td>\n",
       "      <td>-0.538894</td>\n",
       "      <td>0</td>\n",
       "      <td>0.858559</td>\n",
       "    </tr>\n",
       "    <tr>\n",
       "      <th>29</th>\n",
       "      <td>1.55</td>\n",
       "      <td>-inf</td>\n",
       "      <td>0</td>\n",
       "      <td>NaN</td>\n",
       "      <td>1.55</td>\n",
       "      <td>-0.533646</td>\n",
       "      <td>0</td>\n",
       "      <td>0.875815</td>\n",
       "    </tr>\n",
       "    <tr>\n",
       "      <th>30</th>\n",
       "      <td>1.60</td>\n",
       "      <td>-inf</td>\n",
       "      <td>0</td>\n",
       "      <td>NaN</td>\n",
       "      <td>1.60</td>\n",
       "      <td>-0.529164</td>\n",
       "      <td>0</td>\n",
       "      <td>0.890643</td>\n",
       "    </tr>\n",
       "    <tr>\n",
       "      <th>31</th>\n",
       "      <td>1.65</td>\n",
       "      <td>-inf</td>\n",
       "      <td>0</td>\n",
       "      <td>NaN</td>\n",
       "      <td>1.65</td>\n",
       "      <td>-0.525326</td>\n",
       "      <td>0</td>\n",
       "      <td>0.903453</td>\n",
       "    </tr>\n",
       "    <tr>\n",
       "      <th>32</th>\n",
       "      <td>1.70</td>\n",
       "      <td>-inf</td>\n",
       "      <td>0</td>\n",
       "      <td>NaN</td>\n",
       "      <td>1.70</td>\n",
       "      <td>-0.522030</td>\n",
       "      <td>0</td>\n",
       "      <td>0.914568</td>\n",
       "    </tr>\n",
       "    <tr>\n",
       "      <th>33</th>\n",
       "      <td>1.75</td>\n",
       "      <td>-inf</td>\n",
       "      <td>0</td>\n",
       "      <td>NaN</td>\n",
       "      <td>1.75</td>\n",
       "      <td>-0.519194</td>\n",
       "      <td>0</td>\n",
       "      <td>0.924252</td>\n",
       "    </tr>\n",
       "    <tr>\n",
       "      <th>34</th>\n",
       "      <td>1.80</td>\n",
       "      <td>-inf</td>\n",
       "      <td>0</td>\n",
       "      <td>NaN</td>\n",
       "      <td>1.80</td>\n",
       "      <td>-0.516748</td>\n",
       "      <td>0</td>\n",
       "      <td>0.932717</td>\n",
       "    </tr>\n",
       "    <tr>\n",
       "      <th>35</th>\n",
       "      <td>1.85</td>\n",
       "      <td>-inf</td>\n",
       "      <td>0</td>\n",
       "      <td>NaN</td>\n",
       "      <td>1.85</td>\n",
       "      <td>-0.514634</td>\n",
       "      <td>0</td>\n",
       "      <td>0.940141</td>\n",
       "    </tr>\n",
       "    <tr>\n",
       "      <th>36</th>\n",
       "      <td>1.90</td>\n",
       "      <td>-inf</td>\n",
       "      <td>0</td>\n",
       "      <td>NaN</td>\n",
       "      <td>1.90</td>\n",
       "      <td>-0.512803</td>\n",
       "      <td>0</td>\n",
       "      <td>0.946668</td>\n",
       "    </tr>\n",
       "    <tr>\n",
       "      <th>37</th>\n",
       "      <td>1.95</td>\n",
       "      <td>-inf</td>\n",
       "      <td>0</td>\n",
       "      <td>NaN</td>\n",
       "      <td>1.95</td>\n",
       "      <td>-0.511215</td>\n",
       "      <td>0</td>\n",
       "      <td>0.952421</td>\n",
       "    </tr>\n",
       "    <tr>\n",
       "      <th>38</th>\n",
       "      <td>2.00</td>\n",
       "      <td>-inf</td>\n",
       "      <td>0</td>\n",
       "      <td>NaN</td>\n",
       "      <td>2.00</td>\n",
       "      <td>-0.509836</td>\n",
       "      <td>0</td>\n",
       "      <td>0.957504</td>\n",
       "    </tr>\n",
       "  </tbody>\n",
       "</table>\n",
       "</div>"
      ],
      "text/plain": [
       "    beta  free_energy  free_energy_std  mag_mean  beta_inf  free_energy_inf  \\\n",
       "0   0.10         -inf                0       NaN      0.10        -6.931022   \n",
       "1   0.15         -inf                0       NaN      0.15        -4.620344   \n",
       "2   0.20         -inf                0       NaN      0.20        -3.464936   \n",
       "3   0.25         -inf                0       NaN      0.25        -2.771651   \n",
       "4   0.30         -inf                0       NaN      0.30        -2.309441   \n",
       "5   0.35         -inf                0       NaN      0.35        -1.979284   \n",
       "6   0.40         -inf                0       NaN      0.40        -1.731669   \n",
       "7   0.45         -inf                0       NaN      0.45        -1.539090   \n",
       "8   0.50         -inf                0       NaN      0.50        -1.385045   \n",
       "9   0.55         -inf                0       NaN      0.55        -1.259031   \n",
       "10  0.60         -inf                0       NaN      0.60        -1.154046   \n",
       "11  0.65         -inf                0       NaN      0.65        -1.065244   \n",
       "12  0.70         -inf                0       NaN      0.70        -0.989161   \n",
       "13  0.75         -inf                0       NaN      0.75        -0.923259   \n",
       "14  0.80         -inf                0       NaN      0.80        -0.865633   \n",
       "15  0.85         -inf                0       NaN      0.85        -0.814828   \n",
       "16  0.90         -inf                0       NaN      0.90        -0.769710   \n",
       "17  0.95         -inf                0       NaN      0.95        -0.729385   \n",
       "18  1.00         -inf                0       NaN      1.00        -0.693139   \n",
       "19  1.05         -inf                0       NaN      1.05        -0.661824   \n",
       "20  1.10         -inf                0       NaN      1.10        -0.636215   \n",
       "21  1.15         -inf                0       NaN      1.15        -0.615143   \n",
       "22  1.20         -inf                0       NaN      1.20        -0.597706   \n",
       "23  1.25         -inf                0       NaN      1.25        -0.583200   \n",
       "24  1.30         -inf                0       NaN      1.30        -0.571075   \n",
       "25  1.35         -inf                0       NaN      1.35        -0.560896   \n",
       "26  1.40         -inf                0       NaN      1.40        -0.552316   \n",
       "27  1.45         -inf                0       NaN      1.45        -0.545057   \n",
       "28  1.50         -inf                0       NaN      1.50        -0.538894   \n",
       "29  1.55         -inf                0       NaN      1.55        -0.533646   \n",
       "30  1.60         -inf                0       NaN      1.60        -0.529164   \n",
       "31  1.65         -inf                0       NaN      1.65        -0.525326   \n",
       "32  1.70         -inf                0       NaN      1.70        -0.522030   \n",
       "33  1.75         -inf                0       NaN      1.75        -0.519194   \n",
       "34  1.80         -inf                0       NaN      1.80        -0.516748   \n",
       "35  1.85         -inf                0       NaN      1.85        -0.514634   \n",
       "36  1.90         -inf                0       NaN      1.90        -0.512803   \n",
       "37  1.95         -inf                0       NaN      1.95        -0.511215   \n",
       "38  2.00         -inf                0       NaN      2.00        -0.509836   \n",
       "\n",
       "    free_energy_std_inf  mag_mean_inf  \n",
       "0                     0      0.010000  \n",
       "1                     0      0.014999  \n",
       "2                     0      0.019997  \n",
       "3                     0      0.024995  \n",
       "4                     0      0.029991  \n",
       "5                     0      0.034986  \n",
       "6                     0      0.039979  \n",
       "7                     0      0.044970  \n",
       "8                     0      0.049958  \n",
       "9                     0      0.054945  \n",
       "10                    0      0.059928  \n",
       "11                    0      0.064909  \n",
       "12                    0      0.069886  \n",
       "13                    0      0.074860  \n",
       "14                    0      0.079830  \n",
       "15                    0      0.084796  \n",
       "16                    0      0.089758  \n",
       "17                    0      0.094715  \n",
       "18                    0      0.099668  \n",
       "19                    0      0.370697  \n",
       "20                    0      0.502937  \n",
       "21                    0      0.592153  \n",
       "22                    0      0.658568  \n",
       "23                    0      0.710411  \n",
       "24                    0      0.752057  \n",
       "25                    0      0.786174  \n",
       "26                    0      0.814528  \n",
       "27                    0      0.838356  \n",
       "28                    0      0.858559  \n",
       "29                    0      0.875815  \n",
       "30                    0      0.890643  \n",
       "31                    0      0.903453  \n",
       "32                    0      0.914568  \n",
       "33                    0      0.924252  \n",
       "34                    0      0.932717  \n",
       "35                    0      0.940141  \n",
       "36                    0      0.946668  \n",
       "37                    0      0.952421  \n",
       "38                    0      0.957504  "
      ]
     },
     "execution_count": 199,
     "metadata": {},
     "output_type": "execute_result"
    }
   ],
   "source": [
    "data"
   ]
  },
  {
   "cell_type": "code",
   "execution_count": 200,
   "metadata": {},
   "outputs": [
    {
     "data": {
      "text/plain": [
       "beta                   float64\n",
       "free_energy            float64\n",
       "free_energy_std          int64\n",
       "mag_mean               float64\n",
       "beta_inf               float64\n",
       "free_energy_inf        float64\n",
       "free_energy_std_inf      int64\n",
       "mag_mean_inf           float64\n",
       "dtype: object"
      ]
     },
     "execution_count": 200,
     "metadata": {},
     "output_type": "execute_result"
    }
   ],
   "source": [
    "data.dtypes"
   ]
  },
  {
   "cell_type": "code",
   "execution_count": 201,
   "metadata": {},
   "outputs": [
    {
     "data": {
      "text/plain": [
       "<AxesSubplot:xlabel='beta'>"
      ]
     },
     "execution_count": 201,
     "metadata": {},
     "output_type": "execute_result"
    },
    {
     "data": {
      "image/png": "[encoded data removed]",
      "text/plain": [
       "<Figure size 640x480 with 1 Axes>"
      ]
     },
     "metadata": {},
     "output_type": "display_data"
    },
    {
     "data": {
      "image/png": "[encoded data removed]",
      "text/plain": [
       "<Figure size 640x480 with 1 Axes>"
      ]
     },
     "metadata": {},
     "output_type": "display_data"
    }
   ],
   "source": [
    "data.plot(x=\"beta\", y= [\"free_energy\", \"free_energy_inf\"], ylim=[-0.72,-0.5], xlim=[1,2])\n",
    "data[\"diff_ex\"] = np.abs(data[\"free_energy\"]- data[ \"free_energy_inf\"])\n",
    "data.plot(x=\"beta\", y= \"diff_ex\")\n"
   ]
  },
  {
   "cell_type": "markdown",
   "metadata": {},
   "source": [
    "# Several cases"
   ]
  },
  {
   "cell_type": "code",
   "execution_count": 87,
   "metadata": {},
   "outputs": [],
   "source": [
    "lr = 0.001\n",
    "max_step=500\n",
    "batch_size=2000\n",
    "std_fe_limit=1e-4\n",
    "batch_iter=20"
   ]
  },
  {
   "cell_type": "code",
   "execution_count": 88,
   "metadata": {},
   "outputs": [],
   "source": [
    "from python_lib.nets import list_nets\n",
    "importlib.reload(list_nets)\n",
    "import python_lib.nets.ann\n",
    "importlib.reload(python_lib.nets.ann)\n",
    "from python_lib import run_lib\n",
    "importlib.reload(run_lib);"
   ]
  },
  {
   "cell_type": "code",
   "execution_count": null,
   "metadata": {},
   "outputs": [],
   "source": []
  },
  {
   "cell_type": "code",
   "execution_count": 89,
   "metadata": {},
   "outputs": [
    {
     "name": "stdout",
     "output_type": "stream",
     "text": [
      "Total Trainable Params: 1001000\n",
      "Total Params: 1001000\n",
      "step: 0 0.10 fe: -6.567 +- 0.08276 E: 0.000, S: 0.657, M: 0.0245"
     ]
    },
    {
     "ename": "KeyboardInterrupt",
     "evalue": "",
     "output_type": "error",
     "traceback": [
      "\u001b[0;31m---------------------------------------------------------------------------\u001b[0m",
      "\u001b[0;31mKeyboardInterrupt\u001b[0m                         Traceback (most recent call last)",
      "\u001b[1;32m/Users/ocadni/git/pytorch_test/results/Curie-Weiss/CW_model.ipynb Cella 19\u001b[0m in \u001b[0;36m<cell line: 5>\u001b[0;34m()\u001b[0m\n\u001b[1;32m      <a href='vscode-notebook-cell:/Users/ocadni/git/pytorch_test/results/Curie-Weiss/CW_model.ipynb#X16sZmlsZQ%3D%3D?line=2'>3</a>\u001b[0m importlib\u001b[39m.\u001b[39mreload(simple_layer)\n\u001b[1;32m      <a href='vscode-notebook-cell:/Users/ocadni/git/pytorch_test/results/Curie-Weiss/CW_model.ipynb#X16sZmlsZQ%3D%3D?line=3'>4</a>\u001b[0m net2train \u001b[39m=\u001b[39m simple_layer\u001b[39m.\u001b[39msimple_layer(CW_model, bias\u001b[39m=\u001b[39m\u001b[39mTrue\u001b[39;00m, device\u001b[39m=\u001b[39mdevice)\n\u001b[0;32m----> <a href='vscode-notebook-cell:/Users/ocadni/git/pytorch_test/results/Curie-Weiss/CW_model.ipynb#X16sZmlsZQ%3D%3D?line=4'>5</a>\u001b[0m res \u001b[39m=\u001b[39m run_lib\u001b[39m.\u001b[39;49mtrain_net(net2train, betas,\n\u001b[1;32m      <a href='vscode-notebook-cell:/Users/ocadni/git/pytorch_test/results/Curie-Weiss/CW_model.ipynb#X16sZmlsZQ%3D%3D?line=5'>6</a>\u001b[0m     lr \u001b[39m=\u001b[39;49m lr,\n\u001b[1;32m      <a href='vscode-notebook-cell:/Users/ocadni/git/pytorch_test/results/Curie-Weiss/CW_model.ipynb#X16sZmlsZQ%3D%3D?line=6'>7</a>\u001b[0m     max_step\u001b[39m=\u001b[39;49mmax_step,\n\u001b[1;32m      <a href='vscode-notebook-cell:/Users/ocadni/git/pytorch_test/results/Curie-Weiss/CW_model.ipynb#X16sZmlsZQ%3D%3D?line=7'>8</a>\u001b[0m     batch_size\u001b[39m=\u001b[39;49mbatch_size,\n\u001b[1;32m      <a href='vscode-notebook-cell:/Users/ocadni/git/pytorch_test/results/Curie-Weiss/CW_model.ipynb#X16sZmlsZQ%3D%3D?line=8'>9</a>\u001b[0m     std_fe_limit\u001b[39m=\u001b[39;49mstd_fe_limit,\n\u001b[1;32m     <a href='vscode-notebook-cell:/Users/ocadni/git/pytorch_test/results/Curie-Weiss/CW_model.ipynb#X16sZmlsZQ%3D%3D?line=9'>10</a>\u001b[0m     suffix \u001b[39m=\u001b[39;49m\u001b[39m\"\u001b[39;49m\u001b[39m_SL\u001b[39;49m\u001b[39m\"\u001b[39;49m,\n\u001b[1;32m     <a href='vscode-notebook-cell:/Users/ocadni/git/pytorch_test/results/Curie-Weiss/CW_model.ipynb#X16sZmlsZQ%3D%3D?line=10'>11</a>\u001b[0m     batch_iter\u001b[39m=\u001b[39;49mbatch_iter\n\u001b[1;32m     <a href='vscode-notebook-cell:/Users/ocadni/git/pytorch_test/results/Curie-Weiss/CW_model.ipynb#X16sZmlsZQ%3D%3D?line=11'>12</a>\u001b[0m )\n\u001b[1;32m     <a href='vscode-notebook-cell:/Users/ocadni/git/pytorch_test/results/Curie-Weiss/CW_model.ipynb#X16sZmlsZQ%3D%3D?line=12'>13</a>\u001b[0m data \u001b[39m=\u001b[39m pd\u001b[39m.\u001b[39mconcat([data, res], axis \u001b[39m=\u001b[39m \u001b[39m1\u001b[39m)\n",
      "File \u001b[0;32m~/git/pytorch_test/results/Curie-Weiss/../../python_lib/run_lib.py:17\u001b[0m, in \u001b[0;36mtrain_net\u001b[0;34m(net2train, betas, lr, max_step, batch_size, batch_iter, std_fe_limit, suffix, exact)\u001b[0m\n\u001b[1;32m      5\u001b[0m \u001b[39mdef\u001b[39;00m \u001b[39mtrain_net\u001b[39m(\n\u001b[1;32m      6\u001b[0m     net2train,\n\u001b[1;32m      7\u001b[0m     betas,\n\u001b[0;32m   (...)\u001b[0m\n\u001b[1;32m     14\u001b[0m     exact\u001b[39m=\u001b[39m\u001b[39mFalse\u001b[39;00m,\n\u001b[1;32m     15\u001b[0m ):\n\u001b[1;32m     16\u001b[0m     stats \u001b[39m=\u001b[39m []\n\u001b[0;32m---> 17\u001b[0m     net2train\u001b[39m.\u001b[39;49mtrain(\n\u001b[1;32m     18\u001b[0m         beta\u001b[39m=\u001b[39;49mbetas[\u001b[39m0\u001b[39;49m],\n\u001b[1;32m     19\u001b[0m         lr\u001b[39m=\u001b[39;49mlr,\n\u001b[1;32m     20\u001b[0m         max_step\u001b[39m=\u001b[39;49m\u001b[39m2000\u001b[39;49m,\n\u001b[1;32m     21\u001b[0m         batch_size\u001b[39m=\u001b[39;49mbatch_size,\n\u001b[1;32m     22\u001b[0m         std_fe_limit\u001b[39m=\u001b[39;49mstd_fe_limit,\n\u001b[1;32m     23\u001b[0m         exact\u001b[39m=\u001b[39;49mexact,\n\u001b[1;32m     24\u001b[0m     )\n\u001b[1;32m     25\u001b[0m     \u001b[39mfor\u001b[39;00m beta \u001b[39min\u001b[39;00m betas:\n\u001b[1;32m     26\u001b[0m         net2train\u001b[39m.\u001b[39mtrain(\n\u001b[1;32m     27\u001b[0m             beta\u001b[39m=\u001b[39mbeta,\n\u001b[1;32m     28\u001b[0m             lr\u001b[39m=\u001b[39mlr,\n\u001b[0;32m   (...)\u001b[0m\n\u001b[1;32m     33\u001b[0m             set_optim\u001b[39m=\u001b[39m\u001b[39mFalse\u001b[39;00m\n\u001b[1;32m     34\u001b[0m         )\n",
      "File \u001b[0;32m~/git/pytorch_test/results/Curie-Weiss/../../python_lib/nets/ann.py:179\u001b[0m, in \u001b[0;36mANN.train\u001b[0;34m(self, lr, opt, beta, max_step, batch_size, std_fe_limit, batch_iter, ifprint, exact, set_optim)\u001b[0m\n\u001b[1;32m    177\u001b[0m optimizer\u001b[39m.\u001b[39mzero_grad()\n\u001b[1;32m    178\u001b[0m \u001b[39mwith\u001b[39;00m torch\u001b[39m.\u001b[39mno_grad():\n\u001b[0;32m--> 179\u001b[0m     samples, x_hat \u001b[39m=\u001b[39m \u001b[39mself\u001b[39;49m\u001b[39m.\u001b[39;49msample(batch_size)\n\u001b[1;32m    181\u001b[0m log_prob \u001b[39m=\u001b[39m \u001b[39mself\u001b[39m\u001b[39m.\u001b[39mlog_prob(samples)\n\u001b[1;32m    183\u001b[0m \u001b[39mwith\u001b[39;00m torch\u001b[39m.\u001b[39mno_grad():\n",
      "File \u001b[0;32m~/git/pytorch_test/results/Curie-Weiss/../../python_lib/nets/ann.py:98\u001b[0m, in \u001b[0;36mANN.sample\u001b[0;34m(self, batch_size)\u001b[0m\n\u001b[1;32m     96\u001b[0m         mask_n_i \u001b[39m=\u001b[39m \u001b[39mself\u001b[39m\u001b[39m.\u001b[39minput_mask[n_i, :]\n\u001b[1;32m     97\u001b[0m         input_x \u001b[39m=\u001b[39m mask_n_i \u001b[39m*\u001b[39m x\n\u001b[0;32m---> 98\u001b[0m         x_hat[:, n_i] \u001b[39m=\u001b[39m \u001b[39mself\u001b[39;49m\u001b[39m.\u001b[39;49mforward(input_x)[:, n_i]\n\u001b[1;32m     99\u001b[0m         x[:, n_i] \u001b[39m=\u001b[39m torch\u001b[39m.\u001b[39mbernoulli(x_hat[:, n_i]) \u001b[39m*\u001b[39m \u001b[39m2\u001b[39m \u001b[39m-\u001b[39m \u001b[39m1\u001b[39m\n\u001b[1;32m    100\u001b[0m \u001b[39mreturn\u001b[39;00m x, x_hat\n",
      "File \u001b[0;32m~/git/pytorch_test/results/Curie-Weiss/../../python_lib/nets/ann.py:80\u001b[0m, in \u001b[0;36mANN.forward\u001b[0;34m(self, x)\u001b[0m\n\u001b[1;32m     78\u001b[0m \u001b[39mdef\u001b[39;00m \u001b[39mforward\u001b[39m(\u001b[39mself\u001b[39m, x):\n\u001b[1;32m     79\u001b[0m     x \u001b[39m=\u001b[39m x\u001b[39m.\u001b[39mview(x\u001b[39m.\u001b[39mshape[\u001b[39m0\u001b[39m], \u001b[39m-\u001b[39m\u001b[39m1\u001b[39m)\n\u001b[0;32m---> 80\u001b[0m     \u001b[39mreturn\u001b[39;00m \u001b[39mself\u001b[39;49m\u001b[39m.\u001b[39;49mnet(x)\n",
      "File \u001b[0;32m~/opt/anaconda3/envs/m1torch/lib/python3.10/site-packages/torch/nn/modules/module.py:1130\u001b[0m, in \u001b[0;36mModule._call_impl\u001b[0;34m(self, *input, **kwargs)\u001b[0m\n\u001b[1;32m   1126\u001b[0m \u001b[39m# If we don't have any hooks, we want to skip the rest of the logic in\u001b[39;00m\n\u001b[1;32m   1127\u001b[0m \u001b[39m# this function, and just call forward.\u001b[39;00m\n\u001b[1;32m   1128\u001b[0m \u001b[39mif\u001b[39;00m \u001b[39mnot\u001b[39;00m (\u001b[39mself\u001b[39m\u001b[39m.\u001b[39m_backward_hooks \u001b[39mor\u001b[39;00m \u001b[39mself\u001b[39m\u001b[39m.\u001b[39m_forward_hooks \u001b[39mor\u001b[39;00m \u001b[39mself\u001b[39m\u001b[39m.\u001b[39m_forward_pre_hooks \u001b[39mor\u001b[39;00m _global_backward_hooks\n\u001b[1;32m   1129\u001b[0m         \u001b[39mor\u001b[39;00m _global_forward_hooks \u001b[39mor\u001b[39;00m _global_forward_pre_hooks):\n\u001b[0;32m-> 1130\u001b[0m     \u001b[39mreturn\u001b[39;00m forward_call(\u001b[39m*\u001b[39;49m\u001b[39minput\u001b[39;49m, \u001b[39m*\u001b[39;49m\u001b[39m*\u001b[39;49mkwargs)\n\u001b[1;32m   1131\u001b[0m \u001b[39m# Do not call functions when jit is used\u001b[39;00m\n\u001b[1;32m   1132\u001b[0m full_backward_hooks, non_full_backward_hooks \u001b[39m=\u001b[39m [], []\n",
      "File \u001b[0;32m~/opt/anaconda3/envs/m1torch/lib/python3.10/site-packages/torch/nn/modules/container.py:139\u001b[0m, in \u001b[0;36mSequential.forward\u001b[0;34m(self, input)\u001b[0m\n\u001b[1;32m    137\u001b[0m \u001b[39mdef\u001b[39;00m \u001b[39mforward\u001b[39m(\u001b[39mself\u001b[39m, \u001b[39minput\u001b[39m):\n\u001b[1;32m    138\u001b[0m     \u001b[39mfor\u001b[39;00m module \u001b[39min\u001b[39;00m \u001b[39mself\u001b[39m:\n\u001b[0;32m--> 139\u001b[0m         \u001b[39minput\u001b[39m \u001b[39m=\u001b[39m module(\u001b[39minput\u001b[39;49m)\n\u001b[1;32m    140\u001b[0m     \u001b[39mreturn\u001b[39;00m \u001b[39minput\u001b[39m\n",
      "File \u001b[0;32m~/opt/anaconda3/envs/m1torch/lib/python3.10/site-packages/torch/nn/modules/module.py:1130\u001b[0m, in \u001b[0;36mModule._call_impl\u001b[0;34m(self, *input, **kwargs)\u001b[0m\n\u001b[1;32m   1126\u001b[0m \u001b[39m# If we don't have any hooks, we want to skip the rest of the logic in\u001b[39;00m\n\u001b[1;32m   1127\u001b[0m \u001b[39m# this function, and just call forward.\u001b[39;00m\n\u001b[1;32m   1128\u001b[0m \u001b[39mif\u001b[39;00m \u001b[39mnot\u001b[39;00m (\u001b[39mself\u001b[39m\u001b[39m.\u001b[39m_backward_hooks \u001b[39mor\u001b[39;00m \u001b[39mself\u001b[39m\u001b[39m.\u001b[39m_forward_hooks \u001b[39mor\u001b[39;00m \u001b[39mself\u001b[39m\u001b[39m.\u001b[39m_forward_pre_hooks \u001b[39mor\u001b[39;00m _global_backward_hooks\n\u001b[1;32m   1129\u001b[0m         \u001b[39mor\u001b[39;00m _global_forward_hooks \u001b[39mor\u001b[39;00m _global_forward_pre_hooks):\n\u001b[0;32m-> 1130\u001b[0m     \u001b[39mreturn\u001b[39;00m forward_call(\u001b[39m*\u001b[39;49m\u001b[39minput\u001b[39;49m, \u001b[39m*\u001b[39;49m\u001b[39m*\u001b[39;49mkwargs)\n\u001b[1;32m   1131\u001b[0m \u001b[39m# Do not call functions when jit is used\u001b[39;00m\n\u001b[1;32m   1132\u001b[0m full_backward_hooks, non_full_backward_hooks \u001b[39m=\u001b[39m [], []\n",
      "File \u001b[0;32m~/git/pytorch_test/results/Curie-Weiss/../../python_lib/nets/simple_layer.py:21\u001b[0m, in \u001b[0;36mmyLayer.forward\u001b[0;34m(self, x)\u001b[0m\n\u001b[1;32m     20\u001b[0m \u001b[39mdef\u001b[39;00m \u001b[39mforward\u001b[39m(\u001b[39mself\u001b[39m, x):\n\u001b[0;32m---> 21\u001b[0m     \u001b[39mreturn\u001b[39;00m nn\u001b[39m.\u001b[39;49mfunctional\u001b[39m.\u001b[39;49mlinear(x, \u001b[39mself\u001b[39;49m\u001b[39m.\u001b[39;49mmask \u001b[39m*\u001b[39;49m \u001b[39mself\u001b[39;49m\u001b[39m.\u001b[39;49mweight, \u001b[39mself\u001b[39;49m\u001b[39m.\u001b[39;49mbias)\n",
      "\u001b[0;31mKeyboardInterrupt\u001b[0m: "
     ]
    }
   ],
   "source": [
    "from python_lib.nets import simple_layer\n",
    "import importlib\n",
    "importlib.reload(simple_layer)\n",
    "net2train = simple_layer.simple_layer(CW_model, bias=True, device=device)\n",
    "res = run_lib.train_net(net2train, betas,\n",
    "    lr = lr,\n",
    "    max_step=max_step,\n",
    "    batch_size=batch_size,\n",
    "    std_fe_limit=std_fe_limit,\n",
    "    suffix =\"_SL\",\n",
    "    batch_iter=batch_iter\n",
    ")\n",
    "data = pd.concat([data, res], axis = 1)\n"
   ]
  },
  {
   "cell_type": "code",
   "execution_count": null,
   "metadata": {},
   "outputs": [
    {
     "name": "stdout",
     "output_type": "stream",
     "text": [
      "Total Trainable Params: 100\n",
      "Total Params: 100\n",
      "step: 43 0.10 fe: -6.932 +- 0.00280 E: -0.001, S: 0.693, M: 0.0856"
     ]
    },
    {
     "ename": "KeyboardInterrupt",
     "evalue": "",
     "output_type": "error",
     "traceback": [
      "\u001b[0;31m---------------------------------------------------------------------------\u001b[0m",
      "\u001b[0;31mKeyboardInterrupt\u001b[0m                         Traceback (most recent call last)",
      "\u001b[1;32m/Users/ocadni/git/pytorch_test/results/Curie-Weiss/CW_model.ipynb Cella 15\u001b[0m in \u001b[0;36m<cell line: 12>\u001b[0;34m()\u001b[0m\n\u001b[1;32m     <a href='vscode-notebook-cell:/Users/ocadni/git/pytorch_test/results/Curie-Weiss/CW_model.ipynb#X20sZmlsZQ%3D%3D?line=9'>10</a>\u001b[0m dict_nets \u001b[39m=\u001b[39m {}\n\u001b[1;32m     <a href='vscode-notebook-cell:/Users/ocadni/git/pytorch_test/results/Curie-Weiss/CW_model.ipynb#X20sZmlsZQ%3D%3D?line=10'>11</a>\u001b[0m net2train \u001b[39m=\u001b[39m list_nets\u001b[39m.\u001b[39mlist_nets(CW_model, one, input_mask, device\u001b[39m=\u001b[39mdevice, dict_nets\u001b[39m=\u001b[39mdict_nets)\n\u001b[0;32m---> <a href='vscode-notebook-cell:/Users/ocadni/git/pytorch_test/results/Curie-Weiss/CW_model.ipynb#X20sZmlsZQ%3D%3D?line=11'>12</a>\u001b[0m res \u001b[39m=\u001b[39m run_lib\u001b[39m.\u001b[39;49mtrain_net(net2train, betas,\n\u001b[1;32m     <a href='vscode-notebook-cell:/Users/ocadni/git/pytorch_test/results/Curie-Weiss/CW_model.ipynb#X20sZmlsZQ%3D%3D?line=12'>13</a>\u001b[0m     lr \u001b[39m=\u001b[39;49m lr,\n\u001b[1;32m     <a href='vscode-notebook-cell:/Users/ocadni/git/pytorch_test/results/Curie-Weiss/CW_model.ipynb#X20sZmlsZQ%3D%3D?line=13'>14</a>\u001b[0m     max_step\u001b[39m=\u001b[39;49mmax_step,\n\u001b[1;32m     <a href='vscode-notebook-cell:/Users/ocadni/git/pytorch_test/results/Curie-Weiss/CW_model.ipynb#X20sZmlsZQ%3D%3D?line=14'>15</a>\u001b[0m     batch_size\u001b[39m=\u001b[39;49mbatch_size,\n\u001b[1;32m     <a href='vscode-notebook-cell:/Users/ocadni/git/pytorch_test/results/Curie-Weiss/CW_model.ipynb#X20sZmlsZQ%3D%3D?line=15'>16</a>\u001b[0m     std_fe_limit\u001b[39m=\u001b[39;49mstd_fe_limit,\n\u001b[1;32m     <a href='vscode-notebook-cell:/Users/ocadni/git/pytorch_test/results/Curie-Weiss/CW_model.ipynb#X20sZmlsZQ%3D%3D?line=16'>17</a>\u001b[0m     suffix \u001b[39m=\u001b[39;49m\u001b[39m\"\u001b[39;49m\u001b[39m_one\u001b[39;49m\u001b[39m\"\u001b[39;49m,\n\u001b[1;32m     <a href='vscode-notebook-cell:/Users/ocadni/git/pytorch_test/results/Curie-Weiss/CW_model.ipynb#X20sZmlsZQ%3D%3D?line=17'>18</a>\u001b[0m     batch_iter\u001b[39m=\u001b[39;49mbatch_iter\n\u001b[1;32m     <a href='vscode-notebook-cell:/Users/ocadni/git/pytorch_test/results/Curie-Weiss/CW_model.ipynb#X20sZmlsZQ%3D%3D?line=18'>19</a>\u001b[0m )\n\u001b[1;32m     <a href='vscode-notebook-cell:/Users/ocadni/git/pytorch_test/results/Curie-Weiss/CW_model.ipynb#X20sZmlsZQ%3D%3D?line=19'>20</a>\u001b[0m data \u001b[39m=\u001b[39m pd\u001b[39m.\u001b[39mconcat([data, res], axis \u001b[39m=\u001b[39m \u001b[39m1\u001b[39m)\n",
      "File \u001b[0;32m~/git/pytorch_test/results/Curie-Weiss/../../python_lib/run_lib.py:17\u001b[0m, in \u001b[0;36mtrain_net\u001b[0;34m(net2train, betas, lr, max_step, batch_size, batch_iter, std_fe_limit, suffix, exact)\u001b[0m\n\u001b[1;32m      5\u001b[0m \u001b[39mdef\u001b[39;00m \u001b[39mtrain_net\u001b[39m(\n\u001b[1;32m      6\u001b[0m     net2train,\n\u001b[1;32m      7\u001b[0m     betas,\n\u001b[0;32m   (...)\u001b[0m\n\u001b[1;32m     14\u001b[0m     exact\u001b[39m=\u001b[39m\u001b[39mFalse\u001b[39;00m,\n\u001b[1;32m     15\u001b[0m ):\n\u001b[1;32m     16\u001b[0m     stats \u001b[39m=\u001b[39m []\n\u001b[0;32m---> 17\u001b[0m     net2train\u001b[39m.\u001b[39;49mtrain(\n\u001b[1;32m     18\u001b[0m         beta\u001b[39m=\u001b[39;49mbetas[\u001b[39m0\u001b[39;49m],\n\u001b[1;32m     19\u001b[0m         lr\u001b[39m=\u001b[39;49mlr,\n\u001b[1;32m     20\u001b[0m         max_step\u001b[39m=\u001b[39;49m\u001b[39m2000\u001b[39;49m,\n\u001b[1;32m     21\u001b[0m         batch_size\u001b[39m=\u001b[39;49mbatch_size,\n\u001b[1;32m     22\u001b[0m         std_fe_limit\u001b[39m=\u001b[39;49mstd_fe_limit,\n\u001b[1;32m     23\u001b[0m         exact\u001b[39m=\u001b[39;49mexact,\n\u001b[1;32m     24\u001b[0m     )\n\u001b[1;32m     25\u001b[0m     \u001b[39mfor\u001b[39;00m beta \u001b[39min\u001b[39;00m betas:\n\u001b[1;32m     26\u001b[0m         net2train\u001b[39m.\u001b[39mtrain(\n\u001b[1;32m     27\u001b[0m             beta\u001b[39m=\u001b[39mbeta,\n\u001b[1;32m     28\u001b[0m             lr\u001b[39m=\u001b[39mlr,\n\u001b[0;32m   (...)\u001b[0m\n\u001b[1;32m     33\u001b[0m             set_optim\u001b[39m=\u001b[39m\u001b[39mFalse\u001b[39;00m\n\u001b[1;32m     34\u001b[0m         )\n",
      "File \u001b[0;32m~/git/pytorch_test/results/Curie-Weiss/../../python_lib/nets/list_nets.py:305\u001b[0m, in \u001b[0;36mlist_nets.train\u001b[0;34m(self, lr, opt, beta, max_step, batch_size, std_fe_limit, batch_iter, ifprint, exact, set_optim)\u001b[0m\n\u001b[1;32m    291\u001b[0m \u001b[39mdef\u001b[39;00m \u001b[39mtrain\u001b[39m(\n\u001b[1;32m    292\u001b[0m     \u001b[39mself\u001b[39m,\n\u001b[1;32m    293\u001b[0m     lr\u001b[39m=\u001b[39m\u001b[39m1e-3\u001b[39m,\n\u001b[0;32m   (...)\u001b[0m\n\u001b[1;32m    302\u001b[0m     set_optim\u001b[39m=\u001b[39m\u001b[39mTrue\u001b[39;00m\n\u001b[1;32m    303\u001b[0m ):\n\u001b[1;32m    304\u001b[0m     \u001b[39mif\u001b[39;00m \u001b[39mnot\u001b[39;00m exact:\n\u001b[0;32m--> 305\u001b[0m         \u001b[39mreturn\u001b[39;00m \u001b[39msuper\u001b[39;49m()\u001b[39m.\u001b[39;49mtrain(lr\u001b[39m=\u001b[39;49mlr,\n\u001b[1;32m    306\u001b[0m                              opt\u001b[39m=\u001b[39;49mopt,\n\u001b[1;32m    307\u001b[0m                              beta\u001b[39m=\u001b[39;49mbeta,\n\u001b[1;32m    308\u001b[0m                              max_step\u001b[39m=\u001b[39;49mmax_step,\n\u001b[1;32m    309\u001b[0m                              batch_size\u001b[39m=\u001b[39;49mbatch_size,\n\u001b[1;32m    310\u001b[0m                              std_fe_limit\u001b[39m=\u001b[39;49mstd_fe_limit,\n\u001b[1;32m    311\u001b[0m                              batch_iter\u001b[39m=\u001b[39;49mbatch_iter,\n\u001b[1;32m    312\u001b[0m                              ifprint\u001b[39m=\u001b[39;49mifprint,\n\u001b[1;32m    313\u001b[0m                              set_optim\u001b[39m=\u001b[39;49mset_optim)\n\u001b[1;32m    315\u001b[0m     \u001b[39melse\u001b[39;00m:\n\u001b[1;32m    316\u001b[0m         \u001b[39mself\u001b[39m\u001b[39m.\u001b[39mset_params_exact(\u001b[39mself\u001b[39m\u001b[39m.\u001b[39mmodel, beta)\n",
      "File \u001b[0;32m~/git/pytorch_test/results/Curie-Weiss/../../python_lib/nets/ann.py:179\u001b[0m, in \u001b[0;36mANN.train\u001b[0;34m(self, lr, opt, beta, max_step, batch_size, std_fe_limit, batch_iter, ifprint, exact, set_optim)\u001b[0m\n\u001b[1;32m    177\u001b[0m optimizer\u001b[39m.\u001b[39mzero_grad()\n\u001b[1;32m    178\u001b[0m \u001b[39mwith\u001b[39;00m torch\u001b[39m.\u001b[39mno_grad():\n\u001b[0;32m--> 179\u001b[0m     samples, x_hat \u001b[39m=\u001b[39m \u001b[39mself\u001b[39;49m\u001b[39m.\u001b[39;49msample(batch_size)\n\u001b[1;32m    181\u001b[0m log_prob \u001b[39m=\u001b[39m \u001b[39mself\u001b[39m\u001b[39m.\u001b[39mlog_prob(samples)\n\u001b[1;32m    183\u001b[0m \u001b[39mwith\u001b[39;00m torch\u001b[39m.\u001b[39mno_grad():\n",
      "File \u001b[0;32m~/git/pytorch_test/results/Curie-Weiss/../../python_lib/nets/list_nets.py:283\u001b[0m, in \u001b[0;36mlist_nets.sample\u001b[0;34m(self, batch_size)\u001b[0m\n\u001b[1;32m    281\u001b[0m         mask_n_i \u001b[39m=\u001b[39m \u001b[39mself\u001b[39m\u001b[39m.\u001b[39minput_mask[n_i, :]\n\u001b[1;32m    282\u001b[0m         input_x \u001b[39m=\u001b[39m x[:, mask_n_i]\n\u001b[0;32m--> 283\u001b[0m         x_hat[:, n_i] \u001b[39m=\u001b[39m \u001b[39mself\u001b[39;49m\u001b[39m.\u001b[39;49mnet[n_i](input_x)\u001b[39m.\u001b[39mt()\n\u001b[1;32m    284\u001b[0m         x[:, n_i] \u001b[39m=\u001b[39m torch\u001b[39m.\u001b[39mbernoulli(x_hat[:, n_i]) \u001b[39m*\u001b[39m \u001b[39m2\u001b[39m \u001b[39m-\u001b[39m \u001b[39m1\u001b[39m\n\u001b[1;32m    285\u001b[0m \u001b[39mreturn\u001b[39;00m x, x_hat\n",
      "File \u001b[0;32m~/opt/anaconda3/envs/m1torch/lib/python3.10/site-packages/torch/nn/modules/module.py:1124\u001b[0m, in \u001b[0;36mModule._call_impl\u001b[0;34m(self, *input, **kwargs)\u001b[0m\n\u001b[1;32m   1121\u001b[0m             tracing_state\u001b[39m.\u001b[39mpop_scope()\n\u001b[1;32m   1122\u001b[0m     \u001b[39mreturn\u001b[39;00m result\n\u001b[0;32m-> 1124\u001b[0m \u001b[39mdef\u001b[39;00m \u001b[39m_call_impl\u001b[39m(\u001b[39mself\u001b[39m, \u001b[39m*\u001b[39m\u001b[39minput\u001b[39m, \u001b[39m*\u001b[39m\u001b[39m*\u001b[39mkwargs):\n\u001b[1;32m   1125\u001b[0m     forward_call \u001b[39m=\u001b[39m (\u001b[39mself\u001b[39m\u001b[39m.\u001b[39m_slow_forward \u001b[39mif\u001b[39;00m torch\u001b[39m.\u001b[39m_C\u001b[39m.\u001b[39m_get_tracing_state() \u001b[39melse\u001b[39;00m \u001b[39mself\u001b[39m\u001b[39m.\u001b[39mforward)\n\u001b[1;32m   1126\u001b[0m     \u001b[39m# If we don't have any hooks, we want to skip the rest of the logic in\u001b[39;00m\n\u001b[1;32m   1127\u001b[0m     \u001b[39m# this function, and just call forward.\u001b[39;00m\n",
      "\u001b[0;31mKeyboardInterrupt\u001b[0m: "
     ]
    }
   ],
   "source": [
    "from python_lib.nets import ann\n",
    "importlib.reload(ann)\n",
    "\n",
    "from python_lib.nets import list_nets\n",
    "importlib.reload(list_nets)\n",
    "\n",
    "one = list_nets.one_var\n",
    "input_mask = torch.tril(J_interaction, diagonal=-1)\n",
    "input_mask = input_mask.to(dtype=torch.bool)\n",
    "dict_nets = {}\n",
    "net2train = list_nets.list_nets(CW_model, one, input_mask, device=device, dict_nets=dict_nets)\n",
    "res = run_lib.train_net(net2train, betas,\n",
    "    lr = lr,\n",
    "    max_step=max_step,\n",
    "    batch_size=batch_size,\n",
    "    std_fe_limit=std_fe_limit,\n",
    "    suffix =\"_one\",\n",
    "    batch_iter=batch_iter\n",
    ")\n",
    "data = pd.concat([data, res], axis = 1)\n"
   ]
  },
  {
   "cell_type": "code",
   "execution_count": null,
   "metadata": {},
   "outputs": [
    {
     "name": "stdout",
     "output_type": "stream",
     "text": [
      "Total Trainable Params: 20594\n",
      "Total Params: 20594\n",
      "step: 0 0.35 fe: -1.982 +- 0.00000 E: -0.002, S: 0.693, M: 0.0972"
     ]
    },
    {
     "ename": "KeyboardInterrupt",
     "evalue": "",
     "output_type": "error",
     "traceback": [
      "\u001b[0;31m---------------------------------------------------------------------------\u001b[0m",
      "\u001b[0;31mKeyboardInterrupt\u001b[0m                         Traceback (most recent call last)",
      "\u001b[1;32m/Users/ocadni/git/pytorch_test/results/Curie-Weiss/CW_model.ipynb Cella 16\u001b[0m in \u001b[0;36m<cell line: 9>\u001b[0;34m()\u001b[0m\n\u001b[1;32m      <a href='vscode-notebook-cell:/Users/ocadni/git/pytorch_test/results/Curie-Weiss/CW_model.ipynb#X21sZmlsZQ%3D%3D?line=6'>7</a>\u001b[0m dict_nets \u001b[39m=\u001b[39m {}\n\u001b[1;32m      <a href='vscode-notebook-cell:/Users/ocadni/git/pytorch_test/results/Curie-Weiss/CW_model.ipynb#X21sZmlsZQ%3D%3D?line=7'>8</a>\u001b[0m net2train \u001b[39m=\u001b[39m list_nets\u001b[39m.\u001b[39mlist_nets(CW_model, list_n, input_mask, device\u001b[39m=\u001b[39mdevice, dict_nets\u001b[39m=\u001b[39mdict_nets)\n\u001b[0;32m----> <a href='vscode-notebook-cell:/Users/ocadni/git/pytorch_test/results/Curie-Weiss/CW_model.ipynb#X21sZmlsZQ%3D%3D?line=8'>9</a>\u001b[0m res \u001b[39m=\u001b[39m run_lib\u001b[39m.\u001b[39;49mtrain_net(net2train, betas,\n\u001b[1;32m     <a href='vscode-notebook-cell:/Users/ocadni/git/pytorch_test/results/Curie-Weiss/CW_model.ipynb#X21sZmlsZQ%3D%3D?line=9'>10</a>\u001b[0m     lr \u001b[39m=\u001b[39;49m lr,\n\u001b[1;32m     <a href='vscode-notebook-cell:/Users/ocadni/git/pytorch_test/results/Curie-Weiss/CW_model.ipynb#X21sZmlsZQ%3D%3D?line=10'>11</a>\u001b[0m     max_step\u001b[39m=\u001b[39;49mmax_step,\n\u001b[1;32m     <a href='vscode-notebook-cell:/Users/ocadni/git/pytorch_test/results/Curie-Weiss/CW_model.ipynb#X21sZmlsZQ%3D%3D?line=11'>12</a>\u001b[0m     batch_size\u001b[39m=\u001b[39;49mbatch_size,\n\u001b[1;32m     <a href='vscode-notebook-cell:/Users/ocadni/git/pytorch_test/results/Curie-Weiss/CW_model.ipynb#X21sZmlsZQ%3D%3D?line=12'>13</a>\u001b[0m     std_fe_limit\u001b[39m=\u001b[39;49mstd_fe_limit,\n\u001b[1;32m     <a href='vscode-notebook-cell:/Users/ocadni/git/pytorch_test/results/Curie-Weiss/CW_model.ipynb#X21sZmlsZQ%3D%3D?line=13'>14</a>\u001b[0m     suffix \u001b[39m=\u001b[39;49m\u001b[39m\"\u001b[39;49m\u001b[39m_sum_exp_exact\u001b[39;49m\u001b[39m\"\u001b[39;49m,\n\u001b[1;32m     <a href='vscode-notebook-cell:/Users/ocadni/git/pytorch_test/results/Curie-Weiss/CW_model.ipynb#X21sZmlsZQ%3D%3D?line=14'>15</a>\u001b[0m     exact\u001b[39m=\u001b[39;49m\u001b[39mTrue\u001b[39;49;00m,\n\u001b[1;32m     <a href='vscode-notebook-cell:/Users/ocadni/git/pytorch_test/results/Curie-Weiss/CW_model.ipynb#X21sZmlsZQ%3D%3D?line=15'>16</a>\u001b[0m     batch_iter\u001b[39m=\u001b[39;49mbatch_iter\n\u001b[1;32m     <a href='vscode-notebook-cell:/Users/ocadni/git/pytorch_test/results/Curie-Weiss/CW_model.ipynb#X21sZmlsZQ%3D%3D?line=16'>17</a>\u001b[0m )\n\u001b[1;32m     <a href='vscode-notebook-cell:/Users/ocadni/git/pytorch_test/results/Curie-Weiss/CW_model.ipynb#X21sZmlsZQ%3D%3D?line=17'>18</a>\u001b[0m data \u001b[39m=\u001b[39m pd\u001b[39m.\u001b[39mconcat([data, res], axis \u001b[39m=\u001b[39m \u001b[39m1\u001b[39m)\n",
      "File \u001b[0;32m~/git/pytorch_test/results/Curie-Weiss/../../python_lib/run_lib.py:36\u001b[0m, in \u001b[0;36mtrain_net\u001b[0;34m(net2train, betas, lr, max_step, batch_size, batch_iter, std_fe_limit, suffix, exact)\u001b[0m\n\u001b[1;32m     25\u001b[0m \u001b[39mfor\u001b[39;00m beta \u001b[39min\u001b[39;00m betas:\n\u001b[1;32m     26\u001b[0m     net2train\u001b[39m.\u001b[39mtrain(\n\u001b[1;32m     27\u001b[0m         beta\u001b[39m=\u001b[39mbeta,\n\u001b[1;32m     28\u001b[0m         lr\u001b[39m=\u001b[39mlr,\n\u001b[0;32m   (...)\u001b[0m\n\u001b[1;32m     33\u001b[0m         set_optim\u001b[39m=\u001b[39m\u001b[39mFalse\u001b[39;00m\n\u001b[1;32m     34\u001b[0m     )\n\u001b[0;32m---> 36\u001b[0m     stats\u001b[39m.\u001b[39mappend(net2train\u001b[39m.\u001b[39;49mcompute_stats(\n\u001b[1;32m     37\u001b[0m         beta, batch_size\u001b[39m=\u001b[39;49mbatch_size, batch_iter\u001b[39m=\u001b[39;49mbatch_iter, print_\u001b[39m=\u001b[39;49m\u001b[39mTrue\u001b[39;49;00m))\n\u001b[1;32m     38\u001b[0m stats_pd \u001b[39m=\u001b[39m pd\u001b[39m.\u001b[39mDataFrame(stats)\n\u001b[1;32m     39\u001b[0m \u001b[39mreturn\u001b[39;00m stats_pd\u001b[39m.\u001b[39madd_suffix(suffix)\n",
      "File \u001b[0;32m~/git/pytorch_test/results/Curie-Weiss/../../python_lib/nets/ann.py:120\u001b[0m, in \u001b[0;36mANN.compute_stats\u001b[0;34m(self, beta, batch_size, print_, batch_iter)\u001b[0m\n\u001b[1;32m    118\u001b[0m \u001b[39mfor\u001b[39;00m bb \u001b[39min\u001b[39;00m \u001b[39mrange\u001b[39m(batch_iter):\n\u001b[1;32m    119\u001b[0m     \u001b[39mwith\u001b[39;00m torch\u001b[39m.\u001b[39mno_grad():\n\u001b[0;32m--> 120\u001b[0m         x, x_hat \u001b[39m=\u001b[39m \u001b[39mself\u001b[39;49m\u001b[39m.\u001b[39;49msample(batch_size)\n\u001b[1;32m    121\u001b[0m         log_prob \u001b[39m=\u001b[39m \u001b[39mself\u001b[39m\u001b[39m.\u001b[39m_log_prob(x, x_hat)\n\u001b[1;32m    122\u001b[0m         energy \u001b[39m=\u001b[39m \u001b[39mself\u001b[39m\u001b[39m.\u001b[39mmodel\u001b[39m.\u001b[39menergy(x)\n",
      "File \u001b[0;32m~/git/pytorch_test/results/Curie-Weiss/../../python_lib/nets/list_nets.py:283\u001b[0m, in \u001b[0;36mlist_nets.sample\u001b[0;34m(self, batch_size)\u001b[0m\n\u001b[1;32m    281\u001b[0m         mask_n_i \u001b[39m=\u001b[39m \u001b[39mself\u001b[39m\u001b[39m.\u001b[39minput_mask[n_i, :]\n\u001b[1;32m    282\u001b[0m         input_x \u001b[39m=\u001b[39m x[:, mask_n_i]\n\u001b[0;32m--> 283\u001b[0m         x_hat[:, n_i] \u001b[39m=\u001b[39m \u001b[39mself\u001b[39;49m\u001b[39m.\u001b[39;49mnet[n_i](input_x)\u001b[39m.\u001b[39mt()\n\u001b[1;32m    284\u001b[0m         x[:, n_i] \u001b[39m=\u001b[39m torch\u001b[39m.\u001b[39mbernoulli(x_hat[:, n_i]) \u001b[39m*\u001b[39m \u001b[39m2\u001b[39m \u001b[39m-\u001b[39m \u001b[39m1\u001b[39m\n\u001b[1;32m    285\u001b[0m \u001b[39mreturn\u001b[39;00m x, x_hat\n",
      "File \u001b[0;32m~/opt/anaconda3/envs/m1torch/lib/python3.10/site-packages/torch/nn/modules/module.py:1130\u001b[0m, in \u001b[0;36mModule._call_impl\u001b[0;34m(self, *input, **kwargs)\u001b[0m\n\u001b[1;32m   1126\u001b[0m \u001b[39m# If we don't have any hooks, we want to skip the rest of the logic in\u001b[39;00m\n\u001b[1;32m   1127\u001b[0m \u001b[39m# this function, and just call forward.\u001b[39;00m\n\u001b[1;32m   1128\u001b[0m \u001b[39mif\u001b[39;00m \u001b[39mnot\u001b[39;00m (\u001b[39mself\u001b[39m\u001b[39m.\u001b[39m_backward_hooks \u001b[39mor\u001b[39;00m \u001b[39mself\u001b[39m\u001b[39m.\u001b[39m_forward_hooks \u001b[39mor\u001b[39;00m \u001b[39mself\u001b[39m\u001b[39m.\u001b[39m_forward_pre_hooks \u001b[39mor\u001b[39;00m _global_backward_hooks\n\u001b[1;32m   1129\u001b[0m         \u001b[39mor\u001b[39;00m _global_forward_hooks \u001b[39mor\u001b[39;00m _global_forward_pre_hooks):\n\u001b[0;32m-> 1130\u001b[0m     \u001b[39mreturn\u001b[39;00m forward_call(\u001b[39m*\u001b[39;49m\u001b[39minput\u001b[39;49m, \u001b[39m*\u001b[39;49m\u001b[39m*\u001b[39;49mkwargs)\n\u001b[1;32m   1131\u001b[0m \u001b[39m# Do not call functions when jit is used\u001b[39;00m\n\u001b[1;32m   1132\u001b[0m full_backward_hooks, non_full_backward_hooks \u001b[39m=\u001b[39m [], []\n",
      "File \u001b[0;32m~/git/pytorch_test/results/Curie-Weiss/../../python_lib/nets/list_nets.py:111\u001b[0m, in \u001b[0;36mCW_net.forward\u001b[0;34m(self, x)\u001b[0m\n\u001b[1;32m    109\u001b[0m res_p \u001b[39m=\u001b[39m \u001b[39mself\u001b[39m\u001b[39m.\u001b[39mweight_0p \u001b[39m*\u001b[39m torch\u001b[39m.\u001b[39mlogsumexp(res_p, \u001b[39m1\u001b[39m)\n\u001b[1;32m    110\u001b[0m res_m \u001b[39m=\u001b[39m \u001b[39mself\u001b[39m\u001b[39m.\u001b[39mbias_m \u001b[39m+\u001b[39m \u001b[39mself\u001b[39m\u001b[39m.\u001b[39mweight_m \u001b[39m*\u001b[39m torch\u001b[39m.\u001b[39munsqueeze(m_i, dim\u001b[39m=\u001b[39m\u001b[39m1\u001b[39m)\n\u001b[0;32m--> 111\u001b[0m res_m \u001b[39m=\u001b[39m \u001b[39mself\u001b[39m\u001b[39m.\u001b[39mweight_0m \u001b[39m*\u001b[39m torch\u001b[39m.\u001b[39;49mlogsumexp(res_m, \u001b[39m1\u001b[39;49m)\n\u001b[1;32m    112\u001b[0m res_0 \u001b[39m=\u001b[39m \u001b[39mself\u001b[39m\u001b[39m.\u001b[39mbias_0 \u001b[39m+\u001b[39m \u001b[39mself\u001b[39m\u001b[39m.\u001b[39mweight_0 \u001b[39m*\u001b[39m m_i\n\u001b[1;32m    113\u001b[0m \u001b[39mreturn\u001b[39;00m torch\u001b[39m.\u001b[39msigmoid(res_0 \u001b[39m+\u001b[39m res_p \u001b[39m+\u001b[39m res_m)\n",
      "\u001b[0;31mKeyboardInterrupt\u001b[0m: "
     ]
    }
   ],
   "source": [
    "from python_lib.nets import list_nets\n",
    "importlib.reload(list_nets)\n",
    "\n",
    "list_n = list_nets.CW_net\n",
    "input_mask = torch.tril(J_interaction, diagonal=-1)\n",
    "input_mask = input_mask.to(dtype=torch.bool)\n",
    "dict_nets = {}\n",
    "net2train = list_nets.list_nets(CW_model, list_n, input_mask, device=device, dict_nets=dict_nets)\n",
    "res = run_lib.train_net(net2train, betas,\n",
    "    lr = lr,\n",
    "    max_step=max_step,\n",
    "    batch_size=batch_size,\n",
    "    std_fe_limit=std_fe_limit,\n",
    "    suffix =\"_sum_exp_exact\",\n",
    "    exact=True,\n",
    "    batch_iter=batch_iter\n",
    ")\n",
    "data = pd.concat([data, res], axis = 1)\n"
   ]
  },
  {
   "cell_type": "code",
   "execution_count": null,
   "metadata": {},
   "outputs": [
    {
     "name": "stdout",
     "output_type": "stream",
     "text": [
      "Total Trainable Params: 20594\n",
      "Total Params: 20594\n",
      "step: 14 0.15 fe: -4.621 +- 0.00092 E: -0.001, S: 0.693, M: 0.08566"
     ]
    },
    {
     "ename": "KeyboardInterrupt",
     "evalue": "",
     "output_type": "error",
     "traceback": [
      "\u001b[0;31m---------------------------------------------------------------------------\u001b[0m",
      "\u001b[0;31mKeyboardInterrupt\u001b[0m                         Traceback (most recent call last)",
      "\u001b[1;32m/Users/ocadni/git/pytorch_test/results/Curie-Weiss/CW_model.ipynb Cella 17\u001b[0m in \u001b[0;36m<cell line: 9>\u001b[0;34m()\u001b[0m\n\u001b[1;32m      <a href='vscode-notebook-cell:/Users/ocadni/git/pytorch_test/results/Curie-Weiss/CW_model.ipynb#X22sZmlsZQ%3D%3D?line=6'>7</a>\u001b[0m dict_nets \u001b[39m=\u001b[39m {}\n\u001b[1;32m      <a href='vscode-notebook-cell:/Users/ocadni/git/pytorch_test/results/Curie-Weiss/CW_model.ipynb#X22sZmlsZQ%3D%3D?line=7'>8</a>\u001b[0m net2train \u001b[39m=\u001b[39m list_nets\u001b[39m.\u001b[39mlist_nets(CW_model, list_n, input_mask, device\u001b[39m=\u001b[39mdevice, dict_nets\u001b[39m=\u001b[39mdict_nets)\n\u001b[0;32m----> <a href='vscode-notebook-cell:/Users/ocadni/git/pytorch_test/results/Curie-Weiss/CW_model.ipynb#X22sZmlsZQ%3D%3D?line=8'>9</a>\u001b[0m res \u001b[39m=\u001b[39m run_lib\u001b[39m.\u001b[39;49mtrain_net(net2train, betas,\n\u001b[1;32m     <a href='vscode-notebook-cell:/Users/ocadni/git/pytorch_test/results/Curie-Weiss/CW_model.ipynb#X22sZmlsZQ%3D%3D?line=9'>10</a>\u001b[0m     lr \u001b[39m=\u001b[39;49m lr,\n\u001b[1;32m     <a href='vscode-notebook-cell:/Users/ocadni/git/pytorch_test/results/Curie-Weiss/CW_model.ipynb#X22sZmlsZQ%3D%3D?line=10'>11</a>\u001b[0m     max_step\u001b[39m=\u001b[39;49mmax_step,\n\u001b[1;32m     <a href='vscode-notebook-cell:/Users/ocadni/git/pytorch_test/results/Curie-Weiss/CW_model.ipynb#X22sZmlsZQ%3D%3D?line=11'>12</a>\u001b[0m     batch_size\u001b[39m=\u001b[39;49mbatch_size,\n\u001b[1;32m     <a href='vscode-notebook-cell:/Users/ocadni/git/pytorch_test/results/Curie-Weiss/CW_model.ipynb#X22sZmlsZQ%3D%3D?line=12'>13</a>\u001b[0m     std_fe_limit\u001b[39m=\u001b[39;49mstd_fe_limit,\n\u001b[1;32m     <a href='vscode-notebook-cell:/Users/ocadni/git/pytorch_test/results/Curie-Weiss/CW_model.ipynb#X22sZmlsZQ%3D%3D?line=13'>14</a>\u001b[0m     suffix \u001b[39m=\u001b[39;49m\u001b[39m\"\u001b[39;49m\u001b[39m_sum_exp\u001b[39;49m\u001b[39m\"\u001b[39;49m,\n\u001b[1;32m     <a href='vscode-notebook-cell:/Users/ocadni/git/pytorch_test/results/Curie-Weiss/CW_model.ipynb#X22sZmlsZQ%3D%3D?line=14'>15</a>\u001b[0m     batch_iter\u001b[39m=\u001b[39;49mbatch_iter\n\u001b[1;32m     <a href='vscode-notebook-cell:/Users/ocadni/git/pytorch_test/results/Curie-Weiss/CW_model.ipynb#X22sZmlsZQ%3D%3D?line=15'>16</a>\u001b[0m )\n\u001b[1;32m     <a href='vscode-notebook-cell:/Users/ocadni/git/pytorch_test/results/Curie-Weiss/CW_model.ipynb#X22sZmlsZQ%3D%3D?line=16'>17</a>\u001b[0m data \u001b[39m=\u001b[39m pd\u001b[39m.\u001b[39mconcat([data, res], axis \u001b[39m=\u001b[39m \u001b[39m1\u001b[39m)\n",
      "File \u001b[0;32m~/git/pytorch_test/results/Curie-Weiss/../../python_lib/run_lib.py:26\u001b[0m, in \u001b[0;36mtrain_net\u001b[0;34m(net2train, betas, lr, max_step, batch_size, batch_iter, std_fe_limit, suffix, exact)\u001b[0m\n\u001b[1;32m     17\u001b[0m net2train\u001b[39m.\u001b[39mtrain(\n\u001b[1;32m     18\u001b[0m     beta\u001b[39m=\u001b[39mbetas[\u001b[39m0\u001b[39m],\n\u001b[1;32m     19\u001b[0m     lr\u001b[39m=\u001b[39mlr,\n\u001b[0;32m   (...)\u001b[0m\n\u001b[1;32m     23\u001b[0m     exact\u001b[39m=\u001b[39mexact,\n\u001b[1;32m     24\u001b[0m )\n\u001b[1;32m     25\u001b[0m \u001b[39mfor\u001b[39;00m beta \u001b[39min\u001b[39;00m betas:\n\u001b[0;32m---> 26\u001b[0m     net2train\u001b[39m.\u001b[39;49mtrain(\n\u001b[1;32m     27\u001b[0m         beta\u001b[39m=\u001b[39;49mbeta,\n\u001b[1;32m     28\u001b[0m         lr\u001b[39m=\u001b[39;49mlr,\n\u001b[1;32m     29\u001b[0m         max_step\u001b[39m=\u001b[39;49mmax_step,\n\u001b[1;32m     30\u001b[0m         batch_size\u001b[39m=\u001b[39;49mbatch_size,\n\u001b[1;32m     31\u001b[0m         std_fe_limit\u001b[39m=\u001b[39;49mstd_fe_limit,\n\u001b[1;32m     32\u001b[0m         exact\u001b[39m=\u001b[39;49mexact,\n\u001b[1;32m     33\u001b[0m         set_optim\u001b[39m=\u001b[39;49m\u001b[39mFalse\u001b[39;49;00m\n\u001b[1;32m     34\u001b[0m     )\n\u001b[1;32m     36\u001b[0m     stats\u001b[39m.\u001b[39mappend(net2train\u001b[39m.\u001b[39mcompute_stats(\n\u001b[1;32m     37\u001b[0m         beta, batch_size\u001b[39m=\u001b[39mbatch_size, batch_iter\u001b[39m=\u001b[39mbatch_iter, print_\u001b[39m=\u001b[39m\u001b[39mTrue\u001b[39;00m))\n\u001b[1;32m     38\u001b[0m stats_pd \u001b[39m=\u001b[39m pd\u001b[39m.\u001b[39mDataFrame(stats)\n",
      "File \u001b[0;32m~/git/pytorch_test/results/Curie-Weiss/../../python_lib/nets/list_nets.py:305\u001b[0m, in \u001b[0;36mlist_nets.train\u001b[0;34m(self, lr, opt, beta, max_step, batch_size, std_fe_limit, batch_iter, ifprint, exact, set_optim)\u001b[0m\n\u001b[1;32m    291\u001b[0m \u001b[39mdef\u001b[39;00m \u001b[39mtrain\u001b[39m(\n\u001b[1;32m    292\u001b[0m     \u001b[39mself\u001b[39m,\n\u001b[1;32m    293\u001b[0m     lr\u001b[39m=\u001b[39m\u001b[39m1e-3\u001b[39m,\n\u001b[0;32m   (...)\u001b[0m\n\u001b[1;32m    302\u001b[0m     set_optim\u001b[39m=\u001b[39m\u001b[39mTrue\u001b[39;00m\n\u001b[1;32m    303\u001b[0m ):\n\u001b[1;32m    304\u001b[0m     \u001b[39mif\u001b[39;00m \u001b[39mnot\u001b[39;00m exact:\n\u001b[0;32m--> 305\u001b[0m         \u001b[39mreturn\u001b[39;00m \u001b[39msuper\u001b[39;49m()\u001b[39m.\u001b[39;49mtrain(lr\u001b[39m=\u001b[39;49mlr,\n\u001b[1;32m    306\u001b[0m                              opt\u001b[39m=\u001b[39;49mopt,\n\u001b[1;32m    307\u001b[0m                              beta\u001b[39m=\u001b[39;49mbeta,\n\u001b[1;32m    308\u001b[0m                              max_step\u001b[39m=\u001b[39;49mmax_step,\n\u001b[1;32m    309\u001b[0m                              batch_size\u001b[39m=\u001b[39;49mbatch_size,\n\u001b[1;32m    310\u001b[0m                              std_fe_limit\u001b[39m=\u001b[39;49mstd_fe_limit,\n\u001b[1;32m    311\u001b[0m                              batch_iter\u001b[39m=\u001b[39;49mbatch_iter,\n\u001b[1;32m    312\u001b[0m                              ifprint\u001b[39m=\u001b[39;49mifprint,\n\u001b[1;32m    313\u001b[0m                              set_optim\u001b[39m=\u001b[39;49mset_optim)\n\u001b[1;32m    315\u001b[0m     \u001b[39melse\u001b[39;00m:\n\u001b[1;32m    316\u001b[0m         \u001b[39mself\u001b[39m\u001b[39m.\u001b[39mset_params_exact(\u001b[39mself\u001b[39m\u001b[39m.\u001b[39mmodel, beta)\n",
      "File \u001b[0;32m~/git/pytorch_test/results/Curie-Weiss/../../python_lib/nets/ann.py:188\u001b[0m, in \u001b[0;36mANN.train\u001b[0;34m(self, lr, opt, beta, max_step, batch_size, std_fe_limit, batch_iter, ifprint, exact, set_optim)\u001b[0m\n\u001b[1;32m    185\u001b[0m     loss \u001b[39m=\u001b[39m log_prob \u001b[39m+\u001b[39m beta \u001b[39m*\u001b[39m energy\n\u001b[1;32m    187\u001b[0m loss_reinforce \u001b[39m=\u001b[39m torch\u001b[39m.\u001b[39mmean((loss \u001b[39m-\u001b[39m loss\u001b[39m.\u001b[39mmean()) \u001b[39m*\u001b[39m log_prob)\n\u001b[0;32m--> 188\u001b[0m loss_reinforce\u001b[39m.\u001b[39;49mbackward()\n\u001b[1;32m    189\u001b[0m optimizer\u001b[39m.\u001b[39mstep()\n\u001b[1;32m    190\u001b[0m stats \u001b[39m=\u001b[39m compute_stats(samples, loss, log_prob, energy,\n\u001b[1;32m    191\u001b[0m                       beta, \u001b[39mself\u001b[39m\u001b[39m.\u001b[39mmodel, step\u001b[39m=\u001b[39mstep, ifprint\u001b[39m=\u001b[39mifprint)\n",
      "File \u001b[0;32m~/opt/anaconda3/envs/m1torch/lib/python3.10/site-packages/torch/_tensor.py:396\u001b[0m, in \u001b[0;36mTensor.backward\u001b[0;34m(self, gradient, retain_graph, create_graph, inputs)\u001b[0m\n\u001b[1;32m    387\u001b[0m \u001b[39mif\u001b[39;00m has_torch_function_unary(\u001b[39mself\u001b[39m):\n\u001b[1;32m    388\u001b[0m     \u001b[39mreturn\u001b[39;00m handle_torch_function(\n\u001b[1;32m    389\u001b[0m         Tensor\u001b[39m.\u001b[39mbackward,\n\u001b[1;32m    390\u001b[0m         (\u001b[39mself\u001b[39m,),\n\u001b[0;32m   (...)\u001b[0m\n\u001b[1;32m    394\u001b[0m         create_graph\u001b[39m=\u001b[39mcreate_graph,\n\u001b[1;32m    395\u001b[0m         inputs\u001b[39m=\u001b[39minputs)\n\u001b[0;32m--> 396\u001b[0m torch\u001b[39m.\u001b[39;49mautograd\u001b[39m.\u001b[39;49mbackward(\u001b[39mself\u001b[39;49m, gradient, retain_graph, create_graph, inputs\u001b[39m=\u001b[39;49minputs)\n",
      "File \u001b[0;32m~/opt/anaconda3/envs/m1torch/lib/python3.10/site-packages/torch/autograd/__init__.py:173\u001b[0m, in \u001b[0;36mbackward\u001b[0;34m(tensors, grad_tensors, retain_graph, create_graph, grad_variables, inputs)\u001b[0m\n\u001b[1;32m    168\u001b[0m     retain_graph \u001b[39m=\u001b[39m create_graph\n\u001b[1;32m    170\u001b[0m \u001b[39m# The reason we repeat same the comment below is that\u001b[39;00m\n\u001b[1;32m    171\u001b[0m \u001b[39m# some Python versions print out the first line of a multi-line function\u001b[39;00m\n\u001b[1;32m    172\u001b[0m \u001b[39m# calls in the traceback and some print out the last line\u001b[39;00m\n\u001b[0;32m--> 173\u001b[0m Variable\u001b[39m.\u001b[39;49m_execution_engine\u001b[39m.\u001b[39;49mrun_backward(  \u001b[39m# Calls into the C++ engine to run the backward pass\u001b[39;49;00m\n\u001b[1;32m    174\u001b[0m     tensors, grad_tensors_, retain_graph, create_graph, inputs,\n\u001b[1;32m    175\u001b[0m     allow_unreachable\u001b[39m=\u001b[39;49m\u001b[39mTrue\u001b[39;49;00m, accumulate_grad\u001b[39m=\u001b[39;49m\u001b[39mTrue\u001b[39;49;00m)\n",
      "\u001b[0;31mKeyboardInterrupt\u001b[0m: "
     ]
    }
   ],
   "source": [
    "from python_lib.nets import list_nets\n",
    "importlib.reload(list_nets)\n",
    "\n",
    "list_n = list_nets.CW_net\n",
    "input_mask = torch.tril(J_interaction, diagonal=-1)\n",
    "input_mask = input_mask.to(dtype=torch.bool)\n",
    "dict_nets = {}\n",
    "net2train = list_nets.list_nets(CW_model, list_n, input_mask, device=device, dict_nets=dict_nets)\n",
    "res = run_lib.train_net(net2train, betas,\n",
    "    lr = lr,\n",
    "    max_step=max_step,\n",
    "    batch_size=batch_size,\n",
    "    std_fe_limit=std_fe_limit,\n",
    "    suffix =\"_sum_exp\",\n",
    "    batch_iter=batch_iter\n",
    ")\n",
    "data = pd.concat([data, res], axis = 1)\n"
   ]
  },
  {
   "cell_type": "code",
   "execution_count": null,
   "metadata": {},
   "outputs": [
    {
     "name": "stdout",
     "output_type": "stream",
     "text": [
      "Total Trainable Params: 1190\n",
      "Total Params: 1190\n",
      "step: 0 0.15 fe: -4.621 +- 0.00010 E: -0.001, S: 0.693, M: 0.086978"
     ]
    },
    {
     "ename": "KeyboardInterrupt",
     "evalue": "",
     "output_type": "error",
     "traceback": [
      "\u001b[0;31m---------------------------------------------------------------------------\u001b[0m",
      "\u001b[0;31mKeyboardInterrupt\u001b[0m                         Traceback (most recent call last)",
      "\u001b[1;32m/Users/ocadni/git/pytorch_test/results/Curie-Weiss/CW_model.ipynb Cella 18\u001b[0m in \u001b[0;36m<cell line: 9>\u001b[0;34m()\u001b[0m\n\u001b[1;32m      <a href='vscode-notebook-cell:/Users/ocadni/git/pytorch_test/results/Curie-Weiss/CW_model.ipynb#X23sZmlsZQ%3D%3D?line=6'>7</a>\u001b[0m dict_nets \u001b[39m=\u001b[39m {\u001b[39m\"\u001b[39m\u001b[39mnum_extremes\u001b[39m\u001b[39m\"\u001b[39m: \u001b[39m1\u001b[39m}\n\u001b[1;32m      <a href='vscode-notebook-cell:/Users/ocadni/git/pytorch_test/results/Curie-Weiss/CW_model.ipynb#X23sZmlsZQ%3D%3D?line=7'>8</a>\u001b[0m net2train \u001b[39m=\u001b[39m list_nets\u001b[39m.\u001b[39mlist_nets(CW_model, list_n, input_mask, device\u001b[39m=\u001b[39mdevice, dict_nets\u001b[39m=\u001b[39mdict_nets)\n\u001b[0;32m----> <a href='vscode-notebook-cell:/Users/ocadni/git/pytorch_test/results/Curie-Weiss/CW_model.ipynb#X23sZmlsZQ%3D%3D?line=8'>9</a>\u001b[0m res \u001b[39m=\u001b[39m run_lib\u001b[39m.\u001b[39;49mtrain_net(net2train, betas,\n\u001b[1;32m     <a href='vscode-notebook-cell:/Users/ocadni/git/pytorch_test/results/Curie-Weiss/CW_model.ipynb#X23sZmlsZQ%3D%3D?line=9'>10</a>\u001b[0m     lr \u001b[39m=\u001b[39;49m lr,\n\u001b[1;32m     <a href='vscode-notebook-cell:/Users/ocadni/git/pytorch_test/results/Curie-Weiss/CW_model.ipynb#X23sZmlsZQ%3D%3D?line=10'>11</a>\u001b[0m     max_step\u001b[39m=\u001b[39;49mmax_step,\n\u001b[1;32m     <a href='vscode-notebook-cell:/Users/ocadni/git/pytorch_test/results/Curie-Weiss/CW_model.ipynb#X23sZmlsZQ%3D%3D?line=11'>12</a>\u001b[0m     batch_size\u001b[39m=\u001b[39;49mbatch_size,\n\u001b[1;32m     <a href='vscode-notebook-cell:/Users/ocadni/git/pytorch_test/results/Curie-Weiss/CW_model.ipynb#X23sZmlsZQ%3D%3D?line=12'>13</a>\u001b[0m     std_fe_limit\u001b[39m=\u001b[39;49mstd_fe_limit,\n\u001b[1;32m     <a href='vscode-notebook-cell:/Users/ocadni/git/pytorch_test/results/Curie-Weiss/CW_model.ipynb#X23sZmlsZQ%3D%3D?line=13'>14</a>\u001b[0m     suffix \u001b[39m=\u001b[39;49m\u001b[39m\"\u001b[39;49m\u001b[39m_sp\u001b[39;49m\u001b[39m\"\u001b[39;49m,\n\u001b[1;32m     <a href='vscode-notebook-cell:/Users/ocadni/git/pytorch_test/results/Curie-Weiss/CW_model.ipynb#X23sZmlsZQ%3D%3D?line=14'>15</a>\u001b[0m     batch_iter\u001b[39m=\u001b[39;49mbatch_iter\n\u001b[1;32m     <a href='vscode-notebook-cell:/Users/ocadni/git/pytorch_test/results/Curie-Weiss/CW_model.ipynb#X23sZmlsZQ%3D%3D?line=15'>16</a>\u001b[0m )\n\u001b[1;32m     <a href='vscode-notebook-cell:/Users/ocadni/git/pytorch_test/results/Curie-Weiss/CW_model.ipynb#X23sZmlsZQ%3D%3D?line=16'>17</a>\u001b[0m data \u001b[39m=\u001b[39m pd\u001b[39m.\u001b[39mconcat([data, res], axis \u001b[39m=\u001b[39m \u001b[39m1\u001b[39m)\n",
      "File \u001b[0;32m~/git/pytorch_test/results/Curie-Weiss/../../python_lib/run_lib.py:36\u001b[0m, in \u001b[0;36mtrain_net\u001b[0;34m(net2train, betas, lr, max_step, batch_size, batch_iter, std_fe_limit, suffix, exact)\u001b[0m\n\u001b[1;32m     25\u001b[0m \u001b[39mfor\u001b[39;00m beta \u001b[39min\u001b[39;00m betas:\n\u001b[1;32m     26\u001b[0m     net2train\u001b[39m.\u001b[39mtrain(\n\u001b[1;32m     27\u001b[0m         beta\u001b[39m=\u001b[39mbeta,\n\u001b[1;32m     28\u001b[0m         lr\u001b[39m=\u001b[39mlr,\n\u001b[0;32m   (...)\u001b[0m\n\u001b[1;32m     33\u001b[0m         set_optim\u001b[39m=\u001b[39m\u001b[39mFalse\u001b[39;00m\n\u001b[1;32m     34\u001b[0m     )\n\u001b[0;32m---> 36\u001b[0m     stats\u001b[39m.\u001b[39mappend(net2train\u001b[39m.\u001b[39;49mcompute_stats(\n\u001b[1;32m     37\u001b[0m         beta, batch_size\u001b[39m=\u001b[39;49mbatch_size, batch_iter\u001b[39m=\u001b[39;49mbatch_iter, print_\u001b[39m=\u001b[39;49m\u001b[39mTrue\u001b[39;49;00m))\n\u001b[1;32m     38\u001b[0m stats_pd \u001b[39m=\u001b[39m pd\u001b[39m.\u001b[39mDataFrame(stats)\n\u001b[1;32m     39\u001b[0m \u001b[39mreturn\u001b[39;00m stats_pd\u001b[39m.\u001b[39madd_suffix(suffix)\n",
      "File \u001b[0;32m~/git/pytorch_test/results/Curie-Weiss/../../python_lib/nets/ann.py:121\u001b[0m, in \u001b[0;36mANN.compute_stats\u001b[0;34m(self, beta, batch_size, print_, batch_iter)\u001b[0m\n\u001b[1;32m    119\u001b[0m \u001b[39mwith\u001b[39;00m torch\u001b[39m.\u001b[39mno_grad():\n\u001b[1;32m    120\u001b[0m     x, x_hat \u001b[39m=\u001b[39m \u001b[39mself\u001b[39m\u001b[39m.\u001b[39msample(batch_size)\n\u001b[0;32m--> 121\u001b[0m     log_prob \u001b[39m=\u001b[39m \u001b[39mself\u001b[39;49m\u001b[39m.\u001b[39;49m_log_prob(x, x_hat)\n\u001b[1;32m    122\u001b[0m     energy \u001b[39m=\u001b[39m \u001b[39mself\u001b[39m\u001b[39m.\u001b[39mmodel\u001b[39m.\u001b[39menergy(x)\n\u001b[1;32m    123\u001b[0m     loss \u001b[39m=\u001b[39m log_prob \u001b[39m+\u001b[39m beta \u001b[39m*\u001b[39m energy\n",
      "File \u001b[0;32m~/git/pytorch_test/results/Curie-Weiss/../../python_lib/nets/ann.py:107\u001b[0m, in \u001b[0;36mANN._log_prob\u001b[0;34m(self, x, x_hat)\u001b[0m\n\u001b[1;32m    103\u001b[0m mask \u001b[39m=\u001b[39m (x \u001b[39m+\u001b[39m \u001b[39m1\u001b[39m) \u001b[39m/\u001b[39m \u001b[39m2\u001b[39m\n\u001b[1;32m    104\u001b[0m log_prob \u001b[39m=\u001b[39m torch\u001b[39m.\u001b[39mlog(x_hat \u001b[39m+\u001b[39m \u001b[39mself\u001b[39m\u001b[39m.\u001b[39meps) \u001b[39m*\u001b[39m mask \u001b[39m+\u001b[39m torch\u001b[39m.\u001b[39mlog(\n\u001b[1;32m    105\u001b[0m     \u001b[39m1\u001b[39m \u001b[39m-\u001b[39m x_hat \u001b[39m+\u001b[39m \u001b[39mself\u001b[39m\u001b[39m.\u001b[39meps\n\u001b[1;32m    106\u001b[0m ) \u001b[39m*\u001b[39m (\u001b[39m1\u001b[39m \u001b[39m-\u001b[39m mask)\n\u001b[0;32m--> 107\u001b[0m log_prob \u001b[39m=\u001b[39m log_prob\u001b[39m.\u001b[39;49mview(log_prob\u001b[39m.\u001b[39;49mshape[\u001b[39m0\u001b[39;49m], \u001b[39m-\u001b[39;49m\u001b[39m1\u001b[39;49m)\u001b[39m.\u001b[39;49msum(dim\u001b[39m=\u001b[39;49m\u001b[39m1\u001b[39;49m)\n\u001b[1;32m    108\u001b[0m \u001b[39mreturn\u001b[39;00m log_prob\n",
      "\u001b[0;31mKeyboardInterrupt\u001b[0m: "
     ]
    }
   ],
   "source": [
    "from python_lib.nets import list_nets\n",
    "importlib.reload(list_nets)\n",
    "\n",
    "list_n = list_nets.CW_net_sp\n",
    "input_mask = torch.tril(J_interaction, diagonal=-1)\n",
    "input_mask = input_mask.to(dtype=torch.bool)\n",
    "dict_nets = {\"num_extremes\": 1}\n",
    "net2train = list_nets.list_nets(CW_model, list_n, input_mask, device=device, dict_nets=dict_nets)\n",
    "res = run_lib.train_net(net2train, betas,\n",
    "    lr = lr,\n",
    "    max_step=max_step,\n",
    "    batch_size=batch_size,\n",
    "    std_fe_limit=std_fe_limit,\n",
    "    suffix =\"_sp\",\n",
    "    batch_iter=batch_iter\n",
    ")\n",
    "data = pd.concat([data, res], axis = 1)\n"
   ]
  },
  {
   "cell_type": "code",
   "execution_count": null,
   "metadata": {},
   "outputs": [
    {
     "name": "stdout",
     "output_type": "stream",
     "text": [
      "Total Trainable Params: 1982\n",
      "Total Params: 1982\n",
      "step: 59 0.10 fe: -6.932 +- 0.00120 E: -0.001, S: 0.693, M: 0.0834"
     ]
    },
    {
     "ename": "KeyboardInterrupt",
     "evalue": "",
     "output_type": "error",
     "traceback": [
      "\u001b[0;31m---------------------------------------------------------------------------\u001b[0m",
      "\u001b[0;31mKeyboardInterrupt\u001b[0m                         Traceback (most recent call last)",
      "\u001b[1;32m/Users/ocadni/git/pytorch_test/results/Curie-Weiss/CW_model.ipynb Cella 19\u001b[0m in \u001b[0;36m<cell line: 9>\u001b[0;34m()\u001b[0m\n\u001b[1;32m      <a href='vscode-notebook-cell:/Users/ocadni/git/pytorch_test/results/Curie-Weiss/CW_model.ipynb#X24sZmlsZQ%3D%3D?line=6'>7</a>\u001b[0m dict_nets \u001b[39m=\u001b[39m {\u001b[39m\"\u001b[39m\u001b[39mnum_extremes\u001b[39m\u001b[39m\"\u001b[39m: \u001b[39m2\u001b[39m}\n\u001b[1;32m      <a href='vscode-notebook-cell:/Users/ocadni/git/pytorch_test/results/Curie-Weiss/CW_model.ipynb#X24sZmlsZQ%3D%3D?line=7'>8</a>\u001b[0m net2train \u001b[39m=\u001b[39m list_nets\u001b[39m.\u001b[39mlist_nets(CW_model, list_n, input_mask, device\u001b[39m=\u001b[39mdevice, dict_nets\u001b[39m=\u001b[39mdict_nets)\n\u001b[0;32m----> <a href='vscode-notebook-cell:/Users/ocadni/git/pytorch_test/results/Curie-Weiss/CW_model.ipynb#X24sZmlsZQ%3D%3D?line=8'>9</a>\u001b[0m res \u001b[39m=\u001b[39m run_lib\u001b[39m.\u001b[39;49mtrain_net(net2train, betas,\n\u001b[1;32m     <a href='vscode-notebook-cell:/Users/ocadni/git/pytorch_test/results/Curie-Weiss/CW_model.ipynb#X24sZmlsZQ%3D%3D?line=9'>10</a>\u001b[0m     lr \u001b[39m=\u001b[39;49m lr,\n\u001b[1;32m     <a href='vscode-notebook-cell:/Users/ocadni/git/pytorch_test/results/Curie-Weiss/CW_model.ipynb#X24sZmlsZQ%3D%3D?line=10'>11</a>\u001b[0m     max_step\u001b[39m=\u001b[39;49mmax_step,\n\u001b[1;32m     <a href='vscode-notebook-cell:/Users/ocadni/git/pytorch_test/results/Curie-Weiss/CW_model.ipynb#X24sZmlsZQ%3D%3D?line=11'>12</a>\u001b[0m     batch_size\u001b[39m=\u001b[39;49mbatch_size,\n\u001b[1;32m     <a href='vscode-notebook-cell:/Users/ocadni/git/pytorch_test/results/Curie-Weiss/CW_model.ipynb#X24sZmlsZQ%3D%3D?line=12'>13</a>\u001b[0m     std_fe_limit\u001b[39m=\u001b[39;49mstd_fe_limit,\n\u001b[1;32m     <a href='vscode-notebook-cell:/Users/ocadni/git/pytorch_test/results/Curie-Weiss/CW_model.ipynb#X24sZmlsZQ%3D%3D?line=13'>14</a>\u001b[0m     suffix \u001b[39m=\u001b[39;49m\u001b[39m\"\u001b[39;49m\u001b[39m_sp2\u001b[39;49m\u001b[39m\"\u001b[39;49m,\n\u001b[1;32m     <a href='vscode-notebook-cell:/Users/ocadni/git/pytorch_test/results/Curie-Weiss/CW_model.ipynb#X24sZmlsZQ%3D%3D?line=14'>15</a>\u001b[0m     batch_iter\u001b[39m=\u001b[39;49mbatch_iter\n\u001b[1;32m     <a href='vscode-notebook-cell:/Users/ocadni/git/pytorch_test/results/Curie-Weiss/CW_model.ipynb#X24sZmlsZQ%3D%3D?line=15'>16</a>\u001b[0m )\n\u001b[1;32m     <a href='vscode-notebook-cell:/Users/ocadni/git/pytorch_test/results/Curie-Weiss/CW_model.ipynb#X24sZmlsZQ%3D%3D?line=16'>17</a>\u001b[0m data \u001b[39m=\u001b[39m pd\u001b[39m.\u001b[39mconcat([data, res], axis \u001b[39m=\u001b[39m \u001b[39m1\u001b[39m)\n",
      "File \u001b[0;32m~/git/pytorch_test/results/Curie-Weiss/../../python_lib/run_lib.py:17\u001b[0m, in \u001b[0;36mtrain_net\u001b[0;34m(net2train, betas, lr, max_step, batch_size, batch_iter, std_fe_limit, suffix, exact)\u001b[0m\n\u001b[1;32m      5\u001b[0m \u001b[39mdef\u001b[39;00m \u001b[39mtrain_net\u001b[39m(\n\u001b[1;32m      6\u001b[0m     net2train,\n\u001b[1;32m      7\u001b[0m     betas,\n\u001b[0;32m   (...)\u001b[0m\n\u001b[1;32m     14\u001b[0m     exact\u001b[39m=\u001b[39m\u001b[39mFalse\u001b[39;00m,\n\u001b[1;32m     15\u001b[0m ):\n\u001b[1;32m     16\u001b[0m     stats \u001b[39m=\u001b[39m []\n\u001b[0;32m---> 17\u001b[0m     net2train\u001b[39m.\u001b[39;49mtrain(\n\u001b[1;32m     18\u001b[0m         beta\u001b[39m=\u001b[39;49mbetas[\u001b[39m0\u001b[39;49m],\n\u001b[1;32m     19\u001b[0m         lr\u001b[39m=\u001b[39;49mlr,\n\u001b[1;32m     20\u001b[0m         max_step\u001b[39m=\u001b[39;49m\u001b[39m2000\u001b[39;49m,\n\u001b[1;32m     21\u001b[0m         batch_size\u001b[39m=\u001b[39;49mbatch_size,\n\u001b[1;32m     22\u001b[0m         std_fe_limit\u001b[39m=\u001b[39;49mstd_fe_limit,\n\u001b[1;32m     23\u001b[0m         exact\u001b[39m=\u001b[39;49mexact,\n\u001b[1;32m     24\u001b[0m     )\n\u001b[1;32m     25\u001b[0m     \u001b[39mfor\u001b[39;00m beta \u001b[39min\u001b[39;00m betas:\n\u001b[1;32m     26\u001b[0m         net2train\u001b[39m.\u001b[39mtrain(\n\u001b[1;32m     27\u001b[0m             beta\u001b[39m=\u001b[39mbeta,\n\u001b[1;32m     28\u001b[0m             lr\u001b[39m=\u001b[39mlr,\n\u001b[0;32m   (...)\u001b[0m\n\u001b[1;32m     33\u001b[0m             set_optim\u001b[39m=\u001b[39m\u001b[39mFalse\u001b[39;00m\n\u001b[1;32m     34\u001b[0m         )\n",
      "File \u001b[0;32m~/git/pytorch_test/results/Curie-Weiss/../../python_lib/nets/list_nets.py:305\u001b[0m, in \u001b[0;36mlist_nets.train\u001b[0;34m(self, lr, opt, beta, max_step, batch_size, std_fe_limit, batch_iter, ifprint, exact, set_optim)\u001b[0m\n\u001b[1;32m    291\u001b[0m \u001b[39mdef\u001b[39;00m \u001b[39mtrain\u001b[39m(\n\u001b[1;32m    292\u001b[0m     \u001b[39mself\u001b[39m,\n\u001b[1;32m    293\u001b[0m     lr\u001b[39m=\u001b[39m\u001b[39m1e-3\u001b[39m,\n\u001b[0;32m   (...)\u001b[0m\n\u001b[1;32m    302\u001b[0m     set_optim\u001b[39m=\u001b[39m\u001b[39mTrue\u001b[39;00m\n\u001b[1;32m    303\u001b[0m ):\n\u001b[1;32m    304\u001b[0m     \u001b[39mif\u001b[39;00m \u001b[39mnot\u001b[39;00m exact:\n\u001b[0;32m--> 305\u001b[0m         \u001b[39mreturn\u001b[39;00m \u001b[39msuper\u001b[39;49m()\u001b[39m.\u001b[39;49mtrain(lr\u001b[39m=\u001b[39;49mlr,\n\u001b[1;32m    306\u001b[0m                              opt\u001b[39m=\u001b[39;49mopt,\n\u001b[1;32m    307\u001b[0m                              beta\u001b[39m=\u001b[39;49mbeta,\n\u001b[1;32m    308\u001b[0m                              max_step\u001b[39m=\u001b[39;49mmax_step,\n\u001b[1;32m    309\u001b[0m                              batch_size\u001b[39m=\u001b[39;49mbatch_size,\n\u001b[1;32m    310\u001b[0m                              std_fe_limit\u001b[39m=\u001b[39;49mstd_fe_limit,\n\u001b[1;32m    311\u001b[0m                              batch_iter\u001b[39m=\u001b[39;49mbatch_iter,\n\u001b[1;32m    312\u001b[0m                              ifprint\u001b[39m=\u001b[39;49mifprint,\n\u001b[1;32m    313\u001b[0m                              set_optim\u001b[39m=\u001b[39;49mset_optim)\n\u001b[1;32m    315\u001b[0m     \u001b[39melse\u001b[39;00m:\n\u001b[1;32m    316\u001b[0m         \u001b[39mself\u001b[39m\u001b[39m.\u001b[39mset_params_exact(\u001b[39mself\u001b[39m\u001b[39m.\u001b[39mmodel, beta)\n",
      "File \u001b[0;32m~/git/pytorch_test/results/Curie-Weiss/../../python_lib/nets/ann.py:179\u001b[0m, in \u001b[0;36mANN.train\u001b[0;34m(self, lr, opt, beta, max_step, batch_size, std_fe_limit, batch_iter, ifprint, exact, set_optim)\u001b[0m\n\u001b[1;32m    177\u001b[0m optimizer\u001b[39m.\u001b[39mzero_grad()\n\u001b[1;32m    178\u001b[0m \u001b[39mwith\u001b[39;00m torch\u001b[39m.\u001b[39mno_grad():\n\u001b[0;32m--> 179\u001b[0m     samples, x_hat \u001b[39m=\u001b[39m \u001b[39mself\u001b[39;49m\u001b[39m.\u001b[39;49msample(batch_size)\n\u001b[1;32m    181\u001b[0m log_prob \u001b[39m=\u001b[39m \u001b[39mself\u001b[39m\u001b[39m.\u001b[39mlog_prob(samples)\n\u001b[1;32m    183\u001b[0m \u001b[39mwith\u001b[39;00m torch\u001b[39m.\u001b[39mno_grad():\n",
      "File \u001b[0;32m~/git/pytorch_test/results/Curie-Weiss/../../python_lib/nets/list_nets.py:283\u001b[0m, in \u001b[0;36mlist_nets.sample\u001b[0;34m(self, batch_size)\u001b[0m\n\u001b[1;32m    281\u001b[0m         mask_n_i \u001b[39m=\u001b[39m \u001b[39mself\u001b[39m\u001b[39m.\u001b[39minput_mask[n_i, :]\n\u001b[1;32m    282\u001b[0m         input_x \u001b[39m=\u001b[39m x[:, mask_n_i]\n\u001b[0;32m--> 283\u001b[0m         x_hat[:, n_i] \u001b[39m=\u001b[39m \u001b[39mself\u001b[39;49m\u001b[39m.\u001b[39;49mnet[n_i](input_x)\u001b[39m.\u001b[39mt()\n\u001b[1;32m    284\u001b[0m         x[:, n_i] \u001b[39m=\u001b[39m torch\u001b[39m.\u001b[39mbernoulli(x_hat[:, n_i]) \u001b[39m*\u001b[39m \u001b[39m2\u001b[39m \u001b[39m-\u001b[39m \u001b[39m1\u001b[39m\n\u001b[1;32m    285\u001b[0m \u001b[39mreturn\u001b[39;00m x, x_hat\n",
      "File \u001b[0;32m~/opt/anaconda3/envs/m1torch/lib/python3.10/site-packages/torch/nn/modules/module.py:1130\u001b[0m, in \u001b[0;36mModule._call_impl\u001b[0;34m(self, *input, **kwargs)\u001b[0m\n\u001b[1;32m   1126\u001b[0m \u001b[39m# If we don't have any hooks, we want to skip the rest of the logic in\u001b[39;00m\n\u001b[1;32m   1127\u001b[0m \u001b[39m# this function, and just call forward.\u001b[39;00m\n\u001b[1;32m   1128\u001b[0m \u001b[39mif\u001b[39;00m \u001b[39mnot\u001b[39;00m (\u001b[39mself\u001b[39m\u001b[39m.\u001b[39m_backward_hooks \u001b[39mor\u001b[39;00m \u001b[39mself\u001b[39m\u001b[39m.\u001b[39m_forward_hooks \u001b[39mor\u001b[39;00m \u001b[39mself\u001b[39m\u001b[39m.\u001b[39m_forward_pre_hooks \u001b[39mor\u001b[39;00m _global_backward_hooks\n\u001b[1;32m   1129\u001b[0m         \u001b[39mor\u001b[39;00m _global_forward_hooks \u001b[39mor\u001b[39;00m _global_forward_pre_hooks):\n\u001b[0;32m-> 1130\u001b[0m     \u001b[39mreturn\u001b[39;00m forward_call(\u001b[39m*\u001b[39;49m\u001b[39minput\u001b[39;49m, \u001b[39m*\u001b[39;49m\u001b[39m*\u001b[39;49mkwargs)\n\u001b[1;32m   1131\u001b[0m \u001b[39m# Do not call functions when jit is used\u001b[39;00m\n\u001b[1;32m   1132\u001b[0m full_backward_hooks, non_full_backward_hooks \u001b[39m=\u001b[39m [], []\n",
      "File \u001b[0;32m~/git/pytorch_test/results/Curie-Weiss/../../python_lib/nets/list_nets.py:220\u001b[0m, in \u001b[0;36mCW_net_sp.forward\u001b[0;34m(self, x)\u001b[0m\n\u001b[1;32m    218\u001b[0m res_p \u001b[39m=\u001b[39m \u001b[39mself\u001b[39m\u001b[39m.\u001b[39mbias_m2 \u001b[39m+\u001b[39m \u001b[39mself\u001b[39m\u001b[39m.\u001b[39mweight_p2 \u001b[39m*\u001b[39m torch\u001b[39m.\u001b[39munsqueeze(m_i, dim\u001b[39m=\u001b[39m\u001b[39m1\u001b[39m)\n\u001b[1;32m    219\u001b[0m res_p \u001b[39m=\u001b[39m \u001b[39mself\u001b[39m\u001b[39m.\u001b[39mbias_p1 \u001b[39m+\u001b[39m \u001b[39mself\u001b[39m\u001b[39m.\u001b[39mweight_p1 \u001b[39m*\u001b[39m torch\u001b[39m.\u001b[39mcosh(res_p)\n\u001b[0;32m--> 220\u001b[0m res_p \u001b[39m=\u001b[39m \u001b[39mself\u001b[39;49m\u001b[39m.\u001b[39;49mweight_0p \u001b[39m*\u001b[39m torch\u001b[39m.\u001b[39mlogsumexp(res_p, \u001b[39m1\u001b[39m)\n\u001b[1;32m    221\u001b[0m res_m \u001b[39m=\u001b[39m \u001b[39mself\u001b[39m\u001b[39m.\u001b[39mbias_m2 \u001b[39m+\u001b[39m \u001b[39mself\u001b[39m\u001b[39m.\u001b[39mweight_m2 \u001b[39m*\u001b[39m torch\u001b[39m.\u001b[39munsqueeze(m_i, dim\u001b[39m=\u001b[39m\u001b[39m1\u001b[39m)\n\u001b[1;32m    222\u001b[0m res_m \u001b[39m=\u001b[39m \u001b[39mself\u001b[39m\u001b[39m.\u001b[39mbias_m1 \u001b[39m+\u001b[39m \u001b[39mself\u001b[39m\u001b[39m.\u001b[39mweight_m1 \u001b[39m*\u001b[39m torch\u001b[39m.\u001b[39mcosh(res_m)\n",
      "File \u001b[0;32m~/opt/anaconda3/envs/m1torch/lib/python3.10/site-packages/torch/nn/modules/module.py:1194\u001b[0m, in \u001b[0;36mModule.__getattr__\u001b[0;34m(self, name)\u001b[0m\n\u001b[1;32m   1191\u001b[0m     \u001b[39mif\u001b[39;00m \u001b[39m'\u001b[39m\u001b[39m_is_full_backward_hook\u001b[39m\u001b[39m'\u001b[39m \u001b[39mnot\u001b[39;00m \u001b[39min\u001b[39;00m \u001b[39mself\u001b[39m\u001b[39m.\u001b[39m\u001b[39m__dict__\u001b[39m:\n\u001b[1;32m   1192\u001b[0m         \u001b[39mself\u001b[39m\u001b[39m.\u001b[39m_is_full_backward_hook \u001b[39m=\u001b[39m \u001b[39mNone\u001b[39;00m\n\u001b[0;32m-> 1194\u001b[0m \u001b[39mdef\u001b[39;00m \u001b[39m__getattr__\u001b[39m(\u001b[39mself\u001b[39m, name: \u001b[39mstr\u001b[39m) \u001b[39m-\u001b[39m\u001b[39m>\u001b[39m Union[Tensor, \u001b[39m'\u001b[39m\u001b[39mModule\u001b[39m\u001b[39m'\u001b[39m]:\n\u001b[1;32m   1195\u001b[0m     \u001b[39mif\u001b[39;00m \u001b[39m'\u001b[39m\u001b[39m_parameters\u001b[39m\u001b[39m'\u001b[39m \u001b[39min\u001b[39;00m \u001b[39mself\u001b[39m\u001b[39m.\u001b[39m\u001b[39m__dict__\u001b[39m:\n\u001b[1;32m   1196\u001b[0m         _parameters \u001b[39m=\u001b[39m \u001b[39mself\u001b[39m\u001b[39m.\u001b[39m\u001b[39m__dict__\u001b[39m[\u001b[39m'\u001b[39m\u001b[39m_parameters\u001b[39m\u001b[39m'\u001b[39m]\n",
      "\u001b[0;31mKeyboardInterrupt\u001b[0m: "
     ]
    }
   ],
   "source": [
    "from python_lib.nets import list_nets\n",
    "importlib.reload(list_nets)\n",
    "\n",
    "list_n = list_nets.CW_net_sp\n",
    "input_mask = torch.tril(J_interaction, diagonal=-1)\n",
    "input_mask = input_mask.to(dtype=torch.bool)\n",
    "dict_nets = {\"num_extremes\": 2}\n",
    "net2train = list_nets.list_nets(CW_model, list_n, input_mask, device=device, dict_nets=dict_nets)\n",
    "res = run_lib.train_net(net2train, betas,\n",
    "    lr = lr,\n",
    "    max_step=max_step,\n",
    "    batch_size=batch_size,\n",
    "    std_fe_limit=std_fe_limit,\n",
    "    suffix =\"_sp2\",\n",
    "    batch_iter=batch_iter\n",
    ")\n",
    "data = pd.concat([data, res], axis = 1)\n"
   ]
  },
  {
   "cell_type": "code",
   "execution_count": null,
   "metadata": {},
   "outputs": [
    {
     "name": "stdout",
     "output_type": "stream",
     "text": [
      "step: 33 1.12 fe: -0.636 +- 0.00044 E: -0.126, S: 0.571, M: 0.47215"
     ]
    },
    {
     "ename": "RuntimeError",
     "evalue": "Expected p_in >= 0 && p_in <= 1 to be true, but got false.  (Could this error message be improved?  If so, please report an enhancement request to PyTorch.)",
     "output_type": "error",
     "traceback": [
      "\u001b[0;31m---------------------------------------------------------------------------\u001b[0m",
      "\u001b[0;31mRuntimeError\u001b[0m                              Traceback (most recent call last)",
      "\u001b[1;32m/Users/ocadni/git/pytorch_test/results/Curie-Weiss/CW_model.ipynb Cella 20\u001b[0m in \u001b[0;36m<cell line: 9>\u001b[0;34m()\u001b[0m\n\u001b[1;32m      <a href='vscode-notebook-cell:/Users/ocadni/git/pytorch_test/results/Curie-Weiss/CW_model.ipynb#Z1034sZmlsZQ%3D%3D?line=6'>7</a>\u001b[0m dict_nets \u001b[39m=\u001b[39m {\u001b[39m\"\u001b[39m\u001b[39mnum_extremes\u001b[39m\u001b[39m\"\u001b[39m: \u001b[39m4\u001b[39m}\n\u001b[1;32m      <a href='vscode-notebook-cell:/Users/ocadni/git/pytorch_test/results/Curie-Weiss/CW_model.ipynb#Z1034sZmlsZQ%3D%3D?line=7'>8</a>\u001b[0m net2train \u001b[39m=\u001b[39m list_nets\u001b[39m.\u001b[39mlist_nets(CW_model, list_n, input_mask, device\u001b[39m=\u001b[39mdevice, dict_nets\u001b[39m=\u001b[39mdict_nets)\n\u001b[0;32m----> <a href='vscode-notebook-cell:/Users/ocadni/git/pytorch_test/results/Curie-Weiss/CW_model.ipynb#Z1034sZmlsZQ%3D%3D?line=8'>9</a>\u001b[0m res \u001b[39m=\u001b[39m train_net(net2train, betas,\n\u001b[1;32m     <a href='vscode-notebook-cell:/Users/ocadni/git/pytorch_test/results/Curie-Weiss/CW_model.ipynb#Z1034sZmlsZQ%3D%3D?line=9'>10</a>\u001b[0m     lr \u001b[39m=\u001b[39;49m lr,\n\u001b[1;32m     <a href='vscode-notebook-cell:/Users/ocadni/git/pytorch_test/results/Curie-Weiss/CW_model.ipynb#Z1034sZmlsZQ%3D%3D?line=10'>11</a>\u001b[0m     max_step\u001b[39m=\u001b[39;49mmax_step,\n\u001b[1;32m     <a href='vscode-notebook-cell:/Users/ocadni/git/pytorch_test/results/Curie-Weiss/CW_model.ipynb#Z1034sZmlsZQ%3D%3D?line=11'>12</a>\u001b[0m     batch_size\u001b[39m=\u001b[39;49mbatch_size,\n\u001b[1;32m     <a href='vscode-notebook-cell:/Users/ocadni/git/pytorch_test/results/Curie-Weiss/CW_model.ipynb#Z1034sZmlsZQ%3D%3D?line=12'>13</a>\u001b[0m     std_fe_limit\u001b[39m=\u001b[39;49mstd_fe_limit,\n\u001b[1;32m     <a href='vscode-notebook-cell:/Users/ocadni/git/pytorch_test/results/Curie-Weiss/CW_model.ipynb#Z1034sZmlsZQ%3D%3D?line=13'>14</a>\u001b[0m     suffix \u001b[39m=\u001b[39;49m\u001b[39m\"\u001b[39;49m\u001b[39m_sp4\u001b[39;49m\u001b[39m\"\u001b[39;49m,\n\u001b[1;32m     <a href='vscode-notebook-cell:/Users/ocadni/git/pytorch_test/results/Curie-Weiss/CW_model.ipynb#Z1034sZmlsZQ%3D%3D?line=14'>15</a>\u001b[0m     batch_iter\u001b[39m=\u001b[39;49mbatch_iter\n\u001b[1;32m     <a href='vscode-notebook-cell:/Users/ocadni/git/pytorch_test/results/Curie-Weiss/CW_model.ipynb#Z1034sZmlsZQ%3D%3D?line=15'>16</a>\u001b[0m )\n\u001b[1;32m     <a href='vscode-notebook-cell:/Users/ocadni/git/pytorch_test/results/Curie-Weiss/CW_model.ipynb#Z1034sZmlsZQ%3D%3D?line=16'>17</a>\u001b[0m data \u001b[39m=\u001b[39m pd\u001b[39m.\u001b[39mconcat([data, res], axis \u001b[39m=\u001b[39m \u001b[39m1\u001b[39m)\n",
      "\u001b[1;32m/Users/ocadni/git/pytorch_test/results/Curie-Weiss/CW_model.ipynb Cella 20\u001b[0m in \u001b[0;36mtrain_net\u001b[0;34m(net2train, betas, lr, max_step, batch_size, batch_iter, std_fe_limit, suffix, exact)\u001b[0m\n\u001b[1;32m     <a href='vscode-notebook-cell:/Users/ocadni/git/pytorch_test/results/Curie-Weiss/CW_model.ipynb#Z1034sZmlsZQ%3D%3D?line=18'>19</a>\u001b[0m net2train\u001b[39m.\u001b[39mtrain(\n\u001b[1;32m     <a href='vscode-notebook-cell:/Users/ocadni/git/pytorch_test/results/Curie-Weiss/CW_model.ipynb#Z1034sZmlsZQ%3D%3D?line=19'>20</a>\u001b[0m         beta\u001b[39m=\u001b[39mbetas[\u001b[39m0\u001b[39m],\n\u001b[1;32m     <a href='vscode-notebook-cell:/Users/ocadni/git/pytorch_test/results/Curie-Weiss/CW_model.ipynb#Z1034sZmlsZQ%3D%3D?line=20'>21</a>\u001b[0m         lr\u001b[39m=\u001b[39mlr,\n\u001b[0;32m   (...)\u001b[0m\n\u001b[1;32m     <a href='vscode-notebook-cell:/Users/ocadni/git/pytorch_test/results/Curie-Weiss/CW_model.ipynb#Z1034sZmlsZQ%3D%3D?line=24'>25</a>\u001b[0m         exact \u001b[39m=\u001b[39m exact,\n\u001b[1;32m     <a href='vscode-notebook-cell:/Users/ocadni/git/pytorch_test/results/Curie-Weiss/CW_model.ipynb#Z1034sZmlsZQ%3D%3D?line=25'>26</a>\u001b[0m     )\n\u001b[1;32m     <a href='vscode-notebook-cell:/Users/ocadni/git/pytorch_test/results/Curie-Weiss/CW_model.ipynb#Z1034sZmlsZQ%3D%3D?line=26'>27</a>\u001b[0m \u001b[39mfor\u001b[39;00m beta \u001b[39min\u001b[39;00m betas:\n\u001b[0;32m---> <a href='vscode-notebook-cell:/Users/ocadni/git/pytorch_test/results/Curie-Weiss/CW_model.ipynb#Z1034sZmlsZQ%3D%3D?line=27'>28</a>\u001b[0m     net2train\u001b[39m.\u001b[39;49mtrain(\n\u001b[1;32m     <a href='vscode-notebook-cell:/Users/ocadni/git/pytorch_test/results/Curie-Weiss/CW_model.ipynb#Z1034sZmlsZQ%3D%3D?line=28'>29</a>\u001b[0m         beta\u001b[39m=\u001b[39;49mbeta,\n\u001b[1;32m     <a href='vscode-notebook-cell:/Users/ocadni/git/pytorch_test/results/Curie-Weiss/CW_model.ipynb#Z1034sZmlsZQ%3D%3D?line=29'>30</a>\u001b[0m         lr\u001b[39m=\u001b[39;49mlr,\n\u001b[1;32m     <a href='vscode-notebook-cell:/Users/ocadni/git/pytorch_test/results/Curie-Weiss/CW_model.ipynb#Z1034sZmlsZQ%3D%3D?line=30'>31</a>\u001b[0m         max_step\u001b[39m=\u001b[39;49mmax_step,\n\u001b[1;32m     <a href='vscode-notebook-cell:/Users/ocadni/git/pytorch_test/results/Curie-Weiss/CW_model.ipynb#Z1034sZmlsZQ%3D%3D?line=31'>32</a>\u001b[0m         batch_size\u001b[39m=\u001b[39;49mbatch_size,\n\u001b[1;32m     <a href='vscode-notebook-cell:/Users/ocadni/git/pytorch_test/results/Curie-Weiss/CW_model.ipynb#Z1034sZmlsZQ%3D%3D?line=32'>33</a>\u001b[0m         std_fe_limit \u001b[39m=\u001b[39;49m std_fe_limit,\n\u001b[1;32m     <a href='vscode-notebook-cell:/Users/ocadni/git/pytorch_test/results/Curie-Weiss/CW_model.ipynb#Z1034sZmlsZQ%3D%3D?line=33'>34</a>\u001b[0m         exact \u001b[39m=\u001b[39;49m exact,\n\u001b[1;32m     <a href='vscode-notebook-cell:/Users/ocadni/git/pytorch_test/results/Curie-Weiss/CW_model.ipynb#Z1034sZmlsZQ%3D%3D?line=34'>35</a>\u001b[0m         set_optim\u001b[39m=\u001b[39;49m\u001b[39mFalse\u001b[39;49;00m\n\u001b[1;32m     <a href='vscode-notebook-cell:/Users/ocadni/git/pytorch_test/results/Curie-Weiss/CW_model.ipynb#Z1034sZmlsZQ%3D%3D?line=35'>36</a>\u001b[0m     )\n\u001b[1;32m     <a href='vscode-notebook-cell:/Users/ocadni/git/pytorch_test/results/Curie-Weiss/CW_model.ipynb#Z1034sZmlsZQ%3D%3D?line=37'>38</a>\u001b[0m     stats\u001b[39m.\u001b[39mappend(net2train\u001b[39m.\u001b[39mcompute_stats(\n\u001b[1;32m     <a href='vscode-notebook-cell:/Users/ocadni/git/pytorch_test/results/Curie-Weiss/CW_model.ipynb#Z1034sZmlsZQ%3D%3D?line=38'>39</a>\u001b[0m         beta, batch_size\u001b[39m=\u001b[39mbatch_size, batch_iter\u001b[39m=\u001b[39mbatch_iter, print_\u001b[39m=\u001b[39m\u001b[39mTrue\u001b[39;00m))\n\u001b[1;32m     <a href='vscode-notebook-cell:/Users/ocadni/git/pytorch_test/results/Curie-Weiss/CW_model.ipynb#Z1034sZmlsZQ%3D%3D?line=39'>40</a>\u001b[0m stats_pd \u001b[39m=\u001b[39m pd\u001b[39m.\u001b[39mDataFrame(stats)\n",
      "File \u001b[0;32m~/git/pytorch_test/results/Curie-Weiss/../../python_lib/nets/list_nets.py:293\u001b[0m, in \u001b[0;36mlist_nets.train\u001b[0;34m(self, lr, opt, beta, max_step, batch_size, std_fe_limit, batch_iter, ifprint, exact, set_optim)\u001b[0m\n\u001b[1;32m    279\u001b[0m \u001b[39mdef\u001b[39;00m \u001b[39mtrain\u001b[39m(\n\u001b[1;32m    280\u001b[0m     \u001b[39mself\u001b[39m,\n\u001b[1;32m    281\u001b[0m     lr\u001b[39m=\u001b[39m\u001b[39m1e-3\u001b[39m,\n\u001b[0;32m   (...)\u001b[0m\n\u001b[1;32m    290\u001b[0m     set_optim\u001b[39m=\u001b[39m\u001b[39mTrue\u001b[39;00m\n\u001b[1;32m    291\u001b[0m ):\n\u001b[1;32m    292\u001b[0m     \u001b[39mif\u001b[39;00m \u001b[39mnot\u001b[39;00m exact:\n\u001b[0;32m--> 293\u001b[0m         \u001b[39mreturn\u001b[39;00m \u001b[39msuper\u001b[39;49m()\u001b[39m.\u001b[39;49mtrain(lr\u001b[39m=\u001b[39;49mlr,\n\u001b[1;32m    294\u001b[0m                              opt\u001b[39m=\u001b[39;49mopt,\n\u001b[1;32m    295\u001b[0m                              beta\u001b[39m=\u001b[39;49mbeta,\n\u001b[1;32m    296\u001b[0m                              max_step\u001b[39m=\u001b[39;49mmax_step,\n\u001b[1;32m    297\u001b[0m                              batch_size\u001b[39m=\u001b[39;49mbatch_size,\n\u001b[1;32m    298\u001b[0m                              std_fe_limit\u001b[39m=\u001b[39;49mstd_fe_limit,\n\u001b[1;32m    299\u001b[0m                              batch_iter\u001b[39m=\u001b[39;49mbatch_iter,\n\u001b[1;32m    300\u001b[0m                              ifprint\u001b[39m=\u001b[39;49mifprint,\n\u001b[1;32m    301\u001b[0m                              set_optim\u001b[39m=\u001b[39;49mset_optim)\n\u001b[1;32m    303\u001b[0m     \u001b[39melse\u001b[39;00m:\n\u001b[1;32m    304\u001b[0m         \u001b[39mself\u001b[39m\u001b[39m.\u001b[39mset_params_exact(\u001b[39mself\u001b[39m\u001b[39m.\u001b[39mmodel, beta)\n",
      "File \u001b[0;32m~/git/pytorch_test/results/Curie-Weiss/../../python_lib/nets/ann.py:163\u001b[0m, in \u001b[0;36mtrain\u001b[0;34m(self, lr, opt, beta, max_step, batch_size, std_fe_limit, batch_iter, ifprint, exact, set_optim)\u001b[0m\n\u001b[1;32m    161\u001b[0m optimizer.zero_grad()\n\u001b[1;32m    162\u001b[0m with torch.no_grad():\n\u001b[0;32m--> 163\u001b[0m     samples, x_hat = self.sample(batch_size)\n\u001b[1;32m    164\u001b[0m \n\u001b[1;32m    165\u001b[0m log_prob = self.log_prob(samples)\n",
      "File \u001b[0;32m~/git/pytorch_test/results/Curie-Weiss/../../python_lib/nets/list_nets.py:272\u001b[0m, in \u001b[0;36mlist_nets.sample\u001b[0;34m(self, batch_size)\u001b[0m\n\u001b[1;32m    270\u001b[0m         input_x \u001b[39m=\u001b[39m x[:, mask_n_i]\n\u001b[1;32m    271\u001b[0m         x_hat[:, n_i] \u001b[39m=\u001b[39m \u001b[39mself\u001b[39m\u001b[39m.\u001b[39mnet[n_i](input_x)\u001b[39m.\u001b[39mt()\n\u001b[0;32m--> 272\u001b[0m         x[:, n_i] \u001b[39m=\u001b[39m torch\u001b[39m.\u001b[39;49mbernoulli(x_hat[:, n_i]) \u001b[39m*\u001b[39m \u001b[39m2\u001b[39m \u001b[39m-\u001b[39m \u001b[39m1\u001b[39m\n\u001b[1;32m    273\u001b[0m \u001b[39mreturn\u001b[39;00m x, x_hat\n",
      "\u001b[0;31mRuntimeError\u001b[0m: Expected p_in >= 0 && p_in <= 1 to be true, but got false.  (Could this error message be improved?  If so, please report an enhancement request to PyTorch.)"
     ]
    }
   ],
   "source": [
    "from python_lib.nets import list_nets\n",
    "importlib.reload(list_nets)\n",
    "\n",
    "list_n = list_nets.CW_net_sp\n",
    "input_mask = torch.tril(J_interaction, diagonal=-1)\n",
    "input_mask = input_mask.to(dtype=torch.bool)\n",
    "dict_nets = {\"num_extremes\": 4}\n",
    "net2train = list_nets.list_nets(CW_model, list_n, input_mask, device=device, dict_nets=dict_nets)\n",
    "res = train_net(net2train, betas,\n",
    "    lr = lr,\n",
    "    max_step=max_step,\n",
    "    batch_size=batch_size,\n",
    "    std_fe_limit=std_fe_limit,\n",
    "    suffix =\"_sp4\",\n",
    "    batch_iter=batch_iter\n",
    ")\n",
    "data = pd.concat([data, res], axis = 1)\n"
   ]
  },
  {
   "cell_type": "code",
   "execution_count": null,
   "metadata": {},
   "outputs": [],
   "source": [
    "data[\"beta\"] = betas"
   ]
  },
  {
   "cell_type": "code",
   "execution_count": null,
   "metadata": {},
   "outputs": [],
   "source": [
    "data[\"err_fe_SL\"] = np.abs(data[\"free_energy_mean_SL\"] - data[\"free_energy_CW\"])\n",
    "data[\"err_fe_SL_rel\"] = np.abs((data[\"err_fe_SL\"] / data[\"free_energy_CW\"]))\n",
    "data[\"err_fe_one\"] = np.abs(data[\"free_energy_mean_one\"] - data[\"free_energy_CW\"])\n",
    "data[\"err_fe_one_rel\"] = np.abs((data[\"err_fe_one\"] / data[\"free_energy_CW\"]))\n",
    "data[\"err_fe_sum_exp\"] = np.abs(data[\"free_energy_mean_sum_exp\"] - data[\"free_energy_CW\"])\n",
    "data[\"err_fe_sum_exp_rel\"] = np.abs((data[\"err_fe_sum_exp\"] / data[\"free_energy_CW\"]))\n",
    "\n",
    "data[\"err_fe_sp\"] = np.abs(data[\"free_energy_mean_sp\"] - data[\"free_energy_CW\"])\n",
    "data[\"err_fe_sp_rel\"] = np.abs((data[\"err_fe_sp\"] / data[\"free_energy_CW\"]))\n",
    "\n",
    "data[\"err_fe_sp2\"] = np.abs(data[\"free_energy_mean_sp2\"] - data[\"free_energy_CW\"])\n",
    "data[\"err_fe_sp2_rel\"] = np.abs((data[\"err_fe_sp2\"] / data[\"free_energy_CW\"]))\n",
    "\n",
    "#data[\"err_fe_sp4\"] = np.abs(data[\"free_energy_mean_sp4\"] - data[\"free_energy_CW\"])\n",
    "#data[\"err_fe_sp4_rel\"] = np.abs((data[\"err_fe_sp4\"] / data[\"free_energy_CW\"]))\n",
    "\n",
    "\n",
    "data[\"err_fe_sum_exp_exact\"] = np.abs(data[\"free_energy_mean_sum_exp_exact\"] - data[\"free_energy_CW\"])\n",
    "data[\"err_fe_sum_exp_exact_rel\"] = np.abs((data[\"err_fe_sum_exp_exact\"] / data[\"free_energy_CW\"]))"
   ]
  },
  {
   "cell_type": "code",
   "execution_count": null,
   "metadata": {},
   "outputs": [],
   "source": [
    "data.to_csv(f\"data/CW_N{N}_bs{batch_size}_fe_lim{std_fe_limit}_lr{lr}.zip\")"
   ]
  },
  {
   "cell_type": "code",
   "execution_count": 27,
   "metadata": {},
   "outputs": [
    {
     "data": {
      "text/plain": [
       "<AxesSubplot:xlabel='beta'>"
      ]
     },
     "execution_count": 27,
     "metadata": {},
     "output_type": "execute_result"
    },
    {
     "data": {
      "image/png": "[encoded data removed]",
      "text/plain": [
       "<Figure size 640x480 with 1 Axes>"
      ]
     },
     "metadata": {},
     "output_type": "display_data"
    },
    {
     "data": {
      "image/png": "[encoded data removed]",
      "text/plain": [
       "<Figure size 640x480 with 1 Axes>"
      ]
     },
     "metadata": {},
     "output_type": "display_data"
    },
    {
     "data": {
      "image/png": "[encoded data removed]",
      "text/plain": [
       "<Figure size 640x480 with 1 Axes>"
      ]
     },
     "metadata": {},
     "output_type": "display_data"
    },
    {
     "data": {
      "image/png": "[encoded data removed]",
      "text/plain": [
       "<Figure size 640x480 with 1 Axes>"
      ]
     },
     "metadata": {},
     "output_type": "display_data"
    }
   ],
   "source": [
    "data.plot(x=\"beta\", y=[\"free_energy_CW\", \"free_energy_mean_SL\", \"free_energy_mean_one\", \"free_energy_mean_sum_exp\", \"free_energy_mean_sum_exp_exact\", \"free_energy_mean_sp\",]) #\"free_energy_mean_sp2\",])\n",
    "data.plot(x=\"beta\", y=[\"free_energy_std_SL\", \"free_energy_std_one\", \"free_energy_std_sum_exp\", \"free_energy_std_sum_exp_exact\",\"free_energy_std_sp\",\"free_energy_std_sp2\",]) #\"free_energy_std_sp4\"])\n",
    "data.plot(x=\"beta\", y=[\"err_fe_SL_rel\", \"err_fe_one_rel\", \"err_fe_sum_exp_rel\", \"err_fe_sum_exp_exact_rel\",\"err_fe_sp_rel\",\"err_fe_sp2_rel\"])#,\"err_fe_sp4_rel\"])\n",
    "data.plot(x=\"beta\", y=[\"err_fe_SL\", \"err_fe_one\", \"err_fe_sum_exp\", \"err_fe_sum_exp_exact\", \"err_fe_sp\", \"err_fe_sp2\"])# \"err_fe_sp4\"])"
   ]
  },
  {
   "cell_type": "code",
   "execution_count": null,
   "metadata": {},
   "outputs": [
    {
     "ename": "KeyError",
     "evalue": "\"['mag_mean'] not in index\"",
     "output_type": "error",
     "traceback": [
      "\u001b[0;31m---------------------------------------------------------------------------\u001b[0m",
      "\u001b[0;31mKeyError\u001b[0m                                  Traceback (most recent call last)",
      "\u001b[1;32m/Users/ocadni/git/pytorch_test/results/Curie-Weiss/CW_model.ipynb Cella 26\u001b[0m in \u001b[0;36m<cell line: 1>\u001b[0;34m()\u001b[0m\n\u001b[0;32m----> <a href='vscode-notebook-cell:/Users/ocadni/git/pytorch_test/results/Curie-Weiss/CW_model.ipynb#Y634sZmlsZQ%3D%3D?line=0'>1</a>\u001b[0m data\u001b[39m.\u001b[39;49mplot(x\u001b[39m=\u001b[39;49m\u001b[39m\"\u001b[39;49m\u001b[39mbeta\u001b[39;49m\u001b[39m\"\u001b[39;49m, y\u001b[39m=\u001b[39;49m[\u001b[39m\"\u001b[39;49m\u001b[39mmag_mean\u001b[39;49m\u001b[39m\"\u001b[39;49m, \u001b[39m\"\u001b[39;49m\u001b[39mmag_mean_CW\u001b[39;49m\u001b[39m\"\u001b[39;49m, \u001b[39m\"\u001b[39;49m\u001b[39mmag_mean_SL\u001b[39;49m\u001b[39m\"\u001b[39;49m, \u001b[39m\"\u001b[39;49m\u001b[39mmag_mean_one\u001b[39;49m\u001b[39m\"\u001b[39;49m, \u001b[39m\"\u001b[39;49m\u001b[39mmag_mean_sum_exp\u001b[39;49m\u001b[39m\"\u001b[39;49m, \u001b[39m\"\u001b[39;49m\u001b[39mmag_mean_sum_exp_exact\u001b[39;49m\u001b[39m\"\u001b[39;49m])\n",
      "File \u001b[0;32m~/opt/anaconda3/envs/m1torch/lib/python3.10/site-packages/pandas/plotting/_core.py:958\u001b[0m, in \u001b[0;36mPlotAccessor.__call__\u001b[0;34m(self, *args, **kwargs)\u001b[0m\n\u001b[1;32m    955\u001b[0m             \u001b[39mpass\u001b[39;00m\n\u001b[1;32m    957\u001b[0m \u001b[39m# don't overwrite\u001b[39;00m\n\u001b[0;32m--> 958\u001b[0m data \u001b[39m=\u001b[39m data[y]\u001b[39m.\u001b[39mcopy()\n\u001b[1;32m    960\u001b[0m \u001b[39mif\u001b[39;00m \u001b[39misinstance\u001b[39m(data, ABCSeries):\n\u001b[1;32m    961\u001b[0m     label_name \u001b[39m=\u001b[39m label_kw \u001b[39mor\u001b[39;00m y\n",
      "File \u001b[0;32m~/opt/anaconda3/envs/m1torch/lib/python3.10/site-packages/pandas/core/frame.py:3511\u001b[0m, in \u001b[0;36mDataFrame.__getitem__\u001b[0;34m(self, key)\u001b[0m\n\u001b[1;32m   3509\u001b[0m     \u001b[39mif\u001b[39;00m is_iterator(key):\n\u001b[1;32m   3510\u001b[0m         key \u001b[39m=\u001b[39m \u001b[39mlist\u001b[39m(key)\n\u001b[0;32m-> 3511\u001b[0m     indexer \u001b[39m=\u001b[39m \u001b[39mself\u001b[39;49m\u001b[39m.\u001b[39;49mcolumns\u001b[39m.\u001b[39;49m_get_indexer_strict(key, \u001b[39m\"\u001b[39;49m\u001b[39mcolumns\u001b[39;49m\u001b[39m\"\u001b[39;49m)[\u001b[39m1\u001b[39m]\n\u001b[1;32m   3513\u001b[0m \u001b[39m# take() does not accept boolean indexers\u001b[39;00m\n\u001b[1;32m   3514\u001b[0m \u001b[39mif\u001b[39;00m \u001b[39mgetattr\u001b[39m(indexer, \u001b[39m\"\u001b[39m\u001b[39mdtype\u001b[39m\u001b[39m\"\u001b[39m, \u001b[39mNone\u001b[39;00m) \u001b[39m==\u001b[39m \u001b[39mbool\u001b[39m:\n",
      "File \u001b[0;32m~/opt/anaconda3/envs/m1torch/lib/python3.10/site-packages/pandas/core/indexes/base.py:5796\u001b[0m, in \u001b[0;36mIndex._get_indexer_strict\u001b[0;34m(self, key, axis_name)\u001b[0m\n\u001b[1;32m   5793\u001b[0m \u001b[39melse\u001b[39;00m:\n\u001b[1;32m   5794\u001b[0m     keyarr, indexer, new_indexer \u001b[39m=\u001b[39m \u001b[39mself\u001b[39m\u001b[39m.\u001b[39m_reindex_non_unique(keyarr)\n\u001b[0;32m-> 5796\u001b[0m \u001b[39mself\u001b[39;49m\u001b[39m.\u001b[39;49m_raise_if_missing(keyarr, indexer, axis_name)\n\u001b[1;32m   5798\u001b[0m keyarr \u001b[39m=\u001b[39m \u001b[39mself\u001b[39m\u001b[39m.\u001b[39mtake(indexer)\n\u001b[1;32m   5799\u001b[0m \u001b[39mif\u001b[39;00m \u001b[39misinstance\u001b[39m(key, Index):\n\u001b[1;32m   5800\u001b[0m     \u001b[39m# GH 42790 - Preserve name from an Index\u001b[39;00m\n",
      "File \u001b[0;32m~/opt/anaconda3/envs/m1torch/lib/python3.10/site-packages/pandas/core/indexes/base.py:5859\u001b[0m, in \u001b[0;36mIndex._raise_if_missing\u001b[0;34m(self, key, indexer, axis_name)\u001b[0m\n\u001b[1;32m   5856\u001b[0m     \u001b[39mraise\u001b[39;00m \u001b[39mKeyError\u001b[39;00m(\u001b[39mf\u001b[39m\u001b[39m\"\u001b[39m\u001b[39mNone of [\u001b[39m\u001b[39m{\u001b[39;00mkey\u001b[39m}\u001b[39;00m\u001b[39m] are in the [\u001b[39m\u001b[39m{\u001b[39;00maxis_name\u001b[39m}\u001b[39;00m\u001b[39m]\u001b[39m\u001b[39m\"\u001b[39m)\n\u001b[1;32m   5858\u001b[0m not_found \u001b[39m=\u001b[39m \u001b[39mlist\u001b[39m(ensure_index(key)[missing_mask\u001b[39m.\u001b[39mnonzero()[\u001b[39m0\u001b[39m]]\u001b[39m.\u001b[39munique())\n\u001b[0;32m-> 5859\u001b[0m \u001b[39mraise\u001b[39;00m \u001b[39mKeyError\u001b[39;00m(\u001b[39mf\u001b[39m\u001b[39m\"\u001b[39m\u001b[39m{\u001b[39;00mnot_found\u001b[39m}\u001b[39;00m\u001b[39m not in index\u001b[39m\u001b[39m\"\u001b[39m)\n",
      "\u001b[0;31mKeyError\u001b[0m: \"['mag_mean'] not in index\""
     ]
    }
   ],
   "source": [
    "data.plot(x=\"beta\", y=[\"mag_mean\", \"mag_mean_CW\", \"mag_mean_SL\", \"mag_mean_one\", \"mag_mean_sum_exp\", \"mag_mean_sum_exp_exact\"])\n"
   ]
  },
  {
   "cell_type": "code",
   "execution_count": 129,
   "metadata": {},
   "outputs": [
    {
     "ename": "KeyError",
     "evalue": "\"['entropy_mean', 'entropy_mean_1V', 'entropy_mean_SK', 'entropy_mean_SK_exact'] not in index\"",
     "output_type": "error",
     "traceback": [
      "\u001b[0;31m---------------------------------------------------------------------------\u001b[0m",
      "\u001b[0;31mKeyError\u001b[0m                                  Traceback (most recent call last)",
      "\u001b[1;32m/Users/ocadni/git/pytorch_test/results/Curie-Weiss/CW_model.ipynb Cella 27\u001b[0m in \u001b[0;36m<cell line: 1>\u001b[0;34m()\u001b[0m\n\u001b[0;32m----> <a href='vscode-notebook-cell:/Users/ocadni/git/pytorch_test/results/Curie-Weiss/CW_model.ipynb#Y644sZmlsZQ%3D%3D?line=0'>1</a>\u001b[0m data\u001b[39m.\u001b[39;49mplot(x\u001b[39m=\u001b[39;49m\u001b[39m\"\u001b[39;49m\u001b[39mbeta\u001b[39;49m\u001b[39m\"\u001b[39;49m, y\u001b[39m=\u001b[39;49m[\u001b[39m\"\u001b[39;49m\u001b[39mentropy_mean\u001b[39;49m\u001b[39m\"\u001b[39;49m, \u001b[39m\"\u001b[39;49m\u001b[39mentropy_mean_SL\u001b[39;49m\u001b[39m\"\u001b[39;49m, \u001b[39m\"\u001b[39;49m\u001b[39mentropy_mean_1V\u001b[39;49m\u001b[39m\"\u001b[39;49m, \u001b[39m\"\u001b[39;49m\u001b[39mentropy_mean_SK\u001b[39;49m\u001b[39m\"\u001b[39;49m, \u001b[39m\"\u001b[39;49m\u001b[39mentropy_mean_SK_exact\u001b[39;49m\u001b[39m\"\u001b[39;49m])\n",
      "File \u001b[0;32m~/opt/anaconda3/envs/m1torch/lib/python3.10/site-packages/pandas/plotting/_core.py:958\u001b[0m, in \u001b[0;36mPlotAccessor.__call__\u001b[0;34m(self, *args, **kwargs)\u001b[0m\n\u001b[1;32m    955\u001b[0m             \u001b[39mpass\u001b[39;00m\n\u001b[1;32m    957\u001b[0m \u001b[39m# don't overwrite\u001b[39;00m\n\u001b[0;32m--> 958\u001b[0m data \u001b[39m=\u001b[39m data[y]\u001b[39m.\u001b[39mcopy()\n\u001b[1;32m    960\u001b[0m \u001b[39mif\u001b[39;00m \u001b[39misinstance\u001b[39m(data, ABCSeries):\n\u001b[1;32m    961\u001b[0m     label_name \u001b[39m=\u001b[39m label_kw \u001b[39mor\u001b[39;00m y\n",
      "File \u001b[0;32m~/opt/anaconda3/envs/m1torch/lib/python3.10/site-packages/pandas/core/frame.py:3511\u001b[0m, in \u001b[0;36mDataFrame.__getitem__\u001b[0;34m(self, key)\u001b[0m\n\u001b[1;32m   3509\u001b[0m     \u001b[39mif\u001b[39;00m is_iterator(key):\n\u001b[1;32m   3510\u001b[0m         key \u001b[39m=\u001b[39m \u001b[39mlist\u001b[39m(key)\n\u001b[0;32m-> 3511\u001b[0m     indexer \u001b[39m=\u001b[39m \u001b[39mself\u001b[39;49m\u001b[39m.\u001b[39;49mcolumns\u001b[39m.\u001b[39;49m_get_indexer_strict(key, \u001b[39m\"\u001b[39;49m\u001b[39mcolumns\u001b[39;49m\u001b[39m\"\u001b[39;49m)[\u001b[39m1\u001b[39m]\n\u001b[1;32m   3513\u001b[0m \u001b[39m# take() does not accept boolean indexers\u001b[39;00m\n\u001b[1;32m   3514\u001b[0m \u001b[39mif\u001b[39;00m \u001b[39mgetattr\u001b[39m(indexer, \u001b[39m\"\u001b[39m\u001b[39mdtype\u001b[39m\u001b[39m\"\u001b[39m, \u001b[39mNone\u001b[39;00m) \u001b[39m==\u001b[39m \u001b[39mbool\u001b[39m:\n",
      "File \u001b[0;32m~/opt/anaconda3/envs/m1torch/lib/python3.10/site-packages/pandas/core/indexes/base.py:5796\u001b[0m, in \u001b[0;36mIndex._get_indexer_strict\u001b[0;34m(self, key, axis_name)\u001b[0m\n\u001b[1;32m   5793\u001b[0m \u001b[39melse\u001b[39;00m:\n\u001b[1;32m   5794\u001b[0m     keyarr, indexer, new_indexer \u001b[39m=\u001b[39m \u001b[39mself\u001b[39m\u001b[39m.\u001b[39m_reindex_non_unique(keyarr)\n\u001b[0;32m-> 5796\u001b[0m \u001b[39mself\u001b[39;49m\u001b[39m.\u001b[39;49m_raise_if_missing(keyarr, indexer, axis_name)\n\u001b[1;32m   5798\u001b[0m keyarr \u001b[39m=\u001b[39m \u001b[39mself\u001b[39m\u001b[39m.\u001b[39mtake(indexer)\n\u001b[1;32m   5799\u001b[0m \u001b[39mif\u001b[39;00m \u001b[39misinstance\u001b[39m(key, Index):\n\u001b[1;32m   5800\u001b[0m     \u001b[39m# GH 42790 - Preserve name from an Index\u001b[39;00m\n",
      "File \u001b[0;32m~/opt/anaconda3/envs/m1torch/lib/python3.10/site-packages/pandas/core/indexes/base.py:5859\u001b[0m, in \u001b[0;36mIndex._raise_if_missing\u001b[0;34m(self, key, indexer, axis_name)\u001b[0m\n\u001b[1;32m   5856\u001b[0m     \u001b[39mraise\u001b[39;00m \u001b[39mKeyError\u001b[39;00m(\u001b[39mf\u001b[39m\u001b[39m\"\u001b[39m\u001b[39mNone of [\u001b[39m\u001b[39m{\u001b[39;00mkey\u001b[39m}\u001b[39;00m\u001b[39m] are in the [\u001b[39m\u001b[39m{\u001b[39;00maxis_name\u001b[39m}\u001b[39;00m\u001b[39m]\u001b[39m\u001b[39m\"\u001b[39m)\n\u001b[1;32m   5858\u001b[0m not_found \u001b[39m=\u001b[39m \u001b[39mlist\u001b[39m(ensure_index(key)[missing_mask\u001b[39m.\u001b[39mnonzero()[\u001b[39m0\u001b[39m]]\u001b[39m.\u001b[39munique())\n\u001b[0;32m-> 5859\u001b[0m \u001b[39mraise\u001b[39;00m \u001b[39mKeyError\u001b[39;00m(\u001b[39mf\u001b[39m\u001b[39m\"\u001b[39m\u001b[39m{\u001b[39;00mnot_found\u001b[39m}\u001b[39;00m\u001b[39m not in index\u001b[39m\u001b[39m\"\u001b[39m)\n",
      "\u001b[0;31mKeyError\u001b[0m: \"['entropy_mean', 'entropy_mean_1V', 'entropy_mean_SK', 'entropy_mean_SK_exact'] not in index\""
     ]
    }
   ],
   "source": [
    "data.plot(x=\"beta\", y=[\"entropy_mean\", \"entropy_mean_SL\", \"entropy_mean_1V\", \"entropy_mean_SK\", \"entropy_mean_SK_exact\"])\n"
   ]
  },
  {
   "cell_type": "code",
   "execution_count": null,
   "metadata": {},
   "outputs": [],
   "source": []
  },
  {
   "cell_type": "code",
   "execution_count": null,
   "metadata": {},
   "outputs": [],
   "source": []
  },
  {
   "cell_type": "code",
   "execution_count": null,
   "metadata": {},
   "outputs": [],
   "source": []
  },
  {
   "cell_type": "code",
   "execution_count": null,
   "metadata": {},
   "outputs": [],
   "source": []
  },
  {
   "cell_type": "code",
   "execution_count": 30,
   "metadata": {},
   "outputs": [
    {
     "data": {
      "image/png": "[encoded data removed]",
      "text/plain": [
       "<Figure size 640x480 with 1 Axes>"
      ]
     },
     "metadata": {},
     "output_type": "display_data"
    }
   ],
   "source": [
    "from python_lib.models import spins_model\n",
    "import python_lib.models\n",
    "importlib.reload(spins_model)\n",
    "from python_lib.models import spins_model\n",
    "\n",
    "N = 3\n",
    "fig, ax0 = plt.subplots(1,1)\n",
    "J_interaction = torch.ones(N,N) - torch.eye(N, N)\n",
    "\n",
    "inter_H = 0\n",
    "H = inter_H * (torch.ones(N))\n",
    "\n",
    "if N < 200:\n",
    "    graph_gen.plot_matrix_graph(J_interaction, ax0)\n",
    "JJ=1\n",
    "J_val = JJ/(2*N)\n",
    "J = J_val * J_interaction\n",
    "\n",
    "\n",
    "device=\"cpu\"\n",
    "#device=\"mps\"\n",
    "CW_model = spins_model.model(N, H, J, J_interaction, device=device)\n",
    "beta_fin=1.3\n",
    "beta_init = 0.1\n",
    "step = 0.1\n",
    "betas = np.arange(beta_init, beta_fin\n",
    ", step)"
   ]
  },
  {
   "cell_type": "code",
   "execution_count": 31,
   "metadata": {},
   "outputs": [],
   "source": [
    "from python_lib.nets import ann\n",
    "importlib.reload(ann)\n",
    "from python_lib.nets import list_nets\n",
    "importlib.reload(list_nets)\n",
    "\n",
    "one = list_nets.SK_net\n",
    "input_mask = torch.tril(J_interaction, diagonal=-1)\n",
    "input_mask = input_mask.long()\n",
    "dict_nets = {}\n",
    "net2train = list_nets.list_nets(CW_model, one, input_mask, device=device, dict_nets=dict_nets)"
   ]
  },
  {
   "cell_type": "code",
   "execution_count": 33,
   "metadata": {},
   "outputs": [
    {
     "name": "stdout",
     "output_type": "stream",
     "text": [
      "step: 0 1.00 fe: -0.594 +- 0.24724 E: 0.069, S: 0.662, M: 0.397"
     ]
    },
    {
     "data": {
      "text/plain": [
       "{'beta': 1,\n",
       " 'free_energy_mean': -0.5935537020365397,\n",
       " 'free_energy_std': 0.2472420334815979,\n",
       " 'entropy_mean': 0.6624425649642944,\n",
       " 'energy_mean': 0.06888888776302338,\n",
       " 'mag': array([ 0.001, -0.008,  0.034], dtype=float32),\n",
       " 'mag_mean': 0.3966667056083679}"
      ]
     },
     "execution_count": 33,
     "metadata": {},
     "output_type": "execute_result"
    }
   ],
   "source": [
    "beta = 1\n",
    "net2train.train(\n",
    "    beta=beta,\n",
    "    lr=lr,\n",
    "    max_step=max_step,\n",
    "    batch_size=batch_size,\n",
    "    std_fe_limit = 0.001,\n",
    "    exact=True\n",
    ")\n"
   ]
  },
  {
   "cell_type": "code",
   "execution_count": 51,
   "metadata": {},
   "outputs": [
    {
     "data": {
      "text/plain": [
       "(tensor(0.3982), tensor(0.0010))"
      ]
     },
     "execution_count": 51,
     "metadata": {},
     "output_type": "execute_result"
    }
   ],
   "source": [
    "x, hx=net2train.sample(200000)\n",
    "torch.abs(x.mean(-1)).mean(), x.mean(-1).mean()"
   ]
  },
  {
   "cell_type": "code",
   "execution_count": 54,
   "metadata": {},
   "outputs": [
    {
     "name": "stdout",
     "output_type": "stream",
     "text": [
      "ni: 0\n",
      "weight_p tensor([[ 0.3333,  0.0000, -0.3333]])\n",
      "bias_p tensor([[1.0000, 0.6931, 0.3333]])\n",
      "weight_m tensor([[ 0.3333,  0.0000, -0.3333]])\n",
      "bias_m tensor([[0.3333, 0.6931, 1.0000]])\n",
      "weight_0p tensor([1.])\n",
      "weight_0m tensor([-1.])\n",
      "weight_0 tensor([-0.3333])\n",
      "bias_0 tensor([-0.])\n",
      "ni: 1\n",
      "weight_p tensor([[ 0.1667, -0.1667]])\n",
      "bias_p tensor([[0.3333, 0.0000]])\n",
      "weight_m tensor([[ 0.1667, -0.1667]])\n",
      "bias_m tensor([[0.0000, 0.3333]])\n",
      "weight_0p tensor([1.])\n",
      "weight_0m tensor([-1.])\n",
      "weight_0 tensor([-0.3333])\n",
      "bias_0 tensor([-0.])\n",
      "ni: 2\n",
      "weight_0 tensor([-0.3333])\n",
      "bias_0 tensor([-0.])\n"
     ]
    }
   ],
   "source": [
    "i = 0\n",
    "for nnet in net2train.net:\n",
    "    print(f\"ni: {i}\")\n",
    "    i+=1\n",
    "    for name, param in nnet.named_parameters():\n",
    "        print(name, param.data)\n"
   ]
  },
  {
   "cell_type": "code",
   "execution_count": null,
   "metadata": {},
   "outputs": [],
   "source": []
  },
  {
   "cell_type": "code",
   "execution_count": null,
   "metadata": {},
   "outputs": [],
   "source": []
  },
  {
   "cell_type": "code",
   "execution_count": null,
   "metadata": {},
   "outputs": [],
   "source": []
  },
  {
   "cell_type": "code",
   "execution_count": 198,
   "metadata": {},
   "outputs": [
    {
     "data": {
      "text/plain": [
       "tensor([ 2., -6.])"
      ]
     },
     "execution_count": 198,
     "metadata": {},
     "output_type": "execute_result"
    }
   ],
   "source": [
    "m = x.sum(-1)\n",
    "m"
   ]
  },
  {
   "cell_type": "code",
   "execution_count": 205,
   "metadata": {},
   "outputs": [],
   "source": [
    "weight_p = torch.tensor([[1,2,3,4]], device=device)"
   ]
  },
  {
   "cell_type": "code",
   "execution_count": 206,
   "metadata": {},
   "outputs": [
    {
     "data": {
      "text/plain": [
       "tensor([[1, 2, 3, 4]])"
      ]
     },
     "execution_count": 206,
     "metadata": {},
     "output_type": "execute_result"
    }
   ],
   "source": [
    "weight_p"
   ]
  },
  {
   "cell_type": "code",
   "execution_count": 208,
   "metadata": {},
   "outputs": [
    {
     "data": {
      "text/plain": [
       "tensor([[  2.,   4.,   6.,   8.],\n",
       "        [ -6., -12., -18., -24.]])"
      ]
     },
     "execution_count": 208,
     "metadata": {},
     "output_type": "execute_result"
    }
   ],
   "source": [
    "res = weight_p * torch.unsqueeze(m, dim=1)\n",
    "res"
   ]
  },
  {
   "cell_type": "code",
   "execution_count": 210,
   "metadata": {},
   "outputs": [
    {
     "data": {
      "text/plain": [
       "tensor([ 8.1451, -5.9975])"
      ]
     },
     "execution_count": 210,
     "metadata": {},
     "output_type": "execute_result"
    }
   ],
   "source": [
    "torch.logsumexp(res, 1)"
   ]
  },
  {
   "cell_type": "code",
   "execution_count": null,
   "metadata": {},
   "outputs": [],
   "source": []
  },
  {
   "cell_type": "code",
   "execution_count": null,
   "metadata": {},
   "outputs": [],
   "source": []
  },
  {
   "cell_type": "code",
   "execution_count": null,
   "metadata": {},
   "outputs": [],
   "source": []
  },
  {
   "cell_type": "code",
   "execution_count": null,
   "metadata": {},
   "outputs": [],
   "source": []
  },
  {
   "cell_type": "code",
   "execution_count": null,
   "metadata": {},
   "outputs": [],
   "source": []
  },
  {
   "cell_type": "code",
   "execution_count": null,
   "metadata": {},
   "outputs": [],
   "source": []
  },
  {
   "cell_type": "code",
   "execution_count": null,
   "metadata": {},
   "outputs": [],
   "source": []
  },
  {
   "cell_type": "code",
   "execution_count": null,
   "metadata": {},
   "outputs": [],
   "source": []
  },
  {
   "cell_type": "code",
   "execution_count": null,
   "metadata": {},
   "outputs": [],
   "source": []
  },
  {
   "cell_type": "code",
   "execution_count": null,
   "metadata": {},
   "outputs": [],
   "source": []
  },
  {
   "cell_type": "code",
   "execution_count": null,
   "metadata": {},
   "outputs": [],
   "source": []
  },
  {
   "cell_type": "code",
   "execution_count": null,
   "metadata": {},
   "outputs": [],
   "source": []
  },
  {
   "cell_type": "code",
   "execution_count": null,
   "metadata": {},
   "outputs": [],
   "source": []
  },
  {
   "cell_type": "code",
   "execution_count": null,
   "metadata": {},
   "outputs": [],
   "source": []
  },
  {
   "cell_type": "code",
   "execution_count": null,
   "metadata": {},
   "outputs": [],
   "source": []
  },
  {
   "cell_type": "code",
   "execution_count": null,
   "metadata": {},
   "outputs": [],
   "source": []
  },
  {
   "cell_type": "code",
   "execution_count": null,
   "metadata": {},
   "outputs": [],
   "source": []
  },
  {
   "cell_type": "code",
   "execution_count": null,
   "metadata": {},
   "outputs": [],
   "source": []
  },
  {
   "cell_type": "code",
   "execution_count": null,
   "metadata": {},
   "outputs": [],
   "source": []
  },
  {
   "cell_type": "code",
   "execution_count": null,
   "metadata": {},
   "outputs": [],
   "source": []
  },
  {
   "cell_type": "code",
   "execution_count": null,
   "metadata": {},
   "outputs": [],
   "source": []
  },
  {
   "cell_type": "code",
   "execution_count": null,
   "metadata": {},
   "outputs": [],
   "source": []
  },
  {
   "cell_type": "code",
   "execution_count": null,
   "metadata": {},
   "outputs": [],
   "source": []
  },
  {
   "cell_type": "code",
   "execution_count": null,
   "metadata": {},
   "outputs": [],
   "source": [
    "pd.__version__"
   ]
  },
  {
   "cell_type": "code",
   "execution_count": null,
   "metadata": {},
   "outputs": [],
   "source": [
    "data.plot(x=\"beta\", y=[\"free_energy_std_SL\", \"free_energy_std_1V\"], ylim=(0, 0.1))"
   ]
  },
  {
   "cell_type": "code",
   "execution_count": null,
   "metadata": {},
   "outputs": [],
   "source": []
  },
  {
   "cell_type": "code",
   "execution_count": null,
   "metadata": {},
   "outputs": [],
   "source": [
    "import matplotlib.pyplot as plt\n"
   ]
  },
  {
   "cell_type": "code",
   "execution_count": null,
   "metadata": {},
   "outputs": [],
   "source": [
    "stats_pd.plot.line(x=\"beta\", y=\"energy_mean\")"
   ]
  },
  {
   "cell_type": "code",
   "execution_count": null,
   "metadata": {},
   "outputs": [],
   "source": [
    "stats_pd.plot.line(x=\"beta\", y=\"energy_mean\")"
   ]
  },
  {
   "cell_type": "code",
   "execution_count": null,
   "metadata": {},
   "outputs": [],
   "source": [
    "all_Js = np.array(all_Js)"
   ]
  },
  {
   "cell_type": "code",
   "execution_count": null,
   "metadata": {},
   "outputs": [],
   "source": [
    "plt.plot(stats_pd[\"beta\"], all_Js[:,2])\n",
    "plt.plot(stats_pd[\"beta\"], all_Js[:,3])\n",
    "plt.plot(stats_pd[\"beta\"], all_Js[:,4])\n",
    "plt.plot(stats_pd[\"beta\"], all_Js[:,5])\n",
    "plt.plot(stats_pd[\"beta\"], all_Js[:,19])"
   ]
  },
  {
   "cell_type": "code",
   "execution_count": null,
   "metadata": {},
   "outputs": [],
   "source": []
  },
  {
   "cell_type": "code",
   "execution_count": null,
   "metadata": {},
   "outputs": [],
   "source": []
  },
  {
   "cell_type": "code",
   "execution_count": null,
   "metadata": {},
   "outputs": [],
   "source": [
    "import pandas as pd\n",
    "\n",
    "lr = 0.001\n",
    "max_step=1000\n",
    "batch_size=1000\n",
    "stats = []\n",
    "net2train = net\n",
    "for beta in betas:\n",
    "    net2train.train(\n",
    "        beta=beta,\n",
    "        lr=lr,\n",
    "        max_step=max_step,\n",
    "        batch_size=batch_size,\n",
    "        std_fe_limit = 0.001\n",
    "    )\n",
    "\n",
    "    stats.append(net.compute_stats(\n",
    "        beta, batch_size=batch_size, print_=True))\n",
    "stats_pd = pd.DataFrame(stats)"
   ]
  },
  {
   "cell_type": "code",
   "execution_count": null,
   "metadata": {},
   "outputs": [],
   "source": []
  },
  {
   "cell_type": "code",
   "execution_count": null,
   "metadata": {},
   "outputs": [],
   "source": [
    "from python_lib.nets import simplest\n",
    "from python_lib.solvers import train_nn_anneal\n",
    "importlib.reload(simplest)\n",
    "importlib.reload(solvers)\n",
    "bias = True\n",
    "net_simplest = simplest.simplest(CW_model.N, CW_model, bias, device=device)"
   ]
  },
  {
   "cell_type": "code",
   "execution_count": null,
   "metadata": {},
   "outputs": [],
   "source": [
    "from python_lib.nets import one_var\n",
    "importlib.reload(one_var)\n",
    "bias = True\n",
    "net_one_var = one_var.one_var(CW_model.N, CW_model, bias, device=device)"
   ]
  },
  {
   "cell_type": "code",
   "execution_count": null,
   "metadata": {},
   "outputs": [],
   "source": [
    "from python_lib.solvers import train_nn_anneal\n",
    "importlib.reload(simple_layer)\n",
    "importlib.reload(solvers)\n",
    "import pandas as pd\n",
    "\n",
    "lr = 0.001\n",
    "max_step=1000\n",
    "batch_size=1000\n",
    "stats = []\n",
    "net2train = net_one_var\n",
    "for beta in betas:\n",
    "    net2train.train(\n",
    "        beta=beta,\n",
    "        lr=lr,\n",
    "        max_step=max_step,\n",
    "        batch_size=batch_size,\n",
    "        std_fe_limit = 0.001\n",
    "    )\n",
    "\n",
    "    stats.append(net.compute_stats(\n",
    "        beta, batch_size=batch_size, print_=True))\n",
    "stats_pd = pd.DataFrame(stats)"
   ]
  },
  {
   "cell_type": "code",
   "execution_count": null,
   "metadata": {},
   "outputs": [],
   "source": [
    "stats_pd_est = pd.DataFrame(stats)\n",
    "import matplotlib.pyplot as plt\n",
    "fig, (ax0, ax1, ax2) = plt.subplots(3,1)\n",
    "ax0.plot(betas, stats_pd_est[\"free_energy_mean\"], \".\")\n",
    "ax0.plot(betas, f_exact)\n",
    "ax0.set_ylim(-1.25,0.)\n",
    "\n",
    "ax1.plot(betas, np.abs(f_exact-stats_pd_est[\"free_energy_mean\"])/np.abs(f_exact))\n",
    "ax1.plot(betas, np.abs(f_exact-stats_pd_est[\"free_energy_mean\"]))\n",
    "    \n",
    "ax2.plot(stats_pd_est[\"free_energy_std\"])"
   ]
  },
  {
   "cell_type": "code",
   "execution_count": null,
   "metadata": {},
   "outputs": [],
   "source": [
    "net_simplest.layer1.weight"
   ]
  },
  {
   "cell_type": "code",
   "execution_count": null,
   "metadata": {},
   "outputs": [],
   "source": [
    "from python_lib.solvers import train_nn_anneal\n",
    "importlib.reload(simple_layer)\n",
    "importlib.reload(solvers)\n",
    "import pandas as pd\n",
    "\n",
    "lr = 0.001\n",
    "max_step=100\n",
    "batch_size=2000\n",
    "stats = train_nn_anneal(\n",
    "    net, \n",
    "    np.full(100, 0.0001),\n",
    "    lr=lr, \n",
    "    max_step=5,\n",
    "    batch_size=batch_size)\n",
    "stats = train_nn_anneal(\n",
    "    net, \n",
    "    betas,\n",
    "    lr=lr, \n",
    "    max_step=max_step,\n",
    "    batch_size=batch_size)\n",
    "stats_pd = pd.DataFrame(stats)"
   ]
  },
  {
   "cell_type": "code",
   "execution_count": null,
   "metadata": {},
   "outputs": [],
   "source": [
    "stats_pd = pd.DataFrame(stats)"
   ]
  },
  {
   "cell_type": "code",
   "execution_count": null,
   "metadata": {},
   "outputs": [],
   "source": [
    "import matplotlib.pyplot as plt\n",
    "fig, (ax0, ax1, ax2) = plt.subplots(3,1)\n",
    "ax0.plot(betas, stats_pd[\"free_energy_mean\"], \".\")\n",
    "ax0.plot(betas, f_exact)\n",
    "ax0.set_ylim(-1.25,-0.6)\n",
    "\n",
    "ax1.plot(betas, np.abs(f_exact-stats_pd[\"free_energy_mean\"])/np.abs(f_exact))\n",
    "    \n",
    "ax2.plot(stats_pd[\"free_energy_std\"])"
   ]
  },
  {
   "cell_type": "code",
   "execution_count": null,
   "metadata": {},
   "outputs": [],
   "source": [
    "import matplotlib.pyplot as plt\n",
    "fig, (ax0, ax1, ax2) = plt.subplots(3,1)\n",
    "ax0.plot(betas, stats_pd[\"free_energy_mean\"], \".\")\n",
    "ax0.plot(betas, f_exact)\n",
    "ax0.set_ylim(-1.25,-0.6)\n",
    "\n",
    "ax1.plot(betas, np.abs(f_exact-stats_pd[\"free_energy_mean\"]))\n",
    "    \n",
    "ax2.plot(stats_pd[\"free_energy_std\"])"
   ]
  },
  {
   "cell_type": "code",
   "execution_count": null,
   "metadata": {},
   "outputs": [],
   "source": []
  },
  {
   "cell_type": "code",
   "execution_count": null,
   "metadata": {},
   "outputs": [],
   "source": [
    "stats_pd.keys()"
   ]
  },
  {
   "cell_type": "code",
   "execution_count": null,
   "metadata": {},
   "outputs": [],
   "source": [
    "stats_pd[stats_pd[\"beta\"]==0.2]"
   ]
  },
  {
   "cell_type": "code",
   "execution_count": null,
   "metadata": {},
   "outputs": [],
   "source": [
    "import matplotlib.pyplot as plt\n",
    "fig, (ax0, ax1) = plt.subplots(2,1)\n",
    "ax0.plot(betas, stats_pd[\"free_energy_mean\"], \".\")\n",
    "ax0.plot(np.linspace(0.001,beta,100), f_exact)\n",
    "ax0.set_ylim(-1.25,-0.7)\n",
    "\n",
    "for b in np.linspace(0.001,beta,100):\n",
    "    \n",
    "err = [np.abs()]"
   ]
  },
  {
   "cell_type": "code",
   "execution_count": null,
   "metadata": {},
   "outputs": [],
   "source": [
    "net.compute_stats(beta, batch_size=50000)"
   ]
  },
  {
   "cell_type": "markdown",
   "metadata": {},
   "source": [
    "## random case"
   ]
  },
  {
   "cell_type": "code",
   "execution_count": null,
   "metadata": {},
   "outputs": [],
   "source": [
    "from python_lib.nets import bp_nn\n",
    "importlib.reload(bp_nn)\n",
    "\n",
    "net_rand = bp_nn.bp_nn(tree_rand.N, tree_rand, True, z2=False, init_zero=False,)\n",
    "                      \n",
    "net_rand.train(beta=beta, lr=0.001, \n",
    "           max_step=1000,\n",
    "               opt=\"adam\")\n"
   ]
  },
  {
   "cell_type": "code",
   "execution_count": null,
   "metadata": {},
   "outputs": [],
   "source": [
    "net_rand.compute_stat_is(beta, batch_size=10000)"
   ]
  },
  {
   "cell_type": "markdown",
   "metadata": {},
   "source": [
    "# BP solution"
   ]
  },
  {
   "cell_type": "code",
   "execution_count": null,
   "metadata": {},
   "outputs": [],
   "source": [
    "import bp_solver\n",
    "importlib.reload(bp_solver)\n",
    "\n",
    "bp_sol = bp_solver.BP_solver(tree_rand)"
   ]
  },
  {
   "cell_type": "code",
   "execution_count": null,
   "metadata": {},
   "outputs": [],
   "source": [
    "beta"
   ]
  },
  {
   "cell_type": "code",
   "execution_count": null,
   "metadata": {},
   "outputs": [],
   "source": [
    "bp_sol.converge(beta)"
   ]
  },
  {
   "cell_type": "code",
   "execution_count": null,
   "metadata": {},
   "outputs": [],
   "source": []
  },
  {
   "cell_type": "code",
   "execution_count": null,
   "metadata": {},
   "outputs": [],
   "source": []
  },
  {
   "cell_type": "code",
   "execution_count": null,
   "metadata": {},
   "outputs": [],
   "source": []
  },
  {
   "cell_type": "code",
   "execution_count": null,
   "metadata": {},
   "outputs": [],
   "source": []
  },
  {
   "cell_type": "code",
   "execution_count": null,
   "metadata": {},
   "outputs": [],
   "source": []
  },
  {
   "cell_type": "code",
   "execution_count": null,
   "metadata": {},
   "outputs": [],
   "source": []
  },
  {
   "cell_type": "code",
   "execution_count": null,
   "metadata": {},
   "outputs": [],
   "source": []
  },
  {
   "cell_type": "code",
   "execution_count": null,
   "metadata": {},
   "outputs": [],
   "source": []
  },
  {
   "cell_type": "code",
   "execution_count": null,
   "metadata": {},
   "outputs": [],
   "source": []
  },
  {
   "cell_type": "code",
   "execution_count": null,
   "metadata": {},
   "outputs": [],
   "source": []
  },
  {
   "cell_type": "code",
   "execution_count": null,
   "metadata": {},
   "outputs": [],
   "source": []
  },
  {
   "cell_type": "code",
   "execution_count": null,
   "metadata": {},
   "outputs": [],
   "source": []
  },
  {
   "cell_type": "code",
   "execution_count": null,
   "metadata": {},
   "outputs": [],
   "source": []
  },
  {
   "cell_type": "code",
   "execution_count": null,
   "metadata": {},
   "outputs": [],
   "source": []
  },
  {
   "cell_type": "code",
   "execution_count": null,
   "metadata": {},
   "outputs": [],
   "source": []
  },
  {
   "cell_type": "code",
   "execution_count": null,
   "metadata": {},
   "outputs": [],
   "source": []
  },
  {
   "cell_type": "code",
   "execution_count": null,
   "metadata": {},
   "outputs": [],
   "source": []
  },
  {
   "cell_type": "code",
   "execution_count": null,
   "metadata": {},
   "outputs": [],
   "source": []
  },
  {
   "cell_type": "code",
   "execution_count": null,
   "metadata": {},
   "outputs": [],
   "source": []
  },
  {
   "cell_type": "code",
   "execution_count": null,
   "metadata": {},
   "outputs": [],
   "source": []
  },
  {
   "cell_type": "code",
   "execution_count": null,
   "metadata": {},
   "outputs": [],
   "source": []
  },
  {
   "cell_type": "code",
   "execution_count": null,
   "metadata": {},
   "outputs": [],
   "source": []
  },
  {
   "cell_type": "code",
   "execution_count": null,
   "metadata": {},
   "outputs": [],
   "source": []
  },
  {
   "cell_type": "code",
   "execution_count": null,
   "metadata": {},
   "outputs": [],
   "source": []
  },
  {
   "cell_type": "code",
   "execution_count": null,
   "metadata": {},
   "outputs": [],
   "source": []
  },
  {
   "cell_type": "code",
   "execution_count": null,
   "metadata": {},
   "outputs": [],
   "source": []
  },
  {
   "cell_type": "code",
   "execution_count": null,
   "metadata": {},
   "outputs": [],
   "source": []
  },
  {
   "cell_type": "code",
   "execution_count": null,
   "metadata": {},
   "outputs": [],
   "source": []
  },
  {
   "cell_type": "code",
   "execution_count": null,
   "metadata": {},
   "outputs": [],
   "source": []
  },
  {
   "cell_type": "code",
   "execution_count": null,
   "metadata": {},
   "outputs": [],
   "source": []
  },
  {
   "cell_type": "code",
   "execution_count": null,
   "metadata": {},
   "outputs": [],
   "source": []
  },
  {
   "cell_type": "code",
   "execution_count": null,
   "metadata": {},
   "outputs": [],
   "source": []
  },
  {
   "cell_type": "code",
   "execution_count": null,
   "metadata": {},
   "outputs": [],
   "source": []
  },
  {
   "cell_type": "code",
   "execution_count": null,
   "metadata": {},
   "outputs": [],
   "source": []
  },
  {
   "cell_type": "code",
   "execution_count": null,
   "metadata": {},
   "outputs": [],
   "source": []
  },
  {
   "cell_type": "code",
   "execution_count": null,
   "metadata": {},
   "outputs": [],
   "source": []
  },
  {
   "cell_type": "code",
   "execution_count": null,
   "metadata": {},
   "outputs": [],
   "source": []
  },
  {
   "cell_type": "code",
   "execution_count": null,
   "metadata": {},
   "outputs": [],
   "source": []
  },
  {
   "cell_type": "code",
   "execution_count": null,
   "metadata": {},
   "outputs": [],
   "source": []
  },
  {
   "cell_type": "code",
   "execution_count": null,
   "metadata": {},
   "outputs": [],
   "source": []
  },
  {
   "cell_type": "code",
   "execution_count": null,
   "metadata": {},
   "outputs": [],
   "source": []
  },
  {
   "cell_type": "code",
   "execution_count": null,
   "metadata": {},
   "outputs": [],
   "source": []
  },
  {
   "cell_type": "code",
   "execution_count": null,
   "metadata": {},
   "outputs": [],
   "source": []
  },
  {
   "cell_type": "code",
   "execution_count": null,
   "metadata": {},
   "outputs": [],
   "source": []
  },
  {
   "cell_type": "code",
   "execution_count": null,
   "metadata": {},
   "outputs": [],
   "source": []
  },
  {
   "cell_type": "code",
   "execution_count": null,
   "metadata": {},
   "outputs": [],
   "source": []
  },
  {
   "cell_type": "code",
   "execution_count": null,
   "metadata": {},
   "outputs": [],
   "source": []
  },
  {
   "cell_type": "code",
   "execution_count": null,
   "metadata": {},
   "outputs": [],
   "source": []
  },
  {
   "cell_type": "code",
   "execution_count": null,
   "metadata": {},
   "outputs": [],
   "source": []
  },
  {
   "cell_type": "code",
   "execution_count": null,
   "metadata": {},
   "outputs": [],
   "source": []
  },
  {
   "cell_type": "code",
   "execution_count": null,
   "metadata": {},
   "outputs": [],
   "source": []
  },
  {
   "cell_type": "code",
   "execution_count": null,
   "metadata": {},
   "outputs": [],
   "source": []
  },
  {
   "cell_type": "code",
   "execution_count": null,
   "metadata": {},
   "outputs": [],
   "source": []
  },
  {
   "cell_type": "code",
   "execution_count": null,
   "metadata": {},
   "outputs": [],
   "source": []
  },
  {
   "cell_type": "code",
   "execution_count": null,
   "metadata": {},
   "outputs": [],
   "source": []
  },
  {
   "cell_type": "code",
   "execution_count": null,
   "metadata": {},
   "outputs": [],
   "source": []
  },
  {
   "cell_type": "code",
   "execution_count": null,
   "metadata": {},
   "outputs": [],
   "source": []
  },
  {
   "cell_type": "code",
   "execution_count": null,
   "metadata": {},
   "outputs": [],
   "source": []
  },
  {
   "cell_type": "code",
   "execution_count": null,
   "metadata": {},
   "outputs": [],
   "source": []
  },
  {
   "cell_type": "code",
   "execution_count": null,
   "metadata": {},
   "outputs": [],
   "source": []
  },
  {
   "cell_type": "code",
   "execution_count": null,
   "metadata": {},
   "outputs": [],
   "source": []
  },
  {
   "cell_type": "code",
   "execution_count": null,
   "metadata": {},
   "outputs": [],
   "source": []
  },
  {
   "cell_type": "code",
   "execution_count": null,
   "metadata": {},
   "outputs": [],
   "source": []
  },
  {
   "cell_type": "code",
   "execution_count": null,
   "metadata": {},
   "outputs": [],
   "source": []
  },
  {
   "cell_type": "code",
   "execution_count": null,
   "metadata": {},
   "outputs": [],
   "source": []
  },
  {
   "cell_type": "code",
   "execution_count": null,
   "metadata": {},
   "outputs": [],
   "source": []
  },
  {
   "cell_type": "code",
   "execution_count": null,
   "metadata": {},
   "outputs": [],
   "source": []
  },
  {
   "cell_type": "code",
   "execution_count": null,
   "metadata": {},
   "outputs": [],
   "source": []
  },
  {
   "cell_type": "code",
   "execution_count": null,
   "metadata": {},
   "outputs": [],
   "source": []
  },
  {
   "cell_type": "code",
   "execution_count": null,
   "metadata": {},
   "outputs": [],
   "source": []
  },
  {
   "cell_type": "code",
   "execution_count": null,
   "metadata": {},
   "outputs": [],
   "source": []
  },
  {
   "cell_type": "code",
   "execution_count": null,
   "metadata": {},
   "outputs": [],
   "source": []
  },
  {
   "cell_type": "code",
   "execution_count": null,
   "metadata": {},
   "outputs": [],
   "source": []
  },
  {
   "cell_type": "code",
   "execution_count": null,
   "metadata": {},
   "outputs": [],
   "source": []
  },
  {
   "cell_type": "code",
   "execution_count": null,
   "metadata": {},
   "outputs": [],
   "source": []
  },
  {
   "cell_type": "code",
   "execution_count": null,
   "metadata": {},
   "outputs": [],
   "source": []
  },
  {
   "cell_type": "code",
   "execution_count": null,
   "metadata": {},
   "outputs": [],
   "source": []
  },
  {
   "cell_type": "code",
   "execution_count": null,
   "metadata": {},
   "outputs": [],
   "source": []
  },
  {
   "cell_type": "code",
   "execution_count": null,
   "metadata": {},
   "outputs": [],
   "source": []
  },
  {
   "cell_type": "code",
   "execution_count": null,
   "metadata": {},
   "outputs": [],
   "source": []
  },
  {
   "cell_type": "code",
   "execution_count": null,
   "metadata": {},
   "outputs": [],
   "source": []
  },
  {
   "cell_type": "code",
   "execution_count": null,
   "metadata": {},
   "outputs": [],
   "source": []
  },
  {
   "cell_type": "code",
   "execution_count": null,
   "metadata": {},
   "outputs": [],
   "source": []
  },
  {
   "cell_type": "code",
   "execution_count": null,
   "metadata": {},
   "outputs": [],
   "source": []
  },
  {
   "cell_type": "code",
   "execution_count": null,
   "metadata": {},
   "outputs": [],
   "source": []
  },
  {
   "cell_type": "code",
   "execution_count": null,
   "metadata": {},
   "outputs": [],
   "source": []
  },
  {
   "cell_type": "code",
   "execution_count": null,
   "metadata": {},
   "outputs": [],
   "source": []
  },
  {
   "cell_type": "code",
   "execution_count": null,
   "metadata": {},
   "outputs": [],
   "source": []
  },
  {
   "cell_type": "code",
   "execution_count": null,
   "metadata": {},
   "outputs": [],
   "source": []
  },
  {
   "cell_type": "code",
   "execution_count": null,
   "metadata": {},
   "outputs": [],
   "source": []
  },
  {
   "cell_type": "code",
   "execution_count": null,
   "metadata": {},
   "outputs": [],
   "source": []
  },
  {
   "cell_type": "code",
   "execution_count": null,
   "metadata": {},
   "outputs": [],
   "source": []
  },
  {
   "cell_type": "code",
   "execution_count": null,
   "metadata": {},
   "outputs": [],
   "source": []
  },
  {
   "cell_type": "code",
   "execution_count": null,
   "metadata": {},
   "outputs": [],
   "source": []
  },
  {
   "cell_type": "code",
   "execution_count": null,
   "metadata": {},
   "outputs": [],
   "source": []
  },
  {
   "cell_type": "code",
   "execution_count": null,
   "metadata": {},
   "outputs": [],
   "source": []
  },
  {
   "cell_type": "code",
   "execution_count": null,
   "metadata": {},
   "outputs": [],
   "source": []
  },
  {
   "cell_type": "code",
   "execution_count": null,
   "metadata": {},
   "outputs": [],
   "source": []
  },
  {
   "cell_type": "code",
   "execution_count": null,
   "metadata": {},
   "outputs": [],
   "source": []
  },
  {
   "cell_type": "code",
   "execution_count": null,
   "metadata": {},
   "outputs": [],
   "source": []
  },
  {
   "cell_type": "code",
   "execution_count": null,
   "metadata": {},
   "outputs": [],
   "source": []
  },
  {
   "cell_type": "code",
   "execution_count": null,
   "metadata": {},
   "outputs": [],
   "source": []
  },
  {
   "cell_type": "code",
   "execution_count": null,
   "metadata": {},
   "outputs": [],
   "source": []
  },
  {
   "cell_type": "code",
   "execution_count": null,
   "metadata": {},
   "outputs": [],
   "source": []
  },
  {
   "cell_type": "code",
   "execution_count": null,
   "metadata": {},
   "outputs": [],
   "source": []
  },
  {
   "cell_type": "code",
   "execution_count": null,
   "metadata": {},
   "outputs": [],
   "source": []
  },
  {
   "cell_type": "code",
   "execution_count": null,
   "metadata": {},
   "outputs": [],
   "source": []
  },
  {
   "cell_type": "code",
   "execution_count": null,
   "metadata": {},
   "outputs": [],
   "source": []
  },
  {
   "cell_type": "code",
   "execution_count": null,
   "metadata": {},
   "outputs": [],
   "source": []
  },
  {
   "cell_type": "code",
   "execution_count": null,
   "metadata": {},
   "outputs": [],
   "source": []
  },
  {
   "cell_type": "code",
   "execution_count": null,
   "metadata": {},
   "outputs": [],
   "source": []
  },
  {
   "cell_type": "code",
   "execution_count": null,
   "metadata": {},
   "outputs": [],
   "source": []
  },
  {
   "cell_type": "code",
   "execution_count": null,
   "metadata": {},
   "outputs": [],
   "source": []
  },
  {
   "cell_type": "code",
   "execution_count": null,
   "metadata": {},
   "outputs": [],
   "source": []
  },
  {
   "cell_type": "code",
   "execution_count": null,
   "metadata": {},
   "outputs": [],
   "source": []
  },
  {
   "cell_type": "code",
   "execution_count": null,
   "metadata": {},
   "outputs": [],
   "source": []
  },
  {
   "cell_type": "code",
   "execution_count": null,
   "metadata": {},
   "outputs": [],
   "source": []
  },
  {
   "cell_type": "code",
   "execution_count": null,
   "metadata": {},
   "outputs": [],
   "source": []
  },
  {
   "cell_type": "code",
   "execution_count": null,
   "metadata": {},
   "outputs": [],
   "source": []
  },
  {
   "cell_type": "code",
   "execution_count": null,
   "metadata": {},
   "outputs": [],
   "source": []
  },
  {
   "cell_type": "code",
   "execution_count": null,
   "metadata": {},
   "outputs": [],
   "source": []
  },
  {
   "cell_type": "code",
   "execution_count": null,
   "metadata": {},
   "outputs": [],
   "source": []
  },
  {
   "cell_type": "code",
   "execution_count": null,
   "metadata": {},
   "outputs": [],
   "source": []
  },
  {
   "cell_type": "code",
   "execution_count": null,
   "metadata": {},
   "outputs": [],
   "source": []
  },
  {
   "cell_type": "code",
   "execution_count": null,
   "metadata": {},
   "outputs": [],
   "source": []
  },
  {
   "cell_type": "code",
   "execution_count": null,
   "metadata": {},
   "outputs": [],
   "source": []
  },
  {
   "cell_type": "code",
   "execution_count": null,
   "metadata": {},
   "outputs": [],
   "source": []
  },
  {
   "cell_type": "code",
   "execution_count": null,
   "metadata": {},
   "outputs": [],
   "source": []
  },
  {
   "cell_type": "code",
   "execution_count": null,
   "metadata": {},
   "outputs": [],
   "source": []
  },
  {
   "cell_type": "code",
   "execution_count": null,
   "metadata": {},
   "outputs": [],
   "source": []
  },
  {
   "cell_type": "code",
   "execution_count": null,
   "metadata": {},
   "outputs": [],
   "source": []
  },
  {
   "cell_type": "code",
   "execution_count": null,
   "metadata": {},
   "outputs": [],
   "source": []
  },
  {
   "cell_type": "code",
   "execution_count": null,
   "metadata": {},
   "outputs": [],
   "source": []
  },
  {
   "cell_type": "code",
   "execution_count": null,
   "metadata": {},
   "outputs": [],
   "source": []
  },
  {
   "cell_type": "code",
   "execution_count": null,
   "metadata": {},
   "outputs": [],
   "source": []
  },
  {
   "cell_type": "code",
   "execution_count": null,
   "metadata": {},
   "outputs": [],
   "source": []
  },
  {
   "cell_type": "code",
   "execution_count": null,
   "metadata": {},
   "outputs": [],
   "source": []
  },
  {
   "cell_type": "code",
   "execution_count": null,
   "metadata": {},
   "outputs": [],
   "source": []
  },
  {
   "cell_type": "code",
   "execution_count": null,
   "metadata": {},
   "outputs": [],
   "source": []
  },
  {
   "cell_type": "code",
   "execution_count": null,
   "metadata": {},
   "outputs": [],
   "source": []
  },
  {
   "cell_type": "code",
   "execution_count": null,
   "metadata": {},
   "outputs": [],
   "source": []
  },
  {
   "cell_type": "code",
   "execution_count": null,
   "metadata": {},
   "outputs": [],
   "source": []
  },
  {
   "cell_type": "code",
   "execution_count": null,
   "metadata": {},
   "outputs": [],
   "source": []
  },
  {
   "cell_type": "code",
   "execution_count": null,
   "metadata": {},
   "outputs": [],
   "source": []
  },
  {
   "cell_type": "code",
   "execution_count": null,
   "metadata": {},
   "outputs": [],
   "source": []
  },
  {
   "cell_type": "code",
   "execution_count": null,
   "metadata": {},
   "outputs": [],
   "source": []
  },
  {
   "cell_type": "code",
   "execution_count": null,
   "metadata": {},
   "outputs": [],
   "source": []
  },
  {
   "cell_type": "code",
   "execution_count": null,
   "metadata": {},
   "outputs": [],
   "source": []
  },
  {
   "cell_type": "code",
   "execution_count": null,
   "metadata": {},
   "outputs": [],
   "source": []
  },
  {
   "cell_type": "code",
   "execution_count": null,
   "metadata": {},
   "outputs": [],
   "source": []
  },
  {
   "cell_type": "code",
   "execution_count": null,
   "metadata": {},
   "outputs": [],
   "source": []
  },
  {
   "cell_type": "code",
   "execution_count": null,
   "metadata": {},
   "outputs": [],
   "source": []
  },
  {
   "cell_type": "code",
   "execution_count": null,
   "metadata": {},
   "outputs": [],
   "source": []
  },
  {
   "cell_type": "code",
   "execution_count": null,
   "metadata": {},
   "outputs": [],
   "source": []
  },
  {
   "cell_type": "code",
   "execution_count": null,
   "metadata": {},
   "outputs": [],
   "source": []
  },
  {
   "cell_type": "code",
   "execution_count": null,
   "metadata": {},
   "outputs": [],
   "source": []
  },
  {
   "cell_type": "code",
   "execution_count": null,
   "metadata": {},
   "outputs": [],
   "source": []
  },
  {
   "cell_type": "code",
   "execution_count": null,
   "metadata": {},
   "outputs": [],
   "source": []
  },
  {
   "cell_type": "code",
   "execution_count": null,
   "metadata": {},
   "outputs": [],
   "source": []
  },
  {
   "cell_type": "code",
   "execution_count": null,
   "metadata": {},
   "outputs": [],
   "source": []
  },
  {
   "cell_type": "code",
   "execution_count": null,
   "metadata": {},
   "outputs": [],
   "source": []
  },
  {
   "cell_type": "code",
   "execution_count": null,
   "metadata": {},
   "outputs": [],
   "source": []
  },
  {
   "cell_type": "code",
   "execution_count": null,
   "metadata": {},
   "outputs": [],
   "source": []
  },
  {
   "cell_type": "code",
   "execution_count": null,
   "metadata": {},
   "outputs": [],
   "source": []
  },
  {
   "cell_type": "code",
   "execution_count": null,
   "metadata": {},
   "outputs": [],
   "source": []
  },
  {
   "cell_type": "code",
   "execution_count": null,
   "metadata": {},
   "outputs": [],
   "source": []
  },
  {
   "cell_type": "code",
   "execution_count": null,
   "metadata": {},
   "outputs": [],
   "source": []
  },
  {
   "cell_type": "code",
   "execution_count": null,
   "metadata": {},
   "outputs": [],
   "source": []
  },
  {
   "cell_type": "code",
   "execution_count": null,
   "metadata": {},
   "outputs": [],
   "source": []
  },
  {
   "cell_type": "code",
   "execution_count": null,
   "metadata": {},
   "outputs": [],
   "source": []
  },
  {
   "cell_type": "code",
   "execution_count": null,
   "metadata": {},
   "outputs": [],
   "source": []
  },
  {
   "cell_type": "code",
   "execution_count": null,
   "metadata": {},
   "outputs": [],
   "source": []
  },
  {
   "cell_type": "code",
   "execution_count": null,
   "metadata": {},
   "outputs": [],
   "source": []
  },
  {
   "cell_type": "code",
   "execution_count": null,
   "metadata": {},
   "outputs": [],
   "source": []
  },
  {
   "cell_type": "code",
   "execution_count": null,
   "metadata": {},
   "outputs": [],
   "source": []
  },
  {
   "cell_type": "code",
   "execution_count": null,
   "metadata": {},
   "outputs": [],
   "source": []
  },
  {
   "cell_type": "code",
   "execution_count": null,
   "metadata": {},
   "outputs": [],
   "source": []
  },
  {
   "cell_type": "code",
   "execution_count": null,
   "metadata": {},
   "outputs": [],
   "source": []
  },
  {
   "cell_type": "code",
   "execution_count": null,
   "metadata": {},
   "outputs": [],
   "source": []
  },
  {
   "cell_type": "code",
   "execution_count": null,
   "metadata": {},
   "outputs": [],
   "source": []
  },
  {
   "cell_type": "code",
   "execution_count": null,
   "metadata": {},
   "outputs": [],
   "source": []
  },
  {
   "cell_type": "code",
   "execution_count": null,
   "metadata": {},
   "outputs": [],
   "source": []
  },
  {
   "cell_type": "code",
   "execution_count": null,
   "metadata": {},
   "outputs": [],
   "source": []
  },
  {
   "cell_type": "code",
   "execution_count": null,
   "metadata": {},
   "outputs": [],
   "source": []
  },
  {
   "cell_type": "code",
   "execution_count": null,
   "metadata": {},
   "outputs": [],
   "source": []
  },
  {
   "cell_type": "code",
   "execution_count": null,
   "metadata": {},
   "outputs": [],
   "source": []
  },
  {
   "cell_type": "code",
   "execution_count": null,
   "metadata": {},
   "outputs": [],
   "source": []
  },
  {
   "cell_type": "code",
   "execution_count": null,
   "metadata": {},
   "outputs": [],
   "source": []
  },
  {
   "cell_type": "code",
   "execution_count": null,
   "metadata": {},
   "outputs": [],
   "source": []
  },
  {
   "cell_type": "code",
   "execution_count": null,
   "metadata": {},
   "outputs": [],
   "source": []
  },
  {
   "cell_type": "code",
   "execution_count": null,
   "metadata": {},
   "outputs": [],
   "source": []
  },
  {
   "cell_type": "code",
   "execution_count": null,
   "metadata": {},
   "outputs": [],
   "source": []
  },
  {
   "cell_type": "code",
   "execution_count": null,
   "metadata": {},
   "outputs": [],
   "source": []
  },
  {
   "cell_type": "code",
   "execution_count": null,
   "metadata": {},
   "outputs": [],
   "source": []
  },
  {
   "cell_type": "code",
   "execution_count": null,
   "metadata": {},
   "outputs": [],
   "source": []
  },
  {
   "cell_type": "code",
   "execution_count": null,
   "metadata": {},
   "outputs": [],
   "source": []
  },
  {
   "cell_type": "code",
   "execution_count": null,
   "metadata": {},
   "outputs": [],
   "source": []
  },
  {
   "cell_type": "code",
   "execution_count": null,
   "metadata": {},
   "outputs": [],
   "source": []
  },
  {
   "cell_type": "code",
   "execution_count": null,
   "metadata": {},
   "outputs": [],
   "source": []
  },
  {
   "cell_type": "code",
   "execution_count": null,
   "metadata": {},
   "outputs": [],
   "source": []
  },
  {
   "cell_type": "code",
   "execution_count": null,
   "metadata": {},
   "outputs": [],
   "source": []
  },
  {
   "cell_type": "code",
   "execution_count": null,
   "metadata": {},
   "outputs": [],
   "source": []
  },
  {
   "cell_type": "code",
   "execution_count": null,
   "metadata": {},
   "outputs": [],
   "source": []
  },
  {
   "cell_type": "code",
   "execution_count": null,
   "metadata": {},
   "outputs": [],
   "source": []
  },
  {
   "cell_type": "code",
   "execution_count": null,
   "metadata": {},
   "outputs": [],
   "source": []
  },
  {
   "cell_type": "code",
   "execution_count": null,
   "metadata": {},
   "outputs": [],
   "source": []
  },
  {
   "cell_type": "code",
   "execution_count": null,
   "metadata": {},
   "outputs": [],
   "source": []
  },
  {
   "cell_type": "code",
   "execution_count": null,
   "metadata": {},
   "outputs": [],
   "source": []
  },
  {
   "cell_type": "code",
   "execution_count": null,
   "metadata": {},
   "outputs": [],
   "source": []
  },
  {
   "cell_type": "code",
   "execution_count": null,
   "metadata": {},
   "outputs": [],
   "source": []
  },
  {
   "cell_type": "code",
   "execution_count": null,
   "metadata": {},
   "outputs": [],
   "source": []
  },
  {
   "cell_type": "code",
   "execution_count": null,
   "metadata": {},
   "outputs": [],
   "source": []
  },
  {
   "cell_type": "code",
   "execution_count": null,
   "metadata": {},
   "outputs": [],
   "source": []
  },
  {
   "cell_type": "code",
   "execution_count": null,
   "metadata": {},
   "outputs": [],
   "source": []
  },
  {
   "cell_type": "code",
   "execution_count": null,
   "metadata": {},
   "outputs": [],
   "source": []
  }
 ],
 "metadata": {
  "kernelspec": {
   "display_name": "Python 3.10.4 ('m1torch')",
   "language": "python",
   "name": "python3"
  },
  "language_info": {
   "codemirror_mode": {
    "name": "ipython",
    "version": 3
   },
   "file_extension": ".py",
   "mimetype": "text/x-python",
   "name": "python",
   "nbconvert_exporter": "python",
   "pygments_lexer": "ipython3",
   "version": "3.10.4"
  },
  "vscode": {
   "interpreter": {
    "hash": "326aece9e3cab3d8b5f16927ec91c2f58b6095a6fadb5a2b0f79b2b30731c315"
   }
  }
 },
 "nbformat": 4,
 "nbformat_minor": 4
}
