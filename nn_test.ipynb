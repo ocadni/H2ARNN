{
 "cells": [
  {
   "cell_type": "code",
   "execution_count": 95,
   "metadata": {},
   "outputs": [],
   "source": [
    "import sys\n",
    "sys.path.insert(0, './python_lib')\n",
    "import networkx as nx\n",
    "import numpy as np\n",
    "import graph_gen\n",
    "import model\n",
    "import imp\n",
    "imp.reload(model)\n",
    "import random\n",
    "from collections import defaultdict\n",
    "import torch\n",
    "import math"
   ]
  },
  {
   "cell_type": "code",
   "execution_count": 117,
   "metadata": {},
   "outputs": [],
   "source": [
    "%matplotlib inline"
   ]
  },
  {
   "cell_type": "code",
   "execution_count": 132,
   "metadata": {},
   "outputs": [],
   "source": [
    "import torch\n",
    "import torch.nn as nn\n",
    "import torch.nn.functional as F\n",
    "\n",
    "class myLayer(nn.Linear):\n",
    "    def __init__(self, in_channels, out_channels, n, bias, exclusive):\n",
    "        super(myLayer, self).__init__(in_channels * n, out_channels * n,\n",
    "                                            bias)\n",
    "        self.in_channels = in_channels\n",
    "        self.out_channels = out_channels\n",
    "        self.n = n\n",
    "        self.exclusive = exclusive\n",
    "\n",
    "        self.register_buffer('mask', torch.ones([self.n] * 2))\n",
    "        if self.exclusive:\n",
    "            self.mask = 1. - torch.triu(self.mask)\n",
    "        else:\n",
    "            self.mask = torch.tril(self.mask)\n",
    "        self.mask = torch.cat([self.mask] * in_channels, dim=1)\n",
    "        self.mask = torch.cat([self.mask] * out_channels, dim=0)\n",
    "        self.weight.data *= self.mask\n",
    "\n",
    "        # Correction to Xavier initialization\n",
    "        self.weight.data *= torch.sqrt(self.mask.numel() / self.mask.sum())\n",
    "\n",
    "    def forward(self, x):\n",
    "        return nn.functional.linear(x, self.mask * self.weight, self.bias)\n",
    "\n",
    "default_dtype_torch = torch.float64\n",
    "\n",
    "class bp_nn(nn.Module):\n",
    "    def __init__(self, in_channels, out_channels, n, bias, exclusive):\n",
    "        super(bp_nn, self).__init__()\n",
    "        self.in_channels = in_channels\n",
    "        self.out_channels = out_channels\n",
    "        self.n = n\n",
    "        self.epsilon = 1e-10\n",
    "        layers = []\n",
    "        layer1 = myLayer(in_channels, out_channels, n, bias, exclusive)\n",
    "        layers.append(layer1)\n",
    "        layers.append(nn.Sigmoid())\n",
    "        self.net = nn.Sequential(*layers)\n",
    "\n",
    "        \n",
    "    def forward(self, x):\n",
    "        return self.net(x)\n",
    "\n",
    "\n",
    "    def sample(self, batch_size):\n",
    "        sample = torch.zeros(\n",
    "            [batch_size, 1, self.n])\n",
    "        for i in range(self.n):\n",
    "            x_hat = self.forward(sample)\n",
    "            #print(x_hat)\n",
    "            sample[:, :, i] = torch.bernoulli(\n",
    "                    x_hat[:, :, i]) * 2 - 1\n",
    "            \n",
    "        return sample, x_hat\n",
    "\n",
    "    def _log_prob(self, sample, x_hat):\n",
    "        mask = (sample + 1) / 2\n",
    "        log_prob = (torch.log(x_hat + self.epsilon) * mask +\n",
    "                    torch.log(1 - x_hat + self.epsilon) * (1 - mask))\n",
    "        log_prob = log_prob.view(log_prob.shape[0], -1).sum(dim=1)\n",
    "        return log_prob\n",
    "\n",
    "    def log_prob(self, sample):\n",
    "        x_hat = self.forward(sample)\n",
    "        log_prob = self._log_prob(sample, x_hat)\n",
    "        return log_prob\n"
   ]
  },
  {
   "cell_type": "code",
   "execution_count": 133,
   "metadata": {},
   "outputs": [
    {
     "data": {
      "image/png": "[encoded data removed]",
      "text/plain": [
       "<Figure size 576x576 with 1 Axes>"
      ]
     },
     "metadata": {},
     "output_type": "display_data"
    }
   ],
   "source": [
    "Degree = 2 # degree\n",
    "Height = 2 # Height of the tree\n",
    "N, J_interaction = graph_gen.tree_interaction(Degree,Height)\n",
    "j = graph_gen.fixed_value(2)\n",
    "J = graph_gen.set_J(J_interaction, j)\n",
    "h = 1.\n",
    "H = np.full((N,), h)\n",
    "tree = model.model(N, H, J, J_interaction)"
   ]
  },
  {
   "cell_type": "code",
   "execution_count": 134,
   "metadata": {},
   "outputs": [],
   "source": [
    "net = bp_nn(1,1,N,True, False)\n",
    "sample, x_hat = net.sample(3)"
   ]
  },
  {
   "cell_type": "code",
   "execution_count": 135,
   "metadata": {},
   "outputs": [
    {
     "name": "stdout",
     "output_type": "stream",
     "text": [
      "Total number of trainable parameters: 12\n"
     ]
    }
   ],
   "source": [
    "lr = 1e-3\n",
    "params = list(net.parameters())\n",
    "params = list(filter(lambda p: p.requires_grad, params))\n",
    "nparams = int(sum([np.prod(p.shape) for p in params]))\n",
    "print('Total number of trainable parameters: {}'.format(nparams))\n",
    "named_params = list(net.named_parameters())\n",
    "\n",
    "optimizer = torch.optim.SGD(params, lr=lr)\n",
    "optimizer.zero_grad()\n"
   ]
  },
  {
   "cell_type": "code",
   "execution_count": 136,
   "metadata": {},
   "outputs": [
    {
     "data": {
      "text/plain": [
       "(tensor([[[-1., -1., -1.]],\n",
       " \n",
       "         [[ 1.,  1.,  1.]],\n",
       " \n",
       "         [[ 1., -1.,  1.]],\n",
       " \n",
       "         [[ 1., -1., -1.]],\n",
       " \n",
       "         [[-1., -1.,  1.]],\n",
       " \n",
       "         [[-1.,  1.,  1.]],\n",
       " \n",
       "         [[ 1.,  1.,  1.]],\n",
       " \n",
       "         [[-1.,  1., -1.]],\n",
       " \n",
       "         [[-1., -1.,  1.]],\n",
       " \n",
       "         [[-1., -1.,  1.]]], grad_fn=<CopySlices>),\n",
       " tensor([[[0.4145, 0.6806, 0.3871]],\n",
       " \n",
       "         [[0.5239, 0.4057, 0.6122]],\n",
       " \n",
       "         [[0.5239, 0.6780, 0.4002]],\n",
       " \n",
       "         [[0.5239, 0.6780, 0.4002]],\n",
       " \n",
       "         [[0.4145, 0.6806, 0.3871]],\n",
       " \n",
       "         [[0.4145, 0.4085, 0.5991]],\n",
       " \n",
       "         [[0.5239, 0.4057, 0.6122]],\n",
       " \n",
       "         [[0.4145, 0.4085, 0.5991]],\n",
       " \n",
       "         [[0.4145, 0.6806, 0.3871]],\n",
       " \n",
       "         [[0.4145, 0.6806, 0.3871]]], grad_fn=<SigmoidBackward>))"
      ]
     },
     "execution_count": 136,
     "metadata": {},
     "output_type": "execute_result"
    }
   ],
   "source": [
    "net.sample(10)"
   ]
  },
  {
   "cell_type": "code",
   "execution_count": 139,
   "metadata": {},
   "outputs": [
    {
     "ename": "RuntimeError",
     "evalue": "The size of tensor a (3) must match the size of tensor b (100) at non-singleton dimension 0",
     "output_type": "error",
     "traceback": [
      "\u001b[0;31m---------------------------------------------------------------------------\u001b[0m",
      "\u001b[0;31mRuntimeError\u001b[0m                              Traceback (most recent call last)",
      "\u001b[0;32m<ipython-input-139-a8b46a848ed3>\u001b[0m in \u001b[0;36m<module>\u001b[0;34m\u001b[0m\n\u001b[1;32m     14\u001b[0m         \u001b[0mbeta\u001b[0m \u001b[0;34m=\u001b[0m \u001b[0mbeta_init\u001b[0m \u001b[0;34m*\u001b[0m \u001b[0;34m(\u001b[0m\u001b[0;36m1\u001b[0m \u001b[0;34m-\u001b[0m \u001b[0mbeta_anneal\u001b[0m\u001b[0;34m**\u001b[0m\u001b[0mstep\u001b[0m\u001b[0;34m)\u001b[0m\u001b[0;34m\u001b[0m\u001b[0;34m\u001b[0m\u001b[0m\n\u001b[1;32m     15\u001b[0m         \u001b[0;32mwith\u001b[0m \u001b[0mtorch\u001b[0m\u001b[0;34m.\u001b[0m\u001b[0mno_grad\u001b[0m\u001b[0;34m(\u001b[0m\u001b[0;34m)\u001b[0m\u001b[0;34m:\u001b[0m\u001b[0;34m\u001b[0m\u001b[0;34m\u001b[0m\u001b[0m\n\u001b[0;32m---> 16\u001b[0;31m             \u001b[0menergy\u001b[0m \u001b[0;34m=\u001b[0m \u001b[0mtree\u001b[0m\u001b[0;34m.\u001b[0m\u001b[0menergy\u001b[0m\u001b[0;34m(\u001b[0m\u001b[0msample\u001b[0m\u001b[0;34m.\u001b[0m\u001b[0mdouble\u001b[0m\u001b[0;34m(\u001b[0m\u001b[0;34m)\u001b[0m\u001b[0;34m)\u001b[0m\u001b[0;34m\u001b[0m\u001b[0;34m\u001b[0m\u001b[0m\n\u001b[0m\u001b[1;32m     17\u001b[0m             \u001b[0mloss\u001b[0m \u001b[0;34m=\u001b[0m \u001b[0mlog_prob\u001b[0m \u001b[0;34m+\u001b[0m \u001b[0mbeta\u001b[0m \u001b[0;34m*\u001b[0m \u001b[0menergy\u001b[0m\u001b[0;34m\u001b[0m\u001b[0;34m\u001b[0m\u001b[0m\n\u001b[1;32m     18\u001b[0m         \u001b[0;32massert\u001b[0m \u001b[0;32mnot\u001b[0m \u001b[0menergy\u001b[0m\u001b[0;34m.\u001b[0m\u001b[0mrequires_grad\u001b[0m\u001b[0;34m\u001b[0m\u001b[0;34m\u001b[0m\u001b[0m\n",
      "\u001b[0;32m~/git/pytorch_test/python_lib/model.py\u001b[0m in \u001b[0;36menergy\u001b[0;34m(self, samples)\u001b[0m\n\u001b[1;32m     80\u001b[0m         \u001b[0mm\u001b[0m \u001b[0;34m=\u001b[0m \u001b[0msamples\u001b[0m\u001b[0;34m.\u001b[0m\u001b[0mshape\u001b[0m\u001b[0;34m[\u001b[0m\u001b[0;36m0\u001b[0m\u001b[0;34m]\u001b[0m\u001b[0;34m\u001b[0m\u001b[0;34m\u001b[0m\u001b[0m\n\u001b[1;32m     81\u001b[0m         return (-0.5 * ((samples @ self.J_torch).view(m, 1, self.N) @ samples.view(\n\u001b[0;32m---> 82\u001b[0;31m             m, self.N, 1)).squeeze() - self.H_torch * torch.sum(samples, 1))\n\u001b[0m\u001b[1;32m     83\u001b[0m \u001b[0;34m\u001b[0m\u001b[0m\n\u001b[1;32m     84\u001b[0m     \u001b[0;31m#@jit(nopython=True)\u001b[0m\u001b[0;34m\u001b[0m\u001b[0;34m\u001b[0m\u001b[0;34m\u001b[0m\u001b[0m\n",
      "\u001b[0;31mRuntimeError\u001b[0m: The size of tensor a (3) must match the size of tensor b (100) at non-singleton dimension 0"
     ]
    }
   ],
   "source": [
    "max_step = 1000\n",
    "beta_init = 1\n",
    "beta_anneal = 0\n",
    "step = 1\n",
    "batch_size = 100\n",
    "for step in range(0, max_step + 1):\n",
    "        optimizer.zero_grad()\n",
    "        with torch.no_grad():\n",
    "            sample, x_hat = net.sample(batch_size)\n",
    "        assert not sample.requires_grad\n",
    "        assert not x_hat.requires_grad\n",
    "\n",
    "        log_prob = net.log_prob(sample)\n",
    "        beta = beta_init * (1 - beta_anneal**step)\n",
    "        with torch.no_grad():\n",
    "            energy = tree.energy(sample.double())\n",
    "            loss = log_prob + beta * energy\n",
    "        assert not energy.requires_grad\n",
    "        assert not loss.requires_grad\n",
    "        loss_reinforce = torch.mean((loss - loss.mean()) * log_prob)\n",
    "        loss_reinforce.backward()\n",
    "\n",
    "        optimizer.step()\n"
   ]
  },
  {
   "cell_type": "code",
   "execution_count": 10,
   "metadata": {},
   "outputs": [
    {
     "data": {
      "text/plain": [
       "Parameter containing:\n",
       "tensor([[-0.0794,  0.0000,  0.0000],\n",
       "        [ 0.3742, -0.4221,  0.0000],\n",
       "        [-0.5356,  0.6621,  0.6466]], requires_grad=True)"
      ]
     },
     "execution_count": 10,
     "metadata": {},
     "output_type": "execute_result"
    }
   ],
   "source": [
    "autoreg.weight"
   ]
  },
  {
   "cell_type": "code",
   "execution_count": 7,
   "metadata": {},
   "outputs": [
    {
     "data": {
      "text/plain": [
       "tensor([-0.3114, -1.0834,  0.1316], grad_fn=<AddBackward0>)"
      ]
     },
     "execution_count": 7,
     "metadata": {},
     "output_type": "execute_result"
    }
   ],
   "source": [
    "x = torch.Tensor([0,1,0])\n",
    "autoreg.forward(x)"
   ]
  },
  {
   "cell_type": "code",
   "execution_count": 32,
   "metadata": {},
   "outputs": [],
   "source": [
    "layers = []\n",
    "layers.append(autoreg)\n",
    "layers.append(nn.Sigmoid())\n",
    "net = nn.Sequential(*layers)"
   ]
  },
  {
   "cell_type": "code",
   "execution_count": 34,
   "metadata": {},
   "outputs": [
    {
     "data": {
      "text/plain": [
       "tensor([0.3964, 0.4787, 0.5913], grad_fn=<SigmoidBackward>)"
      ]
     },
     "execution_count": 34,
     "metadata": {},
     "output_type": "execute_result"
    }
   ],
   "source": [
    "net.forward(x)"
   ]
  },
  {
   "cell_type": "code",
   "execution_count": 22,
   "metadata": {},
   "outputs": [
    {
     "ename": "SyntaxError",
     "evalue": "unexpected EOF while parsing (<ipython-input-22-b6672e7dcdf1>, line 2)",
     "output_type": "error",
     "traceback": [
      "\u001b[0;36m  File \u001b[0;32m\"<ipython-input-22-b6672e7dcdf1>\"\u001b[0;36m, line \u001b[0;32m2\u001b[0m\n\u001b[0;31m    nn.functional.linear(\u001b[0m\n\u001b[0m                         ^\u001b[0m\n\u001b[0;31mSyntaxError\u001b[0m\u001b[0;31m:\u001b[0m unexpected EOF while parsing\n"
     ]
    }
   ],
   "source": [
    "x = [0,0,1]\n",
    "nn.functional.linear("
   ]
  },
  {
   "cell_type": "code",
   "execution_count": 17,
   "metadata": {},
   "outputs": [
    {
     "name": "stdout",
     "output_type": "stream",
     "text": [
      "tensor([[1., 0., 0., 0., 0., 0., 0., 0., 0., 0.],\n",
      "        [0., 1., 0., 0., 0., 0., 0., 0., 0., 0.],\n",
      "        [0., 0., 1., 0., 0., 0., 0., 0., 0., 0.],\n",
      "        [0., 0., 0., 1., 0., 0., 0., 0., 0., 0.],\n",
      "        [0., 0., 0., 0., 1., 0., 0., 0., 0., 0.],\n",
      "        [0., 0., 0., 0., 0., 1., 0., 0., 0., 0.],\n",
      "        [0., 0., 0., 0., 0., 0., 1., 0., 0., 0.],\n",
      "        [0., 0., 0., 0., 0., 0., 0., 1., 0., 0.],\n",
      "        [0., 0., 0., 0., 0., 0., 0., 0., 1., 0.],\n",
      "        [0., 0., 0., 0., 0., 0., 0., 0., 0., 1.]])\n",
      "tensor([[1., 0., 0., 0., 0., 0., 0., 0., 0., 0.],\n",
      "        [0., 1., 0., 0., 0., 0., 0., 0., 0., 0.],\n",
      "        [0., 0., 1., 0., 0., 0., 0., 0., 0., 0.],\n",
      "        [0., 0., 0., 1., 0., 0., 0., 0., 0., 0.],\n",
      "        [0., 0., 0., 0., 1., 0., 0., 0., 0., 0.],\n",
      "        [0., 0., 0., 0., 0., 1., 0., 0., 0., 0.],\n",
      "        [0., 0., 0., 0., 0., 0., 1., 0., 0., 0.],\n",
      "        [0., 0., 0., 0., 0., 0., 0., 1., 0., 0.],\n",
      "        [0., 0., 0., 0., 0., 0., 0., 0., 1., 0.],\n",
      "        [0., 0., 0., 0., 0., 0., 0., 0., 0., 1.]])\n",
      "tensor([[1., 0., 0., 0., 0., 0., 0., 0., 0., 0.],\n",
      "        [0., 1., 0., 0., 0., 0., 0., 0., 0., 0.],\n",
      "        [0., 0., 1., 0., 0., 0., 0., 0., 0., 0.],\n",
      "        [0., 0., 0., 1., 0., 0., 0., 0., 0., 0.],\n",
      "        [0., 0., 0., 0., 1., 0., 0., 0., 0., 0.],\n",
      "        [0., 0., 0., 0., 0., 1., 0., 0., 0., 0.],\n",
      "        [0., 0., 0., 0., 0., 0., 1., 0., 0., 0.],\n",
      "        [0., 0., 0., 0., 0., 0., 0., 1., 0., 0.],\n",
      "        [0., 0., 0., 0., 0., 0., 0., 0., 1., 0.],\n",
      "        [0., 0., 0., 0., 0., 0., 0., 0., 0., 1.]])\n",
      "Parameter containing:\n",
      "tensor([[-0.1123, -0.0000,  0.0000, -0.0000, -0.0000,  0.0000, -0.0000, -0.0000,\n",
      "          0.0000, -0.0000],\n",
      "        [-0.0000, -0.2625, -0.0000, -0.0000, -0.0000, -0.0000, -0.0000, -0.0000,\n",
      "         -0.0000, -0.0000],\n",
      "        [ 0.0000,  0.0000,  0.1749,  0.0000, -0.0000,  0.0000,  0.0000, -0.0000,\n",
      "         -0.0000,  0.0000],\n",
      "        [-0.0000,  0.0000,  0.0000,  0.2426,  0.0000,  0.0000,  0.0000, -0.0000,\n",
      "         -0.0000, -0.0000],\n",
      "        [-0.0000, -0.0000, -0.0000,  0.0000,  0.2974,  0.0000, -0.0000, -0.0000,\n",
      "          0.0000, -0.0000],\n",
      "        [-0.0000, -0.0000, -0.0000,  0.0000,  0.0000, -0.2120, -0.0000, -0.0000,\n",
      "          0.0000,  0.0000],\n",
      "        [-0.0000,  0.0000,  0.0000,  0.0000,  0.0000,  0.0000,  0.2698,  0.0000,\n",
      "         -0.0000, -0.0000],\n",
      "        [-0.0000,  0.0000, -0.0000,  0.0000,  0.0000,  0.0000, -0.0000,  0.1888,\n",
      "         -0.0000, -0.0000],\n",
      "        [ 0.0000,  0.0000,  0.0000,  0.0000, -0.0000, -0.0000, -0.0000, -0.0000,\n",
      "          0.1582, -0.0000],\n",
      "        [ 0.0000, -0.0000,  0.0000, -0.0000,  0.0000, -0.0000, -0.0000,  0.0000,\n",
      "         -0.0000,  0.3089]], requires_grad=True)\n",
      "tensor([[-0.3552, -0.0000,  0.0000, -0.0000, -0.0000,  0.0000, -0.0000, -0.0000,\n",
      "          0.0000, -0.0000],\n",
      "        [-0.0000, -0.8300, -0.0000, -0.0000, -0.0000, -0.0000, -0.0000, -0.0000,\n",
      "         -0.0000, -0.0000],\n",
      "        [ 0.0000,  0.0000,  0.5532,  0.0000, -0.0000,  0.0000,  0.0000, -0.0000,\n",
      "         -0.0000,  0.0000],\n",
      "        [-0.0000,  0.0000,  0.0000,  0.7671,  0.0000,  0.0000,  0.0000, -0.0000,\n",
      "         -0.0000, -0.0000],\n",
      "        [-0.0000, -0.0000, -0.0000,  0.0000,  0.9405,  0.0000, -0.0000, -0.0000,\n",
      "          0.0000, -0.0000],\n",
      "        [-0.0000, -0.0000, -0.0000,  0.0000,  0.0000, -0.6704, -0.0000, -0.0000,\n",
      "          0.0000,  0.0000],\n",
      "        [-0.0000,  0.0000,  0.0000,  0.0000,  0.0000,  0.0000,  0.8532,  0.0000,\n",
      "         -0.0000, -0.0000],\n",
      "        [-0.0000,  0.0000, -0.0000,  0.0000,  0.0000,  0.0000, -0.0000,  0.5970,\n",
      "         -0.0000, -0.0000],\n",
      "        [ 0.0000,  0.0000,  0.0000,  0.0000, -0.0000, -0.0000, -0.0000, -0.0000,\n",
      "          0.5003, -0.0000],\n",
      "        [ 0.0000, -0.0000,  0.0000, -0.0000,  0.0000, -0.0000, -0.0000,  0.0000,\n",
      "         -0.0000,  0.9767]])\n"
     ]
    },
    {
     "data": {
      "text/plain": [
       "ChannelLinear(in_features=10, out_features=10, bias=True)"
      ]
     },
     "execution_count": 17,
     "metadata": {},
     "output_type": "execute_result"
    }
   ],
   "source": [
    "ChannelLinear(1,1,10,True)"
   ]
  },
  {
   "cell_type": "code",
   "execution_count": null,
   "metadata": {},
   "outputs": [],
   "source": [
    "import torch\n",
    "import torch.nn as nn\n",
    "import torch.nn.functional as F\n",
    "\n",
    "nn.Linear()"
   ]
  },
  {
   "cell_type": "code",
   "execution_count": null,
   "metadata": {},
   "outputs": [],
   "source": []
  }
 ],
 "metadata": {
  "kernelspec": {
   "display_name": "Python 3",
   "language": "python",
   "name": "python3"
  },
  "language_info": {
   "codemirror_mode": {
    "name": "ipython",
    "version": 3
   },
   "file_extension": ".py",
   "mimetype": "text/x-python",
   "name": "python",
   "nbconvert_exporter": "python",
   "pygments_lexer": "ipython3",
   "version": "3.7.4"
  }
 },
 "nbformat": 4,
 "nbformat_minor": 2
}
