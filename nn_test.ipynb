{
 "cells": [
  {
   "cell_type": "code",
   "execution_count": 1,
   "metadata": {},
   "outputs": [],
   "source": [
    "import sys\n",
    "sys.path.insert(0, './python_lib')\n",
    "import networkx as nx\n",
    "import numpy as np\n",
    "import graph_gen\n",
    "import model\n",
    "import imp\n",
    "imp.reload(model)\n",
    "import random\n",
    "from collections import defaultdict\n",
    "import torch\n",
    "import math"
   ]
  },
  {
   "cell_type": "code",
   "execution_count": 2,
   "metadata": {},
   "outputs": [],
   "source": [
    "%matplotlib inline"
   ]
  },
  {
   "cell_type": "code",
   "execution_count": 3,
   "metadata": {},
   "outputs": [],
   "source": [
    "import random\n",
    "rand=True"
   ]
  },
  {
   "cell_type": "code",
   "execution_count": 24,
   "metadata": {},
   "outputs": [
    {
     "data": {
      "image/png": "[encoded data removed]",
      "text/plain": [
       "<Figure size 576x576 with 1 Axes>"
      ]
     },
     "metadata": {},
     "output_type": "display_data"
    }
   ],
   "source": [
    "import imp \n",
    "imp.reload(graph_gen)\n",
    "Degree = 3 # degree\n",
    "Height = 1 # Height of the tree\n",
    "N, J_interaction = graph_gen.tree_interaction(Degree,Height, rand=False)\n",
    "j = graph_gen.fixed_value(1)\n",
    "J = graph_gen.set_J(J_interaction, j)\n",
    "h = 0.0001\n",
    "H = np.full((N,), h)\n",
    "tree = model.model(N, H, J, J_interaction)"
   ]
  },
  {
   "cell_type": "code",
   "execution_count": 25,
   "metadata": {},
   "outputs": [
    {
     "name": "stdout",
     "output_type": "stream",
     "text": [
      "Total number of trainable parameters: 12\n",
      " -0.982 0.000 0.002 0.460 -0.522 0.0\n",
      "free_energy: -0.982,  std_fe: 0.000, mag_mean: -0.005, entropy: 0.474 energy: -0.509 weight: 0.00"
     ]
    }
   ],
   "source": [
    "import bp_nn\n",
    "imp.reload(bp_nn)\n",
    "net = bp_nn.bp_nn(N, tree, True)\n",
    "result_tree = net.train()"
   ]
  },
  {
   "cell_type": "code",
   "execution_count": 39,
   "metadata": {},
   "outputs": [
    {
     "name": "stdout",
     "output_type": "stream",
     "text": [
      "Total number of trainable parameters: 17\n",
      " -0.851 0.279 -0.628 0.588 -0.263 -0.0\n",
      "free_energy: -0.859,  std_fe: 0.262, mag_mean: -0.642, entropy: 0.572 energy: -0.287 weight: -0.00"
     ]
    }
   ],
   "source": [
    "import bp_nn\n",
    "imp.reload(bp_nn)\n",
    "net2 = bp_nn.bp_nn2(N, tree, True)\n",
    "result_tree2 = net2.train()"
   ]
  },
  {
   "cell_type": "code",
   "execution_count": 35,
   "metadata": {},
   "outputs": [
    {
     "data": {
      "text/plain": [
       "tensor([0.2463, 0.2643, 0.2663], grad_fn=<SigmoidBackward>)"
      ]
     },
     "execution_count": 35,
     "metadata": {},
     "output_type": "execute_result"
    }
   ],
   "source": [
    "net2.forward(torch.Tensor([0,1,0]))"
   ]
  },
  {
   "cell_type": "code",
   "execution_count": 30,
   "metadata": {},
   "outputs": [
    {
     "data": {
      "text/plain": [
       "2.0"
      ]
     },
     "execution_count": 30,
     "metadata": {},
     "output_type": "execute_result"
    }
   ],
   "source": [
    "J_interaction.sum()/2"
   ]
  },
  {
   "cell_type": "code",
   "execution_count": 94,
   "metadata": {},
   "outputs": [
    {
     "data": {
      "text/plain": [
       "tensor([[1., 0., 0.],\n",
       "        [1., 0., 0.]])"
      ]
     },
     "execution_count": 94,
     "metadata": {},
     "output_type": "execute_result"
    }
   ],
   "source": [
    "torch.Tensor(N_E)"
   ]
  },
  {
   "cell_type": "code",
   "execution_count": 100,
   "metadata": {},
   "outputs": [
    {
     "data": {
      "text/plain": [
       "(2, 3)"
      ]
     },
     "execution_count": 100,
     "metadata": {},
     "output_type": "execute_result"
    }
   ],
   "source": [
    "N_E.shape"
   ]
  },
  {
   "cell_type": "code",
   "execution_count": 101,
   "metadata": {},
   "outputs": [
    {
     "data": {
      "text/plain": [
       "tensor([[1., 0., 0.],\n",
       "        [1., 0., 0.]])"
      ]
     },
     "execution_count": 101,
     "metadata": {},
     "output_type": "execute_result"
    }
   ],
   "source": [
    "a.mask"
   ]
  },
  {
   "cell_type": "code",
   "execution_count": 95,
   "metadata": {},
   "outputs": [
    {
     "name": "stdout",
     "output_type": "stream",
     "text": [
      "1 0 1.0 [1, 0, 0]\n",
      "2 0 1.0 [1, 0, 0]\n"
     ]
    },
    {
     "data": {
      "text/plain": [
       "tensor([[ 0.0331, -0.0000, -0.0000],\n",
       "        [-0.3173,  0.0000,  0.0000]])"
      ]
     },
     "execution_count": 95,
     "metadata": {},
     "output_type": "execute_result"
    }
   ],
   "source": [
    "import torch.nn as nn\n",
    "a = nn.Linear(N,int(J_interaction.sum()/2))\n",
    "N_E = []\n",
    "for r_i, row in enumerate(J_interaction):\n",
    "    for c_i, val in enumerate(row):\n",
    "        if c_i < r_i and val != 0:\n",
    "            inter_e = [0]*N\n",
    "            inter_e[c_i] = 1\n",
    "            print(r_i,c_i, val, inter_e)\n",
    "            N_E.append(inter_e)\n",
    "N_E = np.array(N_E)\n",
    "N_E, np.transpose(N_E)\n",
    "a.register_buffer('mask', torch.Tensor(N_E))\n",
    "a.weight.data *= a.mask\n",
    "a.weight.data"
   ]
  },
  {
   "cell_type": "code",
   "execution_count": 86,
   "metadata": {},
   "outputs": [
    {
     "data": {
      "text/plain": [
       "array([[0., 1., 1.],\n",
       "       [1., 0., 0.],\n",
       "       [1., 0., 0.]])"
      ]
     },
     "execution_count": 86,
     "metadata": {},
     "output_type": "execute_result"
    }
   ],
   "source": [
    "J_interaction"
   ]
  },
  {
   "cell_type": "code",
   "execution_count": 93,
   "metadata": {},
   "outputs": [
    {
     "name": "stdout",
     "output_type": "stream",
     "text": [
      "1 0 1.0 [1, 0, 0]\n",
      "2 0 1.0 [1, 0, 0]\n"
     ]
    },
    {
     "data": {
      "text/plain": [
       "(array([[1, 0, 0],\n",
       "        [1, 0, 0]]), array([[1, 1],\n",
       "        [0, 0],\n",
       "        [0, 0]]))"
      ]
     },
     "execution_count": 93,
     "metadata": {},
     "output_type": "execute_result"
    }
   ],
   "source": [
    "N_E = []\n",
    "for r_i, row in enumerate(J_interaction):\n",
    "    for c_i, val in enumerate(row):\n",
    "        if c_i < r_i and val != 0:\n",
    "            inter_e = [0]*N\n",
    "            inter_e[c_i] = 1\n",
    "            print(r_i,c_i, val, inter_e)\n",
    "            N_E.append(inter_e)\n",
    "N_E = np.array(N_E)\n",
    "N_E, np.transpose(N_E)"
   ]
  },
  {
   "cell_type": "code",
   "execution_count": 85,
   "metadata": {},
   "outputs": [
    {
     "data": {
      "text/plain": [
       "tensor([[-0.0017,  0.4274, -0.3369],\n",
       "        [ 0.5304,  0.1198,  0.3463]])"
      ]
     },
     "execution_count": 85,
     "metadata": {},
     "output_type": "execute_result"
    }
   ],
   "source": [
    "a.weight.data"
   ]
  },
  {
   "cell_type": "code",
   "execution_count": 68,
   "metadata": {},
   "outputs": [
    {
     "data": {
      "text/plain": [
       "Parameter containing:\n",
       "tensor([0.0005, 0.0002, 0.0002], requires_grad=True)"
      ]
     },
     "execution_count": 68,
     "metadata": {},
     "output_type": "execute_result"
    }
   ],
   "source": [
    "net.net[0].bias"
   ]
  },
  {
   "cell_type": "code",
   "execution_count": 61,
   "metadata": {},
   "outputs": [],
   "source": [
    "z=torch.zeros(\n",
    "            [1, 1, N])"
   ]
  },
  {
   "cell_type": "code",
   "execution_count": 65,
   "metadata": {},
   "outputs": [
    {
     "data": {
      "text/plain": [
       "tensor([[[0.5001, 0.5001, 0.5001]]], grad_fn=<SigmoidBackward>)"
      ]
     },
     "execution_count": 65,
     "metadata": {},
     "output_type": "execute_result"
    }
   ],
   "source": [
    "net.forward(z)"
   ]
  },
  {
   "cell_type": "code",
   "execution_count": 53,
   "metadata": {},
   "outputs": [
    {
     "name": "stdout",
     "output_type": "stream",
     "text": [
      "Total number of trainable parameters: 12\n",
      " -1.681 0.004 0.972 0.071 -1.611 0.0\n",
      "free_energy: -1.681,  std_fe: 0.012, mag_mean: 0.966, entropy: 0.081 energy: -1.601 weight: 0.00"
     ]
    }
   ],
   "source": [
    "net = bp_nn.bp_nn(1,1,N, tree, True)\n",
    "result_tree = net.train()"
   ]
  },
  {
   "cell_type": "code",
   "execution_count": 54,
   "metadata": {},
   "outputs": [
    {
     "data": {
      "text/plain": [
       "Parameter containing:\n",
       "tensor([[0.0000, 0.0000, 0.0000],\n",
       "        [0.0000, 0.0000, -0.0000],\n",
       "        [1.9904, 1.9955, 0.0000]], requires_grad=True)"
      ]
     },
     "execution_count": 54,
     "metadata": {},
     "output_type": "execute_result"
    }
   ],
   "source": [
    "net.net[0].weight"
   ]
  },
  {
   "cell_type": "code",
   "execution_count": 55,
   "metadata": {},
   "outputs": [
    {
     "data": {
      "text/plain": [
       "Parameter containing:\n",
       "tensor([3.8105, 3.8266, 2.0087], requires_grad=True)"
      ]
     },
     "execution_count": 55,
     "metadata": {},
     "output_type": "execute_result"
    }
   ],
   "source": [
    "net.net[0].bias"
   ]
  },
  {
   "cell_type": "code",
   "execution_count": 75,
   "metadata": {},
   "outputs": [
    {
     "data": {
      "text/plain": [
       "Parameter containing:\n",
       "tensor([-2.8640e-04, -6.1370e-03, -3.9533e-03,  5.7749e-03,  8.2224e-04,\n",
       "         5.3187e-05,  3.6781e-03], requires_grad=True)"
      ]
     },
     "execution_count": 75,
     "metadata": {},
     "output_type": "execute_result"
    }
   ],
   "source": [
    "a = net.net[0]\n",
    "a.bias"
   ]
  },
  {
   "cell_type": "code",
   "execution_count": 76,
   "metadata": {},
   "outputs": [
    {
     "data": {
      "text/plain": [
       "tensor([[0.0000, -0.0000, 0.0000, -0.0000, -0.0000, -0.0000, 0.0000],\n",
       "        [0.0000, -0.0000, -0.0000, 0.0000, -0.0000, -0.0000, 0.0000],\n",
       "        [-0.0000, 2.0034, -0.0000, 0.0000, -0.0000, 0.0000, -0.0000],\n",
       "        [0.0000, 2.0010, -0.0000, -0.0000, -0.0000, 0.0000, 0.0000],\n",
       "        [2.0038, 0.0000, -0.0000, 0.0000, 0.0000, 0.0000, 0.0000],\n",
       "        [1.9996, 1.9960, 0.0000, 0.0000, 0.0000, -0.0000, 0.0000],\n",
       "        [1.9968, -0.0000, 0.0000, 0.0000, -0.0000, -0.0000, -0.0000]])"
      ]
     },
     "execution_count": 76,
     "metadata": {},
     "output_type": "execute_result"
    }
   ],
   "source": [
    "a.weight.data"
   ]
  },
  {
   "cell_type": "markdown",
   "metadata": {},
   "source": [
    "# Grid"
   ]
  },
  {
   "cell_type": "code",
   "execution_count": 20,
   "metadata": {},
   "outputs": [],
   "source": [
    "m = n = l = 4 # L of square grid"
   ]
  },
  {
   "cell_type": "code",
   "execution_count": 21,
   "metadata": {},
   "outputs": [
    {
     "data": {
      "image/png": "[encoded data removed]",
      "text/plain": [
       "<Figure size 576x576 with 1 Axes>"
      ]
     },
     "metadata": {},
     "output_type": "display_data"
    }
   ],
   "source": [
    "periodic = True\n",
    "N, J_interaction = graph_gen.grid_2d_interaction(n,m, periodic=periodic)"
   ]
  },
  {
   "cell_type": "code",
   "execution_count": 26,
   "metadata": {},
   "outputs": [],
   "source": [
    "j = graph_gen.fixed_value(1)\n",
    "J = graph_gen.set_J(J_interaction, j)\n",
    "h = 0.\n",
    "H = np.full((N,), h)\n",
    "beta = 2"
   ]
  },
  {
   "cell_type": "code",
   "execution_count": 27,
   "metadata": {},
   "outputs": [],
   "source": [
    "grid_2d = model.model(N, H, J, J_interaction, beta)"
   ]
  },
  {
   "cell_type": "code",
   "execution_count": 28,
   "metadata": {},
   "outputs": [],
   "source": [
    "import bp_nn\n",
    "imp.reload(bp_nn)\n",
    "net_grid = bp_nn.bp_nn(1,1,N, grid_2d, True)\n"
   ]
  },
  {
   "cell_type": "code",
   "execution_count": 30,
   "metadata": {},
   "outputs": [
    {
     "name": "stdout",
     "output_type": "stream",
     "text": [
      "Total number of trainable parameters: 272\n",
      " -2.000 0.000 0.999 0.003 -1.997 -0.0\n",
      "free_energy: -2.000,  std_fe: 0.001, mag_mean: 0.999, entropy: 0.003 energy: -1.997 weight: -0.00"
     ]
    }
   ],
   "source": [
    "result_grid = net_grid.train(batch_size=10000, batch_mean = 100000, )"
   ]
  },
  {
   "cell_type": "code",
   "execution_count": null,
   "metadata": {},
   "outputs": [],
   "source": []
  },
  {
   "cell_type": "code",
   "execution_count": null,
   "metadata": {},
   "outputs": [],
   "source": []
  }
 ],
 "metadata": {
  "kernelspec": {
   "display_name": "Python 3",
   "language": "python",
   "name": "python3"
  },
  "language_info": {
   "codemirror_mode": {
    "name": "ipython",
    "version": 3
   },
   "file_extension": ".py",
   "mimetype": "text/x-python",
   "name": "python",
   "nbconvert_exporter": "python",
   "pygments_lexer": "ipython3",
   "version": "3.7.4"
  }
 },
 "nbformat": 4,
 "nbformat_minor": 2
}
