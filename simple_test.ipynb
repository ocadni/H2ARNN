{
 "cells": [
  {
   "cell_type": "code",
   "execution_count": 1,
   "metadata": {},
   "outputs": [],
   "source": [
    "import numba\n",
    "import sys\n",
    "sys.path.insert(0, './python_lib')\n",
    "import networkx as nx\n",
    "import numpy as np\n",
    "import graph_gen\n",
    "import models\n",
    "import random\n",
    "from collections import defaultdict\n",
    "import torch\n",
    "import math\n",
    "import solvers\n",
    "import importlib"
   ]
  },
  {
   "cell_type": "code",
   "execution_count": 2,
   "metadata": {},
   "outputs": [],
   "source": [
    "%matplotlib inline"
   ]
  },
  {
   "cell_type": "markdown",
   "metadata": {},
   "source": [
    "# Spin system on tree network\n",
    "\n",
    "### inter_H -> random external fields\n",
    "\n",
    "### j_start -> values of ferromagnet interactions\n",
    "\n",
    "We generate a tree:\n",
    "1. ordered from a root\n",
    "2. non-ordered (the same nodes are swapped)"
   ]
  },
  {
   "cell_type": "code",
   "execution_count": 3,
   "metadata": {},
   "outputs": [],
   "source": [
    "Degree = 3 # degree\n",
    "Height = 3 # Height of the tree"
   ]
  },
  {
   "cell_type": "code",
   "execution_count": 4,
   "metadata": {},
   "outputs": [
    {
     "name": "stdout",
     "output_type": "stream",
     "text": [
      "[[11, 13], [2, 1], [3, 10]]\n"
     ]
    },
    {
     "data": {
      "image/png": "[encoded data removed]",
      "text/plain": [
       "<Figure size 640x480 with 2 Axes>"
      ]
     },
     "metadata": {},
     "output_type": "display_data"
    }
   ],
   "source": [
    "import importlib\n",
    "import matplotlib.pyplot as plt\n",
    "\n",
    "import graph_gen\n",
    "importlib.reload(graph_gen)\n",
    "fig, (ax0, ax1) = plt.subplots(2,1)\n",
    "N, J_interaction, G, pos = graph_gen.tree_interaction(Degree,Height)\n",
    "nx.draw(G, pos, ax=ax0, node_size=100,  with_labels=True)\n",
    "\n",
    "inter_H = 0\n",
    "H = inter_H * (2.* np.random.random(N) - 1)\n",
    "#H = np.zeros(N)\n",
    "\n",
    "num_swap = 3\n",
    "J_interaction_rand, H_rand = graph_gen.order_rand(N, \n",
    "                                                  J_interaction, \n",
    "                                                  H, num_swap=num_swap)\n",
    "\n",
    "graph_gen.plot_matrix_graph(J_interaction_rand, ax1)\n",
    "\n",
    "betas = np.arange(1e-6,2,1e-2)\n",
    "betas_fast = np.arange(0.1,2,4e-1)\n",
    "\n",
    "j_start = 1\n",
    "j = graph_gen.fixed_value(j_start)\n",
    "J = graph_gen.set_J(J_interaction, j)\n",
    "J_rand = graph_gen.set_J(J_interaction_rand, j)\n",
    "\n",
    "#N_rand, J_interaction_rand = graph_gen.tree_interaction(Degree, Height, rand=True)"
   ]
  },
  {
   "cell_type": "markdown",
   "metadata": {},
   "source": [
    "# Exact solutions\n",
    "enumerating all configurations."
   ]
  },
  {
   "cell_type": "code",
   "execution_count": 5,
   "metadata": {},
   "outputs": [],
   "source": [
    "from python_lib.models import spins_model\n",
    "importlib.reload(models)\n",
    "tree = spins_model.model(N, H, J, J_interaction)\n",
    "tree_rand = spins_model.model(N, H_rand, J_rand, J_interaction_rand)"
   ]
  },
  {
   "cell_type": "code",
   "execution_count": 6,
   "metadata": {},
   "outputs": [
    {
     "name": "stdout",
     "output_type": "stream",
     "text": [
      "beta: 0.5, Fe: -2.196 Energy: -1.42 M: 4.1e-09 S: -0.324\n",
      "beta: 0.5, Fe: -2.196 Energy: -1.42 M: 8.79e-09 S: -0.324\n"
     ]
    }
   ],
   "source": [
    "beta = 0.5\n",
    "tree.exact(beta)\n",
    "tree_rand.exact(beta);"
   ]
  },
  {
   "cell_type": "markdown",
   "metadata": {},
   "source": [
    "# Neural network solutions\n",
    "## ordered case"
   ]
  },
  {
   "cell_type": "code",
   "execution_count": 7,
   "metadata": {},
   "outputs": [
    {
     "name": "stdout",
     "output_type": "stream",
     "text": [
      " 0.50 6874 fe: -2.196 +- 0.00010 E: -1.436, S: 0.380, M: 0.0232, B1 = -0.0000\n",
      "free_energy: -2.196,  std_fe: 0.00000, mag_mean: 0.013, entropy: 0.390 energy: -1.417"
     ]
    },
    {
     "data": {
      "text/plain": [
       "tensor(-2.1960, dtype=torch.float64)"
      ]
     },
     "execution_count": 7,
     "metadata": {},
     "output_type": "execute_result"
    }
   ],
   "source": [
    "from python_lib.nets import bp_nn\n",
    "importlib.reload(bp_nn)\n",
    "bias = True\n",
    "net = bp_nn.bp_nn(tree.N, tree, bias, z2=False)\n",
    "net.train(beta=beta, \n",
    "          lr=0.001, \n",
    "        batch_size=1000,\n",
    " )\n",
    "net.compute_stat_is(beta, batch_size=5000)"
   ]
  },
  {
   "cell_type": "code",
   "execution_count": 8,
   "metadata": {},
   "outputs": [
    {
     "name": "stdout",
     "output_type": "stream",
     "text": [
      "\n",
      "free_energy: -2.196,  std_fe: 0.00011, mag_mean: 0.002, entropy: 0.386 energy: -1.423"
     ]
    },
    {
     "data": {
      "text/plain": [
       "tensor(-2.1960, dtype=torch.float64)"
      ]
     },
     "execution_count": 8,
     "metadata": {},
     "output_type": "execute_result"
    }
   ],
   "source": [
    "net.compute_stat(beta, batch_size=50000)"
   ]
  },
  {
   "cell_type": "markdown",
   "metadata": {},
   "source": [
    "## random case"
   ]
  },
  {
   "cell_type": "code",
   "execution_count": 9,
   "metadata": {},
   "outputs": [
    {
     "name": "stdout",
     "output_type": "stream",
     "text": [
      " 0.50 1000 fe: -1.881 +- 0.29479 E: -0.776, S: 0.552, M: 0.321, B1 = -1.276"
     ]
    },
    {
     "data": {
      "text/plain": [
       "{'free_energy_mean': tensor(-1.8812, dtype=torch.float64),\n",
       " 'free_energy_std': tensor(0.2948, dtype=torch.float64),\n",
       " 'entropy_mean': tensor(0.5525, dtype=torch.float64, grad_fn=<DivBackward0>),\n",
       " 'energy_mean': tensor(-0.7763),\n",
       " 'mag': tensor([-0.5740, -0.5420, -0.4920, -0.1980, -0.4120, -0.3880, -0.5000,  0.0440,\n",
       "         -0.0960, -0.3180, -0.2120, -0.3380, -0.2620, -0.2540, -0.1780]),\n",
       " 'mag_mean': tensor(0.3205)}"
      ]
     },
     "execution_count": 9,
     "metadata": {},
     "output_type": "execute_result"
    }
   ],
   "source": [
    "from python_lib.nets import bp_nn\n",
    "importlib.reload(bp_nn)\n",
    "\n",
    "net_rand = bp_nn.bp_nn(tree_rand.N, tree_rand, True, z2=False, init_zero=False,)\n",
    "                      \n",
    "net_rand.train(beta=beta, lr=0.001, \n",
    "           max_step=1000,\n",
    "               opt=\"adam\")\n"
   ]
  },
  {
   "cell_type": "code",
   "execution_count": 10,
   "metadata": {},
   "outputs": [
    {
     "name": "stdout",
     "output_type": "stream",
     "text": [
      "\n",
      "free_energy: -2.175,  std_fe: 0.00144, mag_mean: 0.200, entropy: 0.415 energy: -1.346"
     ]
    },
    {
     "data": {
      "text/plain": [
       "tensor(-2.1748, dtype=torch.float64)"
      ]
     },
     "execution_count": 10,
     "metadata": {},
     "output_type": "execute_result"
    }
   ],
   "source": [
    "net_rand.compute_stat_is(beta, batch_size=10000)"
   ]
  },
  {
   "cell_type": "markdown",
   "metadata": {},
   "source": [
    "# BP solution"
   ]
  },
  {
   "cell_type": "code",
   "execution_count": 14,
   "metadata": {},
   "outputs": [],
   "source": [
    "import bp_solver\n",
    "importlib.reload(bp_solver)\n",
    "\n",
    "bp_sol = bp_solver.BP_solver(tree_rand)"
   ]
  },
  {
   "cell_type": "code",
   "execution_count": 15,
   "metadata": {},
   "outputs": [
    {
     "data": {
      "text/plain": [
       "0.5"
      ]
     },
     "execution_count": 15,
     "metadata": {},
     "output_type": "execute_result"
    }
   ],
   "source": [
    "beta"
   ]
  },
  {
   "cell_type": "code",
   "execution_count": 16,
   "metadata": {},
   "outputs": [
    {
     "name": "stdout",
     "output_type": "stream",
     "text": [
      "fe: -1.611, ener: -0.431, M: 0.000, iter 5\n"
     ]
    }
   ],
   "source": [
    "bp_sol.converge(beta)"
   ]
  },
  {
   "cell_type": "code",
   "execution_count": null,
   "metadata": {},
   "outputs": [],
   "source": []
  },
  {
   "cell_type": "code",
   "execution_count": null,
   "metadata": {},
   "outputs": [],
   "source": []
  },
  {
   "cell_type": "code",
   "execution_count": null,
   "metadata": {},
   "outputs": [],
   "source": []
  }
 ],
 "metadata": {
  "kernelspec": {
   "display_name": "Python 3.8.13 ('base')",
   "language": "python",
   "name": "python3"
  },
  "language_info": {
   "codemirror_mode": {
    "name": "ipython",
    "version": 3
   },
   "file_extension": ".py",
   "mimetype": "text/x-python",
   "name": "python",
   "nbconvert_exporter": "python",
   "pygments_lexer": "ipython3",
   "version": "3.8.13"
  },
  "vscode": {
   "interpreter": {
    "hash": "2e62f657b8d8ca5305e9e864a899c987e9ce197630d8440f981c5ae49f158ad2"
   }
  }
 },
 "nbformat": 4,
 "nbformat_minor": 4
}
