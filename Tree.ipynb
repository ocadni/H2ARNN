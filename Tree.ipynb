{
 "cells": [
  {
   "cell_type": "code",
   "execution_count": 3,
   "metadata": {},
   "outputs": [],
   "source": [
    "import numba\n",
    "import sys\n",
    "sys.path.insert(0, './python_lib')\n",
    "import networkx as nx\n",
    "import numpy as np\n",
    "import graph_gen\n",
    "import model\n",
    "import random\n",
    "from collections import defaultdict\n",
    "import torch\n",
    "import math\n"
   ]
  },
  {
   "cell_type": "code",
   "execution_count": 4,
   "metadata": {},
   "outputs": [],
   "source": [
    "%matplotlib inline"
   ]
  },
  {
   "cell_type": "code",
   "execution_count": 97,
   "metadata": {},
   "outputs": [],
   "source": [
    "Degree = 3 # degree\n",
    "Height = 1 # Height of the tree"
   ]
  },
  {
   "cell_type": "code",
   "execution_count": 98,
   "metadata": {},
   "outputs": [
    {
     "data": {
      "image/png": "[encoded data removed]",
      "text/plain": [
       "<Figure size 576x576 with 1 Axes>"
      ]
     },
     "metadata": {},
     "output_type": "display_data"
    }
   ],
   "source": [
    "N, J_interaction = graph_gen.tree_interaction(Degree,Height)"
   ]
  },
  {
   "cell_type": "code",
   "execution_count": 99,
   "metadata": {},
   "outputs": [],
   "source": [
    "import graph_gen\n",
    "import imp\n",
    "imp.reload(graph_gen)\n",
    "j = graph_gen.fixed_value(1)\n",
    "J = graph_gen.set_J(J_interaction, j)\n",
    "h = 0.00\n",
    "H = np.full((N,), h)"
   ]
  },
  {
   "cell_type": "code",
   "execution_count": 100,
   "metadata": {},
   "outputs": [],
   "source": [
    "import model\n",
    "import imp\n",
    "imp.reload(model)\n",
    "\n",
    "tree = model.model(N, H, J, J_interaction)"
   ]
  },
  {
   "cell_type": "code",
   "execution_count": 101,
   "metadata": {},
   "outputs": [
    {
     "name": "stdout",
     "output_type": "stream",
     "text": [
      "Enumerating...\n",
      "0 / 8(0.00%), E = -2.0, Z = 7.39, F = -2.0\n",
      "Energy: -0.508 \n",
      "M: 0.0 \n",
      "S: 0.475\n",
      "Free_energy: -0.982 (-0.982)\n"
     ]
    }
   ],
   "source": [
    "F_exact = tree.exact_numba()"
   ]
  },
  {
   "cell_type": "code",
   "execution_count": 102,
   "metadata": {},
   "outputs": [],
   "source": [
    "import bp_solver\n",
    "imp.reload(bp_solver)\n",
    "from bp_solver import BP_solver"
   ]
  },
  {
   "cell_type": "code",
   "execution_count": 103,
   "metadata": {},
   "outputs": [
    {
     "name": "stdout",
     "output_type": "stream",
     "text": [
      "... -0.5077294373038432\n",
      " iter:1,  err: 0.443 free_energy -0.99... -0.5077294373038432\n",
      " iter:2,  err: 0.128 free_energy -0.98... -0.5077294373038432\n",
      " iter:3,  err: 0.000 free_energy -0.98... -0.5077294373038432\n",
      "\n",
      "end \n",
      "tot_iter: 3,  error: 0.000 free_energy: -0.98\n",
      "Energy: -0.508\n",
      "M: 0.0\n",
      "S: 0.475\n"
     ]
    }
   ],
   "source": [
    "BP_tree = BP_solver(tree) \n",
    "BP_tree.converge()"
   ]
  },
  {
   "cell_type": "code",
   "execution_count": null,
   "metadata": {},
   "outputs": [],
   "source": []
  }
 ],
 "metadata": {
  "kernelspec": {
   "display_name": "Python 3",
   "language": "python",
   "name": "python3"
  },
  "language_info": {
   "codemirror_mode": {
    "name": "ipython",
    "version": 3
   },
   "file_extension": ".py",
   "mimetype": "text/x-python",
   "name": "python",
   "nbconvert_exporter": "python",
   "pygments_lexer": "ipython3",
   "version": "3.7.4"
  }
 },
 "nbformat": 4,
 "nbformat_minor": 2
}
